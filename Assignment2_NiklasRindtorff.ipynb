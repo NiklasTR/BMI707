{
  "nbformat": 4,
  "nbformat_minor": 0,
  "metadata": {
    "colab": {
      "name": "Assignment2_NiklasRindtorff.ipynb",
      "version": "0.3.2",
      "provenance": [],
      "include_colab_link": true
    },
    "kernelspec": {
      "name": "python3",
      "display_name": "Python 3"
    }
  },
  "cells": [
    {
      "cell_type": "markdown",
      "metadata": {
        "id": "view-in-github",
        "colab_type": "text"
      },
      "source": [
        "<a href=\"https://colab.research.google.com/github/NiklasTR/bmi707/blob/master/Assignment2_NiklasRindtorff.ipynb\" target=\"_parent\"><img src=\"https://colab.research.google.com/assets/colab-badge.svg\" alt=\"Open In Colab\"/></a>"
      ]
    },
    {
      "metadata": {
        "id": "hjgxJAFHU_LU",
        "colab_type": "text"
      },
      "cell_type": "markdown",
      "source": [
        "## Assignment 2 - Convolutional Neural Networks (CNNs)"
      ]
    },
    {
      "metadata": {
        "id": "y30mEZgtVBtB",
        "colab_type": "text"
      },
      "cell_type": "markdown",
      "source": [
        "Your Name: \n",
        "\n",
        "Name of the Students You Worked With:\n",
        "\n",
        "References You Consulted:"
      ]
    },
    {
      "metadata": {
        "id": "YDST8U9VWoz2",
        "colab_type": "text"
      },
      "cell_type": "markdown",
      "source": [
        "# Part 1: Convolutional Neural Networks for Chest X-Ray Images (80 points)\n",
        "## Data and Preliminaries\n",
        "In this assignment, we will explore the NIH CXR8 database (https://www.nih.gov/news-events/news-releases/nih-clinical-center-provides-one-largest-publicly-available-chest-x-ray-datasets-scientific-community). This chest X-ray database is the basis of a series highly-cited papers/preprint papers since 2017. You will examine the images in this dataset and build your own convolutional neural networks to classify the major diagnoses."
      ]
    },
    {
      "metadata": {
        "id": "JCZRIiEfVG0N",
        "colab_type": "text"
      },
      "cell_type": "markdown",
      "source": [
        "## Question 1: Data summary (10 points)\n",
        "Deep learning is not immune from the 'garbage in, garbage out' principle. Before digging into the data, it is recommended to get a sense of how the data was generated, understand the assumptions of the data, and review the data quality. We will ask you to answer some basic questions on the NIH CXR8 dataset. Please visit the website of the NIH CXR8 database, download the metadata (Data_Entry_2017.csv) and answer the following questions."
      ]
    },
    {
      "metadata": {
        "id": "gXtVh3IrVJgB",
        "colab_type": "text"
      },
      "cell_type": "markdown",
      "source": [
        "####Question 1.1 (5 points)\n",
        "What is the file format of images in the NIH CXR8 database? What is the standard format for radiology image storage and transmission? How many images are there in the database? How many diagnostic categories are there in the database? What are they? How many images have more than one diagnosis?"
      ]
    },
    {
      "metadata": {
        "id": "rPUdn7NOVMJy",
        "colab_type": "text"
      },
      "cell_type": "markdown",
      "source": [
        "__Your Answer:__"
      ]
    },
    {
      "metadata": {
        "id": "q0HLsn3uVOR1",
        "colab_type": "text"
      },
      "cell_type": "markdown",
      "source": [
        "#### Question 1.2 (5 points)\n",
        "How many patients are there in total? How many patients contributed more than one image? Which patient ID contributed the most images and how many did he or she contribute?"
      ]
    },
    {
      "metadata": {
        "id": "19ppgFt0VRUY",
        "colab_type": "text"
      },
      "cell_type": "markdown",
      "source": [
        "__Your Answer:__"
      ]
    },
    {
      "metadata": {
        "id": "JyVq0OzcVTfH",
        "colab_type": "text"
      },
      "cell_type": "markdown",
      "source": [
        "## Question 2: Check the images (10 points)\n",
        "In the following questions, you will be asked to examine the images in the NIH CXR8 dataset. The images for Question 2.1 and 2.2 could be found at https://www.dropbox.com/sh/2h068ge9xv1g27u/AAAXVq8VYXF6HRlHvzvjy-e6a?dl=0. \n",
        "\n",
        "Feel free to collaborate with other students or consult any references. For example, this (https://lukeoakdenrayner.wordpress.com/2018/01/24/chexnet-an-in-depth-review/) and many other blog posts provide some contexts."
      ]
    },
    {
      "metadata": {
        "id": "AZgIj69yVVhC",
        "colab_type": "text"
      },
      "cell_type": "markdown",
      "source": [
        "#### Question 2.1 (2 points)\n",
        "What is the NIH-labeled diagnosis of image `00001583_014.png`? What did you see in this image? Word limit: 100 words."
      ]
    },
    {
      "metadata": {
        "id": "nz3w83OSkZDi",
        "colab_type": "text"
      },
      "cell_type": "markdown",
      "source": [
        "__Your Answer:__"
      ]
    },
    {
      "metadata": {
        "id": "4A24cNboVXDC",
        "colab_type": "text"
      },
      "cell_type": "markdown",
      "source": [
        "#### Question 2.2 (3 points)\n",
        "What is the NIH-labeled diagnosis of image `00000019_000.png`? What did you see in this image? Word limit: 100 words."
      ]
    },
    {
      "metadata": {
        "id": "mOC4OgN4kbXL",
        "colab_type": "text"
      },
      "cell_type": "markdown",
      "source": [
        "__Your Answer:__"
      ]
    },
    {
      "metadata": {
        "id": "waQr4FscVZOQ",
        "colab_type": "text"
      },
      "cell_type": "markdown",
      "source": [
        "#### Question 2.3 (5 points)\n",
        "What is \"View Position?\" How does it affect the resulting chest X-ray images visually? Word limit: 100 words."
      ]
    },
    {
      "metadata": {
        "id": "EK3dNZigkcE7",
        "colab_type": "text"
      },
      "cell_type": "markdown",
      "source": [
        "__Your Answer:__"
      ]
    },
    {
      "metadata": {
        "id": "pSSXlbA7VbLo",
        "colab_type": "text"
      },
      "cell_type": "markdown",
      "source": [
        "## Question 3: Build a custom convolutional neural network (15 points)\n",
        "For this question, we ask you to build a multi-layer convolutional neural network to classify a subset of cardiomegaly images from normal ones. Please download the training set and the validation set here (https://www.dropbox.com/sh/ojiw79q8786ua4x/AAAtaJVKEdv91Zybpi-fAfMsa?dl=0). Please DO NOT use any other image from NIH CXR8 or from other databases for this question. Feel free to use keras or any other high-level deep learning packages to classify the images.\n",
        "\n",
        "Design a convolutional neural network with at least two convolution layers, at least one max-pooling layer, and at least one dropout layer. Although you should explore various combinations of hyperparameters, we will grade this question based on the accuracy of the implementation, not the performance of the network.\n",
        "\n",
        "What is your design? What binary loss/accuracy did you get in the training and validation set? Please include your code in the assignment submission.\n",
        "\n",
        "Your neural network should have an AUC >= 0.55 when evaluated by the validation data set."
      ]
    },
    {
      "metadata": {
        "id": "r6tAWhnvU7sm",
        "colab_type": "code",
        "colab": {}
      },
      "cell_type": "code",
      "source": [
        "## Your code goes here\n",
        "################################################################################\n"
      ],
      "execution_count": 0,
      "outputs": []
    },
    {
      "metadata": {
        "id": "xkXSpQihVjUB",
        "colab_type": "text"
      },
      "cell_type": "markdown",
      "source": [
        "__Your Answer:__"
      ]
    },
    {
      "metadata": {
        "id": "0wsYHswwVlYn",
        "colab_type": "text"
      },
      "cell_type": "markdown",
      "source": [
        "## Question 4: Transfer learning: Using the VGGNet (16 layers) architecture (20 points)\n",
        "For this question, we ask you to employ VGGNet, a convolutional neural network built for ImageNet, to classify the same subset of cardiomegaly images from normal ones (https://www.dropbox.com/sh/ojiw79q8786ua4x/AAAtaJVKEdv91Zybpi-fAfMsa?dl=0). We encourage you to take a look at the documentation for keras.applications (https://keras.io/applications/) and reuse their modules. Please DO NOT use any other images from NIH CXR8 or from other databases for this question. Although you should explore various combinations of hyperparameters, we will grade this question based on the accuracy of the implementation, not the performance of the network.\n",
        "\n",
        "Your neural network should have an AUC >= 0.7 when evaluated by the validation data set."
      ]
    },
    {
      "metadata": {
        "id": "kICXlS7tVnLJ",
        "colab_type": "text"
      },
      "cell_type": "markdown",
      "source": [
        "### Question 4.1 (10 points)\n",
        "What is your best validation accuracy of fine-tuning a 16-layer VGGNet WITHOUT ImageNet weights? In your model with the lowest validation loss, what are the hyperparameters? What is the validation loss? What is the training loss/accuracy? Please include your code in the assignment submission."
      ]
    },
    {
      "metadata": {
        "id": "SfxJ3JFEkiv4",
        "colab_type": "code",
        "colab": {}
      },
      "cell_type": "code",
      "source": [
        "## Your code goes here\n",
        "################################################################################\n"
      ],
      "execution_count": 0,
      "outputs": []
    },
    {
      "metadata": {
        "id": "N_Yh0KVjVqrS",
        "colab_type": "text"
      },
      "cell_type": "markdown",
      "source": [
        "__Your Answer:__"
      ]
    },
    {
      "metadata": {
        "id": "nsnPBMwIVsho",
        "colab_type": "text"
      },
      "cell_type": "markdown",
      "source": [
        "### Question 4.2 (10 points)\n",
        "What is your best validation accuracy of fine-tuning a 16-layer VGGNet WITH ImageNet weights? In your model with the lowest validation loss, what are the hyperparameters? What is the validation loss? What is the training loss/accuracy? Please include your code in the assignment submission."
      ]
    },
    {
      "metadata": {
        "id": "wKNqvD_9Vt8e",
        "colab_type": "code",
        "colab": {}
      },
      "cell_type": "code",
      "source": [
        "## Your code goes here\n",
        "################################################################################\n"
      ],
      "execution_count": 0,
      "outputs": []
    },
    {
      "metadata": {
        "id": "-6mlL3eGklj3",
        "colab_type": "text"
      },
      "cell_type": "markdown",
      "source": [
        "__Your Answer:__"
      ]
    },
    {
      "metadata": {
        "id": "USEauOuqVwMa",
        "colab_type": "text"
      },
      "cell_type": "markdown",
      "source": [
        "## Question 5: Multi-class classification and the BMI707 Kaggle contest (20 points)\n",
        "In this question, we will build multi-class classifiers to distinguish different types of lung diseases using the NIHCXR8 data.\n",
        "Please download the training set and the validation set from the BMI707 Kaggle contest website (https://www.kaggle.com/c/2019bmi707-assignment-2-q5/data ). Please note that this dataset is different from the one we used in Question 3 and 4. Please DO NOT use any additional dataset (including those from NIH CXR8) to train or augment your models. Feel free to use any (ImageNet or any custom) architecture to classify all available classes. In your model with the lowest validation loss, what are the hyperparameters? What is the validation loss/accuracy? What is the training loss/accuracy? Please participate in the BMI707 internal Kaggle contest (https://www.kaggle.com/c/2019bmi707-assignment-2-q5) and compare your results with others there. An ensemble of models is allowed. The top 5 submissions with the highest accuracy on the private test set (testPrivate.tar) will receive bonus points. Please include your code in the assignment submission."
      ]
    },
    {
      "metadata": {
        "id": "TFvVk30iVyXL",
        "colab_type": "code",
        "colab": {}
      },
      "cell_type": "code",
      "source": [
        "## Your code goes here\n",
        "################################################################################\n"
      ],
      "execution_count": 0,
      "outputs": []
    },
    {
      "metadata": {
        "id": "MpVkb-gDV0Fj",
        "colab_type": "text"
      },
      "cell_type": "markdown",
      "source": [
        "## Question 6: Limitations of the NIH CXR8 dataset and the road ahead (5 points)"
      ]
    },
    {
      "metadata": {
        "id": "5jfRAuFuV0nH",
        "colab_type": "text"
      },
      "cell_type": "markdown",
      "source": [
        "Please list three limitations of models trained from this dataset. Word limit: 150 words."
      ]
    },
    {
      "metadata": {
        "id": "EGGjMU3aU_7H",
        "colab_type": "text"
      },
      "cell_type": "markdown",
      "source": [
        "__Your Answer:__"
      ]
    },
    {
      "metadata": {
        "id": "fqK0h9zvWibE",
        "colab_type": "text"
      },
      "cell_type": "markdown",
      "source": [
        "# Part 2: Recurrent Neural Networks (20 points)\n",
        "\n",
        "During the in-class exercise of Lecture 4, we implemented a simple recurrent neural network for classifying newswires from Reuters. In this question, you will implement a recurrent neural network model using long short-term memory (LSTM) or gated recurrent unit (GRU), and compare its performance with that of the simple recurrent neural network in the in-class exercise using the same dataset. "
      ]
    },
    {
      "metadata": {
        "id": "i1GWJFuVWbfO",
        "colab_type": "text"
      },
      "cell_type": "markdown",
      "source": [
        "## Question 7: Build a recurrent neural network with LSTM or GRU for text classification (15 points)\n",
        "\n"
      ]
    },
    {
      "metadata": {
        "id": "EfYxSWOumpki",
        "colab_type": "code",
        "colab": {}
      },
      "cell_type": "code",
      "source": [
        "## Your code goes here\n",
        "################################################################################\n"
      ],
      "execution_count": 0,
      "outputs": []
    },
    {
      "metadata": {
        "id": "2NMeBxJtnxH0",
        "colab_type": "text"
      },
      "cell_type": "markdown",
      "source": [
        "## Question 8: How does the performance of your model compare with that of the simple recurrent neural network model in the in-class exercise? Why? (5 points)\n",
        "\n",
        "Word limit: 100 words."
      ]
    },
    {
      "metadata": {
        "id": "mmNA0FTQky06",
        "colab_type": "text"
      },
      "cell_type": "markdown",
      "source": [
        "__Your Answer:__"
      ]
    }
  ]
}