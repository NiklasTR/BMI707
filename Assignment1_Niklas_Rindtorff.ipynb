{
  "nbformat": 4,
  "nbformat_minor": 0,
  "metadata": {
    "colab": {
      "name": "Assignment1_Niklas_Rindtorff.ipynb",
      "version": "0.3.2",
      "provenance": [],
      "collapsed_sections": [],
      "include_colab_link": true
    },
    "kernelspec": {
      "name": "python3",
      "display_name": "Python 3"
    },
    "accelerator": "TPU"
  },
  "cells": [
    {
      "cell_type": "markdown",
      "metadata": {
        "id": "view-in-github",
        "colab_type": "text"
      },
      "source": [
        "<a href=\"https://colab.research.google.com/github/NiklasTR/bmi707/blob/master/Assignment1_Niklas_Rindtorff.ipynb\" target=\"_parent\"><img src=\"https://colab.research.google.com/assets/colab-badge.svg\" alt=\"Open In Colab\"/></a>"
      ]
    },
    {
      "metadata": {
        "id": "ZUuP6ZAbYuh-",
        "colab_type": "text"
      },
      "cell_type": "markdown",
      "source": [
        "# Assignment 1: Backpropagation and Multilayer Neural Networks"
      ]
    },
    {
      "metadata": {
        "id": "XrYwPCdqZiLV",
        "colab_type": "text"
      },
      "cell_type": "markdown",
      "source": [
        "Your Name: Niklas Rindtorff\n",
        "\n",
        "Name of the Students You Worked With: NA\n",
        "\n",
        "References You Consulted:"
      ]
    },
    {
      "metadata": {
        "id": "9B3KIIQtZZNF",
        "colab_type": "text"
      },
      "cell_type": "markdown",
      "source": [
        "Feel free to use the Google Colab environment (https://colab.research.google.com/notebooks/welcome.ipynb) or follow the instructions on the course website (https://hms-dbmi.github.io/BMI_707/resources/) to setup python environment.\n",
        "\n",
        "## Part 1: Data Exploration (20 points)\n",
        "In this assignment, we will use a modified dataset from the Pima Indian Diabetes Database (https://www.kaggle.com/uciml/pima-indians-diabetes-database). This dataset is released under the CC0 1.0 Universal (CC0 1.0) Public Domain Dedication (https://creativecommons.org/publicdomain/zero/1.0/).\n",
        "\n",
        "Below is a brief data description of this dataset from Kaggle (https://www.kaggle.com/uciml/pima-indians-diabetes-database):\n",
        "\"This dataset is originally from the National Institute of Diabetes and Digestive and Kidney Diseases. The objective of the dataset is to diagnostically predict whether or not a patient has diabetes, based on certain diagnostic measurements included in the dataset. Several constraints were placed on the selection of these instances from a larger database. In particular, all patients here are females at least 21 years old of Pima Indian heritage.\" \"The dataset consists of several medical predictor variables and one target variable, Outcome. Predictor variables include the number of pregnancies the patient has had, their BMI, insulin level, age, and so on.\"\n",
        "\n",
        "**Please note that we have modified the dataset a little to simplify the analyses. Please use the codes below to read in the modified files.**"
      ]
    },
    {
      "metadata": {
        "id": "8VSpYmQTMkJ4",
        "colab_type": "code",
        "colab": {}
      },
      "cell_type": "code",
      "source": [
        "# import python packages\n",
        "import numpy as np              # linear algebra\n",
        "import pandas as pd             # to process the input files\n",
        "\n",
        "import matplotlib.pyplot as plt # for plotting\n",
        "%matplotlib inline\n",
        "\n",
        "\n",
        "import scipy \n"
      ],
      "execution_count": 0,
      "outputs": []
    },
    {
      "metadata": {
        "id": "OVeD0InnXhE2",
        "colab_type": "code",
        "colab": {
          "base_uri": "https://localhost:8080/",
          "height": 241
        },
        "outputId": "a8a5dba3-8f3a-49ff-841c-31669ad4667a"
      },
      "cell_type": "code",
      "source": [
        "# updating the plotting library\n",
        "!pip install seaborn==0.9.0\n",
        "import seaborn as sea"
      ],
      "execution_count": 108,
      "outputs": [
        {
          "output_type": "stream",
          "text": [
            "Requirement already satisfied: seaborn==0.9.0 in /usr/local/lib/python3.6/dist-packages (0.9.0)\n",
            "Requirement already satisfied: numpy>=1.9.3 in /usr/local/lib/python3.6/dist-packages (from seaborn==0.9.0) (1.16.2)\n",
            "Requirement already satisfied: pandas>=0.15.2 in /usr/local/lib/python3.6/dist-packages (from seaborn==0.9.0) (0.23.4)\n",
            "Requirement already satisfied: scipy>=0.14.0 in /usr/local/lib/python3.6/dist-packages (from seaborn==0.9.0) (1.2.1)\n",
            "Requirement already satisfied: matplotlib>=1.4.3 in /usr/local/lib/python3.6/dist-packages (from seaborn==0.9.0) (3.0.3)\n",
            "Requirement already satisfied: python-dateutil>=2.5.0 in /usr/local/lib/python3.6/dist-packages (from pandas>=0.15.2->seaborn==0.9.0) (2.5.3)\n",
            "Requirement already satisfied: pytz>=2011k in /usr/local/lib/python3.6/dist-packages (from pandas>=0.15.2->seaborn==0.9.0) (2018.9)\n",
            "Requirement already satisfied: cycler>=0.10 in /usr/local/lib/python3.6/dist-packages (from matplotlib>=1.4.3->seaborn==0.9.0) (0.10.0)\n",
            "Requirement already satisfied: kiwisolver>=1.0.1 in /usr/local/lib/python3.6/dist-packages (from matplotlib>=1.4.3->seaborn==0.9.0) (1.0.1)\n",
            "Requirement already satisfied: pyparsing!=2.0.4,!=2.1.2,!=2.1.6,>=2.0.1 in /usr/local/lib/python3.6/dist-packages (from matplotlib>=1.4.3->seaborn==0.9.0) (2.4.0)\n",
            "Requirement already satisfied: six>=1.5 in /usr/local/lib/python3.6/dist-packages (from python-dateutil>=2.5.0->pandas>=0.15.2->seaborn==0.9.0) (1.11.0)\n",
            "Requirement already satisfied: setuptools in /usr/local/lib/python3.6/dist-packages (from kiwisolver>=1.0.1->matplotlib>=1.4.3->seaborn==0.9.0) (40.9.0)\n"
          ],
          "name": "stdout"
        }
      ]
    },
    {
      "metadata": {
        "id": "iaTLmw6fNfi-",
        "colab_type": "code",
        "outputId": "d120123d-26e3-48c6-f444-a15a1ea71fb1",
        "colab": {
          "base_uri": "https://localhost:8080/",
          "height": 204
        }
      },
      "cell_type": "code",
      "source": [
        "# read in the data files; please use these files, instead of the raw files from the Pima Indian Diabetes Database\n",
        "train_data = pd.read_csv('https://www.dropbox.com/s/n0jjos6faoyqncp/diabetesTrain.csv?dl=1')\n",
        "test_data = pd.read_csv('https://www.dropbox.com/s/6uu2754iqv4cxei/diabetesTest.csv?dl=1')\n",
        "\n",
        "# check the data files\n",
        "train_data.head()"
      ],
      "execution_count": 109,
      "outputs": [
        {
          "output_type": "execute_result",
          "data": {
            "text/html": [
              "<div>\n",
              "<style scoped>\n",
              "    .dataframe tbody tr th:only-of-type {\n",
              "        vertical-align: middle;\n",
              "    }\n",
              "\n",
              "    .dataframe tbody tr th {\n",
              "        vertical-align: top;\n",
              "    }\n",
              "\n",
              "    .dataframe thead th {\n",
              "        text-align: right;\n",
              "    }\n",
              "</style>\n",
              "<table border=\"1\" class=\"dataframe\">\n",
              "  <thead>\n",
              "    <tr style=\"text-align: right;\">\n",
              "      <th></th>\n",
              "      <th>Pregnancies</th>\n",
              "      <th>Glucose</th>\n",
              "      <th>BloodPressure</th>\n",
              "      <th>SkinThickness</th>\n",
              "      <th>Insulin</th>\n",
              "      <th>BMI</th>\n",
              "      <th>DiabetesPedigreeFunction</th>\n",
              "      <th>Age</th>\n",
              "      <th>Outcome</th>\n",
              "    </tr>\n",
              "  </thead>\n",
              "  <tbody>\n",
              "    <tr>\n",
              "      <th>0</th>\n",
              "      <td>2</td>\n",
              "      <td>99.0</td>\n",
              "      <td>70.0</td>\n",
              "      <td>16.000000</td>\n",
              "      <td>44.000000</td>\n",
              "      <td>20.4</td>\n",
              "      <td>0.235</td>\n",
              "      <td>27</td>\n",
              "      <td>0</td>\n",
              "    </tr>\n",
              "    <tr>\n",
              "      <th>1</th>\n",
              "      <td>7</td>\n",
              "      <td>136.0</td>\n",
              "      <td>74.0</td>\n",
              "      <td>26.000000</td>\n",
              "      <td>135.000000</td>\n",
              "      <td>26.0</td>\n",
              "      <td>0.647</td>\n",
              "      <td>51</td>\n",
              "      <td>0</td>\n",
              "    </tr>\n",
              "    <tr>\n",
              "      <th>2</th>\n",
              "      <td>1</td>\n",
              "      <td>97.0</td>\n",
              "      <td>70.0</td>\n",
              "      <td>15.000000</td>\n",
              "      <td>153.777049</td>\n",
              "      <td>18.2</td>\n",
              "      <td>0.147</td>\n",
              "      <td>21</td>\n",
              "      <td>0</td>\n",
              "    </tr>\n",
              "    <tr>\n",
              "      <th>3</th>\n",
              "      <td>2</td>\n",
              "      <td>90.0</td>\n",
              "      <td>60.0</td>\n",
              "      <td>28.962963</td>\n",
              "      <td>153.777049</td>\n",
              "      <td>23.5</td>\n",
              "      <td>0.191</td>\n",
              "      <td>25</td>\n",
              "      <td>0</td>\n",
              "    </tr>\n",
              "    <tr>\n",
              "      <th>4</th>\n",
              "      <td>8</td>\n",
              "      <td>188.0</td>\n",
              "      <td>78.0</td>\n",
              "      <td>28.962963</td>\n",
              "      <td>153.777049</td>\n",
              "      <td>47.9</td>\n",
              "      <td>0.137</td>\n",
              "      <td>43</td>\n",
              "      <td>1</td>\n",
              "    </tr>\n",
              "  </tbody>\n",
              "</table>\n",
              "</div>"
            ],
            "text/plain": [
              "   Pregnancies  Glucose  BloodPressure  SkinThickness     Insulin   BMI  \\\n",
              "0            2     99.0           70.0      16.000000   44.000000  20.4   \n",
              "1            7    136.0           74.0      26.000000  135.000000  26.0   \n",
              "2            1     97.0           70.0      15.000000  153.777049  18.2   \n",
              "3            2     90.0           60.0      28.962963  153.777049  23.5   \n",
              "4            8    188.0           78.0      28.962963  153.777049  47.9   \n",
              "\n",
              "   DiabetesPedigreeFunction  Age  Outcome  \n",
              "0                     0.235   27        0  \n",
              "1                     0.647   51        0  \n",
              "2                     0.147   21        0  \n",
              "3                     0.191   25        0  \n",
              "4                     0.137   43        1  "
            ]
          },
          "metadata": {
            "tags": []
          },
          "execution_count": 109
        }
      ]
    },
    {
      "metadata": {
        "id": "TBO8azPZWfbC",
        "colab_type": "code",
        "colab": {}
      },
      "cell_type": "code",
      "source": [
        "# construct the design matrix for the input features and the outcome vector\n",
        "features = list(train_data.columns.values)\n",
        "features.remove('Outcome')\n",
        "X_train = train_data[features]\n",
        "y_train = train_data['Outcome']\n",
        "X_val = test_data[features]\n",
        "y_val = test_data['Outcome']"
      ],
      "execution_count": 0,
      "outputs": []
    },
    {
      "metadata": {
        "id": "E7VOsiOfZ5cq",
        "colab_type": "text"
      },
      "cell_type": "markdown",
      "source": [
        "### Question 1.1: How many people have outcome \"1\" (diabetes) in the training set? How many people do not have diabetes in the training set? (5 points)\n",
        "Hint: The Pandas library has some handy functions for this task.\n"
      ]
    },
    {
      "metadata": {
        "id": "p_rb6uaZwgH4",
        "colab_type": "code",
        "outputId": "1b4c8ab0-f403-4a4d-88e5-59aefc7e33c7",
        "colab": {
          "base_uri": "https://localhost:8080/",
          "height": 68
        }
      },
      "cell_type": "code",
      "source": [
        "# Your codes and answers here\n",
        "# This is the absolute count\n",
        "y_train.value_counts()\n",
        "# I look at the percentage\n",
        "#y_train.value_counts(normalize=True)"
      ],
      "execution_count": 111,
      "outputs": [
        {
          "output_type": "execute_result",
          "data": {
            "text/plain": [
              "0    395\n",
              "1    219\n",
              "Name: Outcome, dtype: int64"
            ]
          },
          "metadata": {
            "tags": []
          },
          "execution_count": 111
        }
      ]
    },
    {
      "metadata": {
        "id": "ukci9gC2aCFp",
        "colab_type": "text"
      },
      "cell_type": "markdown",
      "source": [
        "395 participants have diabetes, 219 are unaffected."
      ]
    },
    {
      "metadata": {
        "id": "7uSGi7TaakZ-",
        "colab_type": "text"
      },
      "cell_type": "markdown",
      "source": [
        "### Question 1.2: What's the median BMI in the training cohort? What's the median BMI among diabetic and non-diabetic patients in the training and test set, respectively? (5 points)\n",
        "Hint: Feel free to use the Statistics library in Python\n",
        "\n"
      ]
    },
    {
      "metadata": {
        "id": "gg69NCEXwpvZ",
        "colab_type": "code",
        "outputId": "69143268-b86b-413e-8a8b-672246e6fc74",
        "colab": {
          "base_uri": "https://localhost:8080/",
          "height": 34
        }
      },
      "cell_type": "code",
      "source": [
        "# Your codes and answers here\n",
        "X_train['BMI'].median()"
      ],
      "execution_count": 112,
      "outputs": [
        {
          "output_type": "execute_result",
          "data": {
            "text/plain": [
              "32.349999999999994"
            ]
          },
          "metadata": {
            "tags": []
          },
          "execution_count": 112
        }
      ]
    },
    {
      "metadata": {
        "id": "4v8vQ8S8abo3",
        "colab_type": "text"
      },
      "cell_type": "markdown",
      "source": [
        "The median BMI across the whole cohort is 32.35"
      ]
    },
    {
      "metadata": {
        "id": "077YaxNQafgE",
        "colab_type": "code",
        "outputId": "d32edc4f-a2db-4b3e-85a0-ab85bcaf5d91",
        "colab": {
          "base_uri": "https://localhost:8080/",
          "height": 34
        }
      },
      "cell_type": "code",
      "source": [
        "X_train[y_train == 1]['BMI'].median()\n"
      ],
      "execution_count": 113,
      "outputs": [
        {
          "output_type": "execute_result",
          "data": {
            "text/plain": [
              "34.3"
            ]
          },
          "metadata": {
            "tags": []
          },
          "execution_count": 113
        }
      ]
    },
    {
      "metadata": {
        "id": "Ouj7vYoi2pXn",
        "colab_type": "text"
      },
      "cell_type": "markdown",
      "source": [
        "The median BMI for diabetics in the training cohort is 34.3"
      ]
    },
    {
      "metadata": {
        "id": "_OGayfYEbjf2",
        "colab_type": "code",
        "outputId": "b62674e4-87a3-4721-8f78-0c90cb9488f6",
        "colab": {
          "base_uri": "https://localhost:8080/",
          "height": 34
        }
      },
      "cell_type": "code",
      "source": [
        "X_train[y_train == 0]['BMI'].median()"
      ],
      "execution_count": 114,
      "outputs": [
        {
          "output_type": "execute_result",
          "data": {
            "text/plain": [
              "30.1"
            ]
          },
          "metadata": {
            "tags": []
          },
          "execution_count": 114
        }
      ]
    },
    {
      "metadata": {
        "id": "7_TX6k0h2t5I",
        "colab_type": "text"
      },
      "cell_type": "markdown",
      "source": [
        "The median BMI for non-diabetics in the training cohort is 30.1"
      ]
    },
    {
      "metadata": {
        "id": "kqeL8Zo_bjqP",
        "colab_type": "code",
        "outputId": "673cc6b4-c0e0-492d-e21c-02683d0153f7",
        "colab": {
          "base_uri": "https://localhost:8080/",
          "height": 88
        }
      },
      "cell_type": "code",
      "source": [
        "X_val[y_train == 1]['BMI'].median()"
      ],
      "execution_count": 115,
      "outputs": [
        {
          "output_type": "stream",
          "text": [
            "/usr/local/lib/python3.6/dist-packages/ipykernel_launcher.py:1: UserWarning: Boolean Series key will be reindexed to match DataFrame index.\n",
            "  \"\"\"Entry point for launching an IPython kernel.\n"
          ],
          "name": "stderr"
        },
        {
          "output_type": "execute_result",
          "data": {
            "text/plain": [
              "33.099999999999994"
            ]
          },
          "metadata": {
            "tags": []
          },
          "execution_count": 115
        }
      ]
    },
    {
      "metadata": {
        "id": "O6tuxnX723l0",
        "colab_type": "text"
      },
      "cell_type": "markdown",
      "source": [
        "The median BMI for diabetics in the training cohort is 33.1"
      ]
    },
    {
      "metadata": {
        "id": "2QFE-0wJbk1B",
        "colab_type": "code",
        "outputId": "829d5aaa-bb47-447a-8422-561dd3cadba3",
        "colab": {
          "base_uri": "https://localhost:8080/",
          "height": 88
        }
      },
      "cell_type": "code",
      "source": [
        "X_val[y_train == 0]['BMI'].median()"
      ],
      "execution_count": 116,
      "outputs": [
        {
          "output_type": "stream",
          "text": [
            "/usr/local/lib/python3.6/dist-packages/ipykernel_launcher.py:1: UserWarning: Boolean Series key will be reindexed to match DataFrame index.\n",
            "  \"\"\"Entry point for launching an IPython kernel.\n"
          ],
          "name": "stderr"
        },
        {
          "output_type": "execute_result",
          "data": {
            "text/plain": [
              "32.58166666666665"
            ]
          },
          "metadata": {
            "tags": []
          },
          "execution_count": 116
        }
      ]
    },
    {
      "metadata": {
        "id": "RhIstFOr2_pV",
        "colab_type": "text"
      },
      "cell_type": "markdown",
      "source": [
        "The median BMI for diabetics in the training cohort is 32.6"
      ]
    },
    {
      "metadata": {
        "id": "mgdI0qfucJyb",
        "colab_type": "text"
      },
      "cell_type": "markdown",
      "source": [
        "### Question 1.3: Is BMI associated with diabetes in the training cohort? Why? (5 points)\n",
        "Hint: Feel free to use any statistical test, but be sure to **mention the assumption(s) of the test you chose**.\n",
        "\n",
        "Word limit: 100 words."
      ]
    },
    {
      "metadata": {
        "id": "N2kk5nHV3I8U",
        "colab_type": "text"
      },
      "cell_type": "markdown",
      "source": [
        "I perform a two-sided Wilcoxon Rank Sum test for this purpose. This approach comes with the smallest number of assumptions. It is a non-parametric, rank-based, test. Given the large dataset-size, I am still sufficiently-powered."
      ]
    },
    {
      "metadata": {
        "id": "FsEMvufSwkzQ",
        "colab_type": "code",
        "colab": {
          "base_uri": "https://localhost:8080/",
          "height": 34
        },
        "outputId": "b3694756-2492-4c8d-f5d2-58c49ccb8ed4"
      },
      "cell_type": "code",
      "source": [
        "# Your codes and answers here\n",
        "result = scipy.stats.ranksums(X_train[y_train == 1], X_train[y_train == 0])\n",
        "result"
      ],
      "execution_count": 117,
      "outputs": [
        {
          "output_type": "execute_result",
          "data": {
            "text/plain": [
              "RanksumsResult(statistic=242.34222522138288, pvalue=0.0)"
            ]
          },
          "metadata": {
            "tags": []
          },
          "execution_count": 117
        }
      ]
    },
    {
      "metadata": {
        "id": "Fcq2Bjhi4GG3",
        "colab_type": "text"
      },
      "cell_type": "markdown",
      "source": [
        "BMI is associated with diabetes in the training cohort. The Wilcoxon Rank Sum test shows a significant difference in BMI between the two groups."
      ]
    },
    {
      "metadata": {
        "id": "qOK9ebs_gPNg",
        "colab_type": "text"
      },
      "cell_type": "markdown",
      "source": [
        "### Question 1.4: From the analyses 1.1-1.3 and the data description (https://www.kaggle.com/uciml/pima-indians-diabetes-database) alone (and without resorting to any of your prior knowledge), do you think losing weight would reduce the training set participants' risk of developing diabetes? (5 points)\n",
        "Word limit: 100 words."
      ]
    },
    {
      "metadata": {
        "id": "tyLaL2OC4nVu",
        "colab_type": "text"
      },
      "cell_type": "markdown",
      "source": [
        "The medical predictors in the dataset are supposed to be used to identify patients with diabetes. We can fit a logistic regression model to predict the presence of diabetes based on these predictors. Depending on the coefficients, and the key assumption that all variables are independet, we can identify how the risk of developing diabetes is influenced by the BMI (log odds-ratio)."
      ]
    },
    {
      "metadata": {
        "id": "TVRz8u-3wuWR",
        "colab_type": "code",
        "colab": {
          "base_uri": "https://localhost:8080/",
          "height": 71
        },
        "outputId": "b67f4fbc-3773-41b7-d5ca-84572223b04d"
      },
      "cell_type": "code",
      "source": [
        "# Your codes and answers here\n",
        "from sklearn.linear_model import LogisticRegression\n",
        "\n",
        "clf = LogisticRegression(random_state=0).fit(X_train, y_train)\n",
        "\n",
        "df = clf.densify()"
      ],
      "execution_count": 118,
      "outputs": [
        {
          "output_type": "stream",
          "text": [
            "/usr/local/lib/python3.6/dist-packages/sklearn/linear_model/logistic.py:433: FutureWarning: Default solver will be changed to 'lbfgs' in 0.22. Specify a solver to silence this warning.\n",
            "  FutureWarning)\n"
          ],
          "name": "stderr"
        }
      ]
    },
    {
      "metadata": {
        "id": "7WXojy9F8WT3",
        "colab_type": "text"
      },
      "cell_type": "markdown",
      "source": [
        "As the table below illustrates, increasing the BMI of a participant by one unit, increases the odds of developing diabetes by 8%. Thus, reducing a person's BMI is a valid approach to reducing the risk of diabetes. The only two more relevant factors in our model are (1) the family history and (2) the number of pregnancies. "
      ]
    },
    {
      "metadata": {
        "id": "yKWvmkmd7Nma",
        "colab_type": "code",
        "colab": {
          "base_uri": "https://localhost:8080/",
          "height": 297
        },
        "outputId": "7db3cdfa-2e7b-48b3-8fae-201bdc6c6b0d"
      },
      "cell_type": "code",
      "source": [
        "df = pd.concat([pd.DataFrame({'name' : X_train.columns}),\n",
        "           pd.DataFrame(np.transpose(clf.coef_))],axis = 1)\n",
        "\n",
        "df.assign(log_or=lambda df: np.exp(df.iloc[:,1])).iloc[:,[0, 1,2]]"
      ],
      "execution_count": 119,
      "outputs": [
        {
          "output_type": "execute_result",
          "data": {
            "text/html": [
              "<div>\n",
              "<style scoped>\n",
              "    .dataframe tbody tr th:only-of-type {\n",
              "        vertical-align: middle;\n",
              "    }\n",
              "\n",
              "    .dataframe tbody tr th {\n",
              "        vertical-align: top;\n",
              "    }\n",
              "\n",
              "    .dataframe thead th {\n",
              "        text-align: right;\n",
              "    }\n",
              "</style>\n",
              "<table border=\"1\" class=\"dataframe\">\n",
              "  <thead>\n",
              "    <tr style=\"text-align: right;\">\n",
              "      <th></th>\n",
              "      <th>name</th>\n",
              "      <th>0</th>\n",
              "      <th>log_or</th>\n",
              "    </tr>\n",
              "  </thead>\n",
              "  <tbody>\n",
              "    <tr>\n",
              "      <th>0</th>\n",
              "      <td>Pregnancies</td>\n",
              "      <td>0.131265</td>\n",
              "      <td>1.140270</td>\n",
              "    </tr>\n",
              "    <tr>\n",
              "      <th>1</th>\n",
              "      <td>Glucose</td>\n",
              "      <td>0.031740</td>\n",
              "      <td>1.032249</td>\n",
              "    </tr>\n",
              "    <tr>\n",
              "      <th>2</th>\n",
              "      <td>BloodPressure</td>\n",
              "      <td>-0.030721</td>\n",
              "      <td>0.969746</td>\n",
              "    </tr>\n",
              "    <tr>\n",
              "      <th>3</th>\n",
              "      <td>SkinThickness</td>\n",
              "      <td>-0.008189</td>\n",
              "      <td>0.991845</td>\n",
              "    </tr>\n",
              "    <tr>\n",
              "      <th>4</th>\n",
              "      <td>Insulin</td>\n",
              "      <td>-0.000414</td>\n",
              "      <td>0.999586</td>\n",
              "    </tr>\n",
              "    <tr>\n",
              "      <th>5</th>\n",
              "      <td>BMI</td>\n",
              "      <td>0.079000</td>\n",
              "      <td>1.082205</td>\n",
              "    </tr>\n",
              "    <tr>\n",
              "      <th>6</th>\n",
              "      <td>DiabetesPedigreeFunction</td>\n",
              "      <td>0.523808</td>\n",
              "      <td>1.688445</td>\n",
              "    </tr>\n",
              "    <tr>\n",
              "      <th>7</th>\n",
              "      <td>Age</td>\n",
              "      <td>0.005901</td>\n",
              "      <td>1.005918</td>\n",
              "    </tr>\n",
              "  </tbody>\n",
              "</table>\n",
              "</div>"
            ],
            "text/plain": [
              "                       name         0    log_or\n",
              "0               Pregnancies  0.131265  1.140270\n",
              "1                   Glucose  0.031740  1.032249\n",
              "2             BloodPressure -0.030721  0.969746\n",
              "3             SkinThickness -0.008189  0.991845\n",
              "4                   Insulin -0.000414  0.999586\n",
              "5                       BMI  0.079000  1.082205\n",
              "6  DiabetesPedigreeFunction  0.523808  1.688445\n",
              "7                       Age  0.005901  1.005918"
            ]
          },
          "metadata": {
            "tags": []
          },
          "execution_count": 119
        }
      ]
    },
    {
      "metadata": {
        "id": "rOxpyZLoiRFj",
        "colab_type": "text"
      },
      "cell_type": "markdown",
      "source": [
        "## Part 2: Perceptrons and Backpropagation (30 points)\n",
        "In this section, we will implement perceptron and backpropagation from scratch, and apply them to the dataset we explored in Part 1.\n",
        "\n",
        "Please do **NOT** use Keras, Pytorch, Lasagne, Tensorflow, or any other high-level abstraction of machine learning frameworks. Upon completing this exercise from scratch, you will gain a deep understanding of what's under the hood of popular deep learning packages.\n",
        "\n",
        "The only allowed packages are numpy, pandas, and matplotlib.pyplot. The roc_auc_score function in sklearn.metrics is also allowed, but other functions from sklearn are prohibited."
      ]
    },
    {
      "metadata": {
        "id": "G0jsQQaLny-N",
        "colab_type": "text"
      },
      "cell_type": "markdown",
      "source": [
        "### Question 2.1: Please complete the function for the forward pass below. (5 points)\n",
        "**No loops are allowed.** Please use only matrix, vector, or element-wise operations."
      ]
    },
    {
      "metadata": {
        "id": "cizjivfKCKcg",
        "colab_type": "code",
        "colab": {}
      },
      "cell_type": "code",
      "source": [
        "# defining the sigmoid\n",
        "def sigmoid(x):\n",
        "  return 1 / (1 + np.exp(-x))"
      ],
      "execution_count": 0,
      "outputs": []
    },
    {
      "metadata": {
        "id": "tKlYvr0O5Tne",
        "colab_type": "code",
        "colab": {}
      },
      "cell_type": "code",
      "source": [
        "# Please complete this function, and make it return the desired result\n",
        "# X: the design matrix of the input features\n",
        "# w: weight vector\n",
        "def forward_pass(X,w):\n",
        "  # I hide my intercept parameter in the weight vector. It is the first element.\n",
        "  ww = np.delete(w, 0)\n",
        "  wb = w[0]\n",
        "  \n",
        "  # I introduce a sigmoid activation function\n",
        "  return(sigmoid(X.dot(ww) + wb))"
      ],
      "execution_count": 0,
      "outputs": []
    },
    {
      "metadata": {
        "id": "CN6MQiTjATbX",
        "colab_type": "code",
        "colab": {
          "base_uri": "https://localhost:8080/",
          "height": 204
        },
        "outputId": "e4e882f8-403c-4eb3-e12d-7467654f0c03"
      },
      "cell_type": "code",
      "source": [
        "# I test drive my function \n",
        "# Just for fun, I inject some prior knowledge from my logistic regression\n",
        "w = np.array([0, 0.13, 0.03, -0.03, -0.08, -0.0004, -0.008, -0.5, -0.006])\n",
        "\n",
        "pd.concat([forward_pass(X_train, w), y_train], axis=1).reset_index().head()\n"
      ],
      "execution_count": 122,
      "outputs": [
        {
          "output_type": "execute_result",
          "data": {
            "text/html": [
              "<div>\n",
              "<style scoped>\n",
              "    .dataframe tbody tr th:only-of-type {\n",
              "        vertical-align: middle;\n",
              "    }\n",
              "\n",
              "    .dataframe tbody tr th {\n",
              "        vertical-align: top;\n",
              "    }\n",
              "\n",
              "    .dataframe thead th {\n",
              "        text-align: right;\n",
              "    }\n",
              "</style>\n",
              "<table border=\"1\" class=\"dataframe\">\n",
              "  <thead>\n",
              "    <tr style=\"text-align: right;\">\n",
              "      <th></th>\n",
              "      <th>index</th>\n",
              "      <th>0</th>\n",
              "      <th>Outcome</th>\n",
              "    </tr>\n",
              "  </thead>\n",
              "  <tbody>\n",
              "    <tr>\n",
              "      <th>0</th>\n",
              "      <td>0</td>\n",
              "      <td>0.351991</td>\n",
              "      <td>0</td>\n",
              "    </tr>\n",
              "    <tr>\n",
              "      <th>1</th>\n",
              "      <td>1</td>\n",
              "      <td>0.449795</td>\n",
              "      <td>0</td>\n",
              "    </tr>\n",
              "    <tr>\n",
              "      <th>2</th>\n",
              "      <td>2</td>\n",
              "      <td>0.339256</td>\n",
              "      <td>0</td>\n",
              "    </tr>\n",
              "    <tr>\n",
              "      <th>3</th>\n",
              "      <td>3</td>\n",
              "      <td>0.160832</td>\n",
              "      <td>0</td>\n",
              "    </tr>\n",
              "    <tr>\n",
              "      <th>4</th>\n",
              "      <td>4</td>\n",
              "      <td>0.777603</td>\n",
              "      <td>1</td>\n",
              "    </tr>\n",
              "  </tbody>\n",
              "</table>\n",
              "</div>"
            ],
            "text/plain": [
              "   index         0  Outcome\n",
              "0      0  0.351991        0\n",
              "1      1  0.449795        0\n",
              "2      2  0.339256        0\n",
              "3      3  0.160832        0\n",
              "4      4  0.777603        1"
            ]
          },
          "metadata": {
            "tags": []
          },
          "execution_count": 122
        }
      ]
    },
    {
      "metadata": {
        "id": "jkL-X_Ps54aX",
        "colab_type": "text"
      },
      "cell_type": "markdown",
      "source": [
        "### Question 2.2: Please complete the function for the backward pass below. (5 points)\n",
        "**No loops are allowed.** Please use only matrix, vector, or element-wise operations.\n",
        "Hint: Compute and return the average gradient, instead of the sum of gradients."
      ]
    },
    {
      "metadata": {
        "id": "CZYmiA796OaU",
        "colab_type": "code",
        "colab": {}
      },
      "cell_type": "code",
      "source": [
        "# Please complete this function, and make it return the desired result\n",
        "# X: the design matrix of the input features\n",
        "# y: the ground truth of outcome labels (classes)\n",
        "# p: the class probability outputted by the model\n",
        "def backward_pass(y,X,p):\n",
        "  # the derivative of the sigmoid function is the sigmoid*(1-sigmoid)\n",
        "  # as the sigmoid is our output function, we can define the gradient of the\n",
        "  # forward pass respective to the loss function (sum of squares). We then have \n",
        "  # to chain the weights or the intercept to the formula.\n",
        "  # I start with the intercept\n",
        "  grad_wb = np.array([np.mean(2*(p-y)*p*(1-p)*1)]) #the intercept\n",
        "  grad_ww = np.mean(X.mul(2*(p-y)*p*(1-p), axis = 0), axis = 0) #this returns a vector of weights\n",
        "  # With this gradient calculated, we can update a new set of proposed weights.\n",
        "  error = np.mean((p-y)**2)\n",
        "  w_new = np.concatenate([grad_wb, grad_ww.values])\n",
        "  #print(error)\n",
        "  return w_new, error"
      ],
      "execution_count": 0,
      "outputs": []
    },
    {
      "metadata": {
        "id": "3cmYi1GzN95D",
        "colab_type": "code",
        "colab": {
          "base_uri": "https://localhost:8080/",
          "height": 68
        },
        "outputId": "a25c54ee-b809-4507-aa81-a03822ac6511"
      },
      "cell_type": "code",
      "source": [
        "backward_pass(y_train, X_train, forward_pass(X_train, w))\n"
      ],
      "execution_count": 124,
      "outputs": [
        {
          "output_type": "execute_result",
          "data": {
            "text/plain": [
              "(array([-0.01114743, -0.12007034, -2.82773668, -1.2957232 , -0.83006099,\n",
              "        -4.19637836, -0.82159876, -0.01459446, -0.70998352]),\n",
              " 0.2194856091367463)"
            ]
          },
          "metadata": {
            "tags": []
          },
          "execution_count": 124
        }
      ]
    },
    {
      "metadata": {
        "id": "i8g0Ar1z6q9Q",
        "colab_type": "text"
      },
      "cell_type": "markdown",
      "source": [
        "### Question 2.3: Perceptron (20 points)\n",
        "Train your perceptron using the forward_pass and backward_pass functions for 1,000 epochs. Report the loss, accuracy, area under the receiver operating characteristic curve (AUC) for both the training and validation data sets. Plot the training and validation loss vs. epochs. Modify this cell to include your results and commentary on your approach.\n",
        "\n",
        "Your perceptron should have an AUC > 0.6 when evaluated by the validation data set."
      ]
    },
    {
      "metadata": {
        "id": "NB_JQ7fgwzXw",
        "colab_type": "code",
        "colab": {}
      },
      "cell_type": "code",
      "source": [
        "# Your codes and answers here\n",
        "\n",
        "# initialize weights \n",
        "#w = np.array([0, 0.13, 0.03, -0.03, -0.08, -0.0004, -0.008, -0.5, -0.006])\n",
        "w = np.zeros(9)\n",
        "lr = 0.001\n",
        "epochs = 1000\n",
        "\n",
        "error_t = np.array([])\n",
        "error_v = np.array([])\n",
        "\n",
        "for i in range(0, epochs):\n",
        "  # collect gradient update\n",
        "  g_w = backward_pass(y_train, X_train, forward_pass(X_train, w))[0]\n",
        "  # estimate error on train and validation data\n",
        "  error_t = np.append(error_t, backward_pass(y_train, X_train, forward_pass(X_train, w))[1])\n",
        "  error_v = np.append(error_v, backward_pass(y_val, X_val, forward_pass(X_val, w))[1])\n",
        "  # update weights\n",
        "  w = w-lr*g_w"
      ],
      "execution_count": 0,
      "outputs": []
    },
    {
      "metadata": {
        "id": "7_erHnQzYXN3",
        "colab_type": "text"
      },
      "cell_type": "markdown",
      "source": [
        "### Model performance"
      ]
    },
    {
      "metadata": {
        "id": "2LXW2hQgYWo_",
        "colab_type": "code",
        "colab": {
          "base_uri": "https://localhost:8080/",
          "height": 34
        },
        "outputId": "b444c5c2-09b0-4140-b42b-0f61cbf4bfb4"
      },
      "cell_type": "code",
      "source": [
        "# This is the model loss on the training data \n",
        "np.mean((forward_pass(X_train, w)-y_train)**2)"
      ],
      "execution_count": 126,
      "outputs": [
        {
          "output_type": "execute_result",
          "data": {
            "text/plain": [
              "0.23109474825457196"
            ]
          },
          "metadata": {
            "tags": []
          },
          "execution_count": 126
        }
      ]
    },
    {
      "metadata": {
        "id": "jixymK0MY3yd",
        "colab_type": "code",
        "colab": {
          "base_uri": "https://localhost:8080/",
          "height": 34
        },
        "outputId": "c0b70751-29fa-452f-b0cf-756d0af2a4e8"
      },
      "cell_type": "code",
      "source": [
        "# This is the model loss on the validation data \n",
        "np.mean((forward_pass(X_val, w)-y_val)**2)"
      ],
      "execution_count": 127,
      "outputs": [
        {
          "output_type": "execute_result",
          "data": {
            "text/plain": [
              "0.2344784825548321"
            ]
          },
          "metadata": {
            "tags": []
          },
          "execution_count": 127
        }
      ]
    },
    {
      "metadata": {
        "id": "8yYOpKLpZnYQ",
        "colab_type": "code",
        "colab": {
          "base_uri": "https://localhost:8080/",
          "height": 34
        },
        "outputId": "9bc25f7a-1df4-442d-c298-f4f573cf1c23"
      },
      "cell_type": "code",
      "source": [
        "# This is the model accuracy on the training data. I used the function definition from lecture 2\n",
        "len(np.where(np.round(forward_pass(X_train, w)) == y_train)[0])/float(len(y_train))"
      ],
      "execution_count": 128,
      "outputs": [
        {
          "output_type": "execute_result",
          "data": {
            "text/plain": [
              "0.6872964169381107"
            ]
          },
          "metadata": {
            "tags": []
          },
          "execution_count": 128
        }
      ]
    },
    {
      "metadata": {
        "id": "3I5y9V7PZrNF",
        "colab_type": "code",
        "colab": {
          "base_uri": "https://localhost:8080/",
          "height": 34
        },
        "outputId": "1345aa77-86d7-4985-81c8-e350887374fc"
      },
      "cell_type": "code",
      "source": [
        "# This is the model accuracy on the validation data\n",
        "len(np.where(np.round(forward_pass(X_val, w)) == y_val)[0])/float(len(y_val))"
      ],
      "execution_count": 129,
      "outputs": [
        {
          "output_type": "execute_result",
          "data": {
            "text/plain": [
              "0.6883116883116883"
            ]
          },
          "metadata": {
            "tags": []
          },
          "execution_count": 129
        }
      ]
    },
    {
      "metadata": {
        "id": "SKfIM8g4ZsWT",
        "colab_type": "code",
        "colab": {
          "base_uri": "https://localhost:8080/",
          "height": 34
        },
        "outputId": "4ca4a94d-6944-49e6-fb7a-afb180cf3d9d"
      },
      "cell_type": "code",
      "source": [
        "# This is the model auc on the training data\n",
        "import sklearn\n",
        "sklearn.metrics.roc_auc_score(y_train, forward_pass(X_train, w))"
      ],
      "execution_count": 130,
      "outputs": [
        {
          "output_type": "execute_result",
          "data": {
            "text/plain": [
              "0.6919715623374371"
            ]
          },
          "metadata": {
            "tags": []
          },
          "execution_count": 130
        }
      ]
    },
    {
      "metadata": {
        "id": "jawPXJYRZsxH",
        "colab_type": "code",
        "colab": {
          "base_uri": "https://localhost:8080/",
          "height": 34
        },
        "outputId": "99379f39-3e91-42d5-f96d-b77c6a0b638c"
      },
      "cell_type": "code",
      "source": [
        "# This is the model auc on the validation data\n",
        "sklearn.metrics.roc_auc_score(y_val, forward_pass(X_val, w))"
      ],
      "execution_count": 131,
      "outputs": [
        {
          "output_type": "execute_result",
          "data": {
            "text/plain": [
              "0.6377065111758989"
            ]
          },
          "metadata": {
            "tags": []
          },
          "execution_count": 131
        }
      ]
    },
    {
      "metadata": {
        "id": "BmjxqGMEYOpa",
        "colab_type": "text"
      },
      "cell_type": "markdown",
      "source": [
        "### Loss over time\n",
        "I plot the sum-of-square error over training epochs"
      ]
    },
    {
      "metadata": {
        "id": "05lGI79hWLy3",
        "colab_type": "code",
        "colab": {
          "base_uri": "https://localhost:8080/",
          "height": 282
        },
        "outputId": "de00f234-ab77-4452-9f11-590a9ee3487d"
      },
      "cell_type": "code",
      "source": [
        "import seaborn as sns; sns.set()\n",
        "import matplotlib.pyplot as plt\n",
        "\n",
        "df = pd.DataFrame({#'epoch' : range(0, 1000),\n",
        "                   'loss_train' : error_t,\n",
        "                   'loss_val' : error_v})\n",
        "\n",
        "sns.set_style(\"ticks\")\n",
        "sns.set_context(\"notebook\", font_scale=1.5, rc={\"lines.linewidth\": .2})\n",
        "ax = sns.lineplot(data=df)"
      ],
      "execution_count": 132,
      "outputs": [
        {
          "output_type": "display_data",
          "data": {
            "image/png": "[encoded data removed]",
            "text/plain": [
              "<Figure size 432x288 with 1 Axes>"
            ]
          },
          "metadata": {
            "tags": []
          }
        }
      ]
    },
    {
      "metadata": {
        "id": "dzIzxQ2n7-QV",
        "colab_type": "text"
      },
      "cell_type": "markdown",
      "source": [
        "## Part 3: Perceptrons with L2 regularization (20 points)\n",
        "In this section, we will implement perceptron and backpropagation with L2 regularization from scratch, and apply them to the same dataset from Part 1 again.\n",
        "\n",
        "Train your perceptron with L2 regularization using the forward_pass and backward_pass functions for 1,000 epochs. Report the loss, accuracy, AUC for both the training and validation data sets. Plot the training and validation loss vs. epochs. Modify this cell to include your results and commentary on your approach.\n",
        "\n",
        "Please do **NOT** use Keras, Pytorch, Lasagne, Tensorflow, or any other high-level abstraction machine learning frameworks. Upon completing this exercise from scratch, you will gain a deep understanding of what's under the hood of popular deep learning packages.\n",
        "\n",
        "The only allowed packages are numpy, pandas, and matplotlib.pyplot. The roc_auc_score function in sklearn.metrics is also allowed, but other functions from sklearn are prohibited.\n",
        "\n",
        "**No loops are allowed.** Please use only matrix, vector, or element-wise operations.\n",
        "\n",
        "Hint: Think in terms of the forward pass, backward pass, cost function, and training mechanisms. Think how (some of them) would differ from part 2."
      ]
    },
    {
      "metadata": {
        "id": "f_fOecFKw1XI",
        "colab_type": "code",
        "colab": {}
      },
      "cell_type": "code",
      "source": [
        "# Your codes and answers here\n",
        "# I keep the forward pass and training mechanism constant. \n",
        "# The only thing that changes is the calculation of the loss/cost function\n",
        "# Because the loss function is implemented in the backward pass, I keep redefine that function\n",
        "# For the sake of simplicity, I set my weight parameter for the L2 loss to 1\n",
        "\n",
        "def backward_pass_l2(y,X,p,w):\n",
        "  # the derivative of the sigmoid function is the sigmoid*(1-sigmoid)\n",
        "  # as the sigmoid is our output function, we can define the gradient of the\n",
        "  # forward pass respective to the loss function (sum of squares). We then have \n",
        "  # to chain the weights or the intercept to the formula.\n",
        "  ww = np.delete(w, 0) # isolating weights\n",
        "  # I start with the intercept\n",
        "  grad_wb = np.array([np.mean(2*(p-y)*p*(1-p)*1)]) #the intercept is not included in our L2 loss\n",
        "  grad_ww = np.mean(X.mul(2*(p-y)*p*(1-p), axis = 0), axis = 0) + 2*ww #this returns a vector of weights\n",
        "  # With this gradient calculated, we can update a new set of proposed weights.\n",
        "  error = np.mean((p-y)**2) # I do not add the l2 loss to this prt of the function. That way, I can\n",
        "  # compare the learning behaviour with the previous model\n",
        "  w_new = np.concatenate([grad_wb, grad_ww.values])\n",
        "  #print(error)\n",
        "  return w_new, error\n"
      ],
      "execution_count": 0,
      "outputs": []
    },
    {
      "metadata": {
        "id": "AQfv6A2dftNJ",
        "colab_type": "text"
      },
      "cell_type": "markdown",
      "source": [
        "Now I can rerun the majority of the code produced above \n"
      ]
    },
    {
      "metadata": {
        "id": "CZDe_4jNfw9L",
        "colab_type": "code",
        "colab": {}
      },
      "cell_type": "code",
      "source": [
        "# Your codes and answers here\n",
        "\n",
        "# initialize weights \n",
        "#w = np.array([0, 0.13, 0.03, -0.03, -0.08, -0.0004, -0.008, -0.5, -0.006])\n",
        "w = np.zeros(9)\n",
        "lr = 0.001\n",
        "epochs = 1000\n",
        "\n",
        "error_t = np.array([])\n",
        "error_v = np.array([])\n",
        "\n",
        "for i in range(0, epochs):\n",
        "  # collect gradient update\n",
        "  g_w = backward_pass_l2(y_train, X_train, forward_pass(X_train, w), w)[0]\n",
        "  # estimate error on train and validation data\n",
        "  error_t = np.append(error_t, backward_pass_l2(y_train, X_train, forward_pass(X_train, w), w)[1])\n",
        "  error_v = np.append(error_v, backward_pass_l2(y_val, X_val, forward_pass(X_val, w), w)[1])\n",
        "  # update weights\n",
        "  w = w-lr*g_w"
      ],
      "execution_count": 0,
      "outputs": []
    },
    {
      "metadata": {
        "id": "htWLB5-wgmbT",
        "colab_type": "text"
      },
      "cell_type": "markdown",
      "source": [
        "### Model performance for L2 regularization"
      ]
    },
    {
      "metadata": {
        "id": "RBhPWoJbgWoy",
        "colab_type": "code",
        "colab": {
          "base_uri": "https://localhost:8080/",
          "height": 34
        },
        "outputId": "86f240ae-b99f-411c-9468-01daf524ce68"
      },
      "cell_type": "code",
      "source": [
        "# This is the model loss on the training data \n",
        "np.mean((forward_pass(X_train, w)-y_train)**2)"
      ],
      "execution_count": 135,
      "outputs": [
        {
          "output_type": "execute_result",
          "data": {
            "text/plain": [
              "0.2152412741479742"
            ]
          },
          "metadata": {
            "tags": []
          },
          "execution_count": 135
        }
      ]
    },
    {
      "metadata": {
        "id": "-OCOf3gNgXXc",
        "colab_type": "code",
        "colab": {
          "base_uri": "https://localhost:8080/",
          "height": 34
        },
        "outputId": "3857f992-148b-4825-8d5d-c5097aef76a1"
      },
      "cell_type": "code",
      "source": [
        "# This is the model loss on the validation data \n",
        "np.mean((forward_pass(X_val, w)-y_val)**2)"
      ],
      "execution_count": 136,
      "outputs": [
        {
          "output_type": "execute_result",
          "data": {
            "text/plain": [
              "0.21970779847831348"
            ]
          },
          "metadata": {
            "tags": []
          },
          "execution_count": 136
        }
      ]
    },
    {
      "metadata": {
        "id": "KYhg_FA0gXdr",
        "colab_type": "code",
        "colab": {
          "base_uri": "https://localhost:8080/",
          "height": 34
        },
        "outputId": "9e9c52b5-8448-4cc5-ab49-1577c2cb9233"
      },
      "cell_type": "code",
      "source": [
        "# This is the model accuracy on the training data. I used the function definition from lecture 2\n",
        "len(np.where(np.round(forward_pass(X_train, w)) == y_train)[0])/float(len(y_train))"
      ],
      "execution_count": 137,
      "outputs": [
        {
          "output_type": "execute_result",
          "data": {
            "text/plain": [
              "0.6938110749185668"
            ]
          },
          "metadata": {
            "tags": []
          },
          "execution_count": 137
        }
      ]
    },
    {
      "metadata": {
        "id": "RW4_uKGFgXjU",
        "colab_type": "code",
        "colab": {
          "base_uri": "https://localhost:8080/",
          "height": 34
        },
        "outputId": "4646567c-dfbd-40e6-b21b-7a2128281bb5"
      },
      "cell_type": "code",
      "source": [
        "# This is the model accuracy on the validation data\n",
        "len(np.where(np.round(forward_pass(X_val, w)) == y_val)[0])/float(len(y_val))"
      ],
      "execution_count": 138,
      "outputs": [
        {
          "output_type": "execute_result",
          "data": {
            "text/plain": [
              "0.7077922077922078"
            ]
          },
          "metadata": {
            "tags": []
          },
          "execution_count": 138
        }
      ]
    },
    {
      "metadata": {
        "id": "621aCtEQgXpZ",
        "colab_type": "code",
        "colab": {
          "base_uri": "https://localhost:8080/",
          "height": 34
        },
        "outputId": "113192fc-6674-4b39-e8a6-a47c4efe5dd5"
      },
      "cell_type": "code",
      "source": [
        "# This is the model auc on the training data\n",
        "import sklearn\n",
        "sklearn.metrics.roc_auc_score(y_train, forward_pass(X_train, w))"
      ],
      "execution_count": 139,
      "outputs": [
        {
          "output_type": "execute_result",
          "data": {
            "text/plain": [
              "0.6860297092653603"
            ]
          },
          "metadata": {
            "tags": []
          },
          "execution_count": 139
        }
      ]
    },
    {
      "metadata": {
        "id": "QBFh1iykgXwQ",
        "colab_type": "code",
        "colab": {
          "base_uri": "https://localhost:8080/",
          "height": 34
        },
        "outputId": "7be4f0c3-bd58-41d0-809f-75bbc0bf21fd"
      },
      "cell_type": "code",
      "source": [
        "# This is the model auc on the validation data\n",
        "sklearn.metrics.roc_auc_score(y_val, forward_pass(X_val, w))"
      ],
      "execution_count": 140,
      "outputs": [
        {
          "output_type": "execute_result",
          "data": {
            "text/plain": [
              "0.6394557823129252"
            ]
          },
          "metadata": {
            "tags": []
          },
          "execution_count": 140
        }
      ]
    },
    {
      "metadata": {
        "id": "MA35tg7DgjIB",
        "colab_type": "text"
      },
      "cell_type": "markdown",
      "source": [
        "### Loss over time for L2 regularization"
      ]
    },
    {
      "metadata": {
        "id": "a_9Kvph4giSy",
        "colab_type": "code",
        "colab": {
          "base_uri": "https://localhost:8080/",
          "height": 282
        },
        "outputId": "3ce0d9f2-db54-4bda-f50f-f32db241678e"
      },
      "cell_type": "code",
      "source": [
        "import seaborn as sns; sns.set()\n",
        "import matplotlib.pyplot as plt\n",
        "\n",
        "df = pd.DataFrame({#'epoch' : range(0, 1000),\n",
        "                   'loss_train' : error_t,\n",
        "                   'loss_val' : error_v})\n",
        "\n",
        "sns.set_style(\"ticks\")\n",
        "sns.set_context(\"notebook\", font_scale=1.5, rc={\"lines.linewidth\": .2})\n",
        "ax = sns.lineplot(data=df)"
      ],
      "execution_count": 141,
      "outputs": [
        {
          "output_type": "display_data",
          "data": {
            "image/png": "[encoded data removed]",
            "text/plain": [
              "<Figure size 432x288 with 1 Axes>"
            ]
          },
          "metadata": {
            "tags": []
          }
        }
      ]
    },
    {
      "metadata": {
        "id": "ARTF4T52mKHQ",
        "colab_type": "text"
      },
      "cell_type": "markdown",
      "source": [
        "The L2 regularized model generalizes slightly better than the non-regularized counterpart. When we compare the weights of our perceptron to the logistic regression that I ran before, we can see similar trends in the parameter configuration. The neural network weights seem to be more heavily regularized."
      ]
    },
    {
      "metadata": {
        "id": "AA1bpOxnmVX4",
        "colab_type": "code",
        "colab": {
          "base_uri": "https://localhost:8080/",
          "height": 297
        },
        "outputId": "d7b5a2ba-eeb2-47d3-dd09-85ba9d37e7b4"
      },
      "cell_type": "code",
      "source": [
        "ww = np.delete(w, 0)\n",
        "df = pd.concat([pd.DataFrame({'name' : X_train.columns}),\n",
        "           pd.DataFrame(np.transpose(clf.coef_))],axis = 1)\n",
        "df['neural'] = ww\n",
        "\n",
        "df"
      ],
      "execution_count": 142,
      "outputs": [
        {
          "output_type": "execute_result",
          "data": {
            "text/html": [
              "<div>\n",
              "<style scoped>\n",
              "    .dataframe tbody tr th:only-of-type {\n",
              "        vertical-align: middle;\n",
              "    }\n",
              "\n",
              "    .dataframe tbody tr th {\n",
              "        vertical-align: top;\n",
              "    }\n",
              "\n",
              "    .dataframe thead th {\n",
              "        text-align: right;\n",
              "    }\n",
              "</style>\n",
              "<table border=\"1\" class=\"dataframe\">\n",
              "  <thead>\n",
              "    <tr style=\"text-align: right;\">\n",
              "      <th></th>\n",
              "      <th>name</th>\n",
              "      <th>0</th>\n",
              "      <th>neural</th>\n",
              "    </tr>\n",
              "  </thead>\n",
              "  <tbody>\n",
              "    <tr>\n",
              "      <th>0</th>\n",
              "      <td>Pregnancies</td>\n",
              "      <td>0.131265</td>\n",
              "      <td>0.025457</td>\n",
              "    </tr>\n",
              "    <tr>\n",
              "      <th>1</th>\n",
              "      <td>Glucose</td>\n",
              "      <td>0.031740</td>\n",
              "      <td>0.035823</td>\n",
              "    </tr>\n",
              "    <tr>\n",
              "      <th>2</th>\n",
              "      <td>BloodPressure</td>\n",
              "      <td>-0.030721</td>\n",
              "      <td>-0.076095</td>\n",
              "    </tr>\n",
              "    <tr>\n",
              "      <th>3</th>\n",
              "      <td>SkinThickness</td>\n",
              "      <td>-0.008189</td>\n",
              "      <td>-0.004737</td>\n",
              "    </tr>\n",
              "    <tr>\n",
              "      <th>4</th>\n",
              "      <td>Insulin</td>\n",
              "      <td>-0.000414</td>\n",
              "      <td>-0.003673</td>\n",
              "    </tr>\n",
              "    <tr>\n",
              "      <th>5</th>\n",
              "      <td>BMI</td>\n",
              "      <td>0.079000</td>\n",
              "      <td>0.005304</td>\n",
              "    </tr>\n",
              "    <tr>\n",
              "      <th>6</th>\n",
              "      <td>DiabetesPedigreeFunction</td>\n",
              "      <td>0.523808</td>\n",
              "      <td>0.000945</td>\n",
              "    </tr>\n",
              "    <tr>\n",
              "      <th>7</th>\n",
              "      <td>Age</td>\n",
              "      <td>0.005901</td>\n",
              "      <td>0.007149</td>\n",
              "    </tr>\n",
              "  </tbody>\n",
              "</table>\n",
              "</div>"
            ],
            "text/plain": [
              "                       name         0    neural\n",
              "0               Pregnancies  0.131265  0.025457\n",
              "1                   Glucose  0.031740  0.035823\n",
              "2             BloodPressure -0.030721 -0.076095\n",
              "3             SkinThickness -0.008189 -0.004737\n",
              "4                   Insulin -0.000414 -0.003673\n",
              "5                       BMI  0.079000  0.005304\n",
              "6  DiabetesPedigreeFunction  0.523808  0.000945\n",
              "7                       Age  0.005901  0.007149"
            ]
          },
          "metadata": {
            "tags": []
          },
          "execution_count": 142
        }
      ]
    },
    {
      "metadata": {
        "id": "TinhJAU9nIEy",
        "colab_type": "text"
      },
      "cell_type": "markdown",
      "source": [
        "## Part 4: Multi-layer neural network using Keras (30 points)\n",
        "In this section, we will train a multi-layer neural network using the Keras framework, and apply it to the dataset from Part 1."
      ]
    },
    {
      "metadata": {
        "id": "N_jAnUefozHY",
        "colab_type": "text"
      },
      "cell_type": "markdown",
      "source": [
        "### Question 4.1 Train a multi-layer neural network using Keras (20 points)\n",
        "Please implement a neural network with at least one hidden layer using Keras, and plot the model accuracy and model loss in both the training and validation sets over the epochs.\n",
        "\n",
        "Your neural network should have an accuracy > 0.7 when evaluated by the validation data set."
      ]
    },
    {
      "metadata": {
        "id": "n2VgOJM4w5cd",
        "colab_type": "code",
        "colab": {
          "base_uri": "https://localhost:8080/",
          "height": 34054
        },
        "outputId": "f8a66cdd-2338-4466-a210-7e798c9caa5d"
      },
      "cell_type": "code",
      "source": [
        "# Your codes and answers here\n",
        "# library import code\n",
        "import keras\n",
        "from keras.models import Sequential\n",
        "from keras.layers import Dense, Dropout\n",
        "from keras.optimizers import Adam\n",
        "\n",
        "# define KERAS model\n",
        "model = Sequential()\n",
        "\n",
        "model.add(Dense(64, activation='relu', input_dim=8))\n",
        "model.add(Dropout(0.5)) # I play with dropout\n",
        "model.add(Dense(1, activation='sigmoid'))\n",
        "\n",
        "adam = Adam()\n",
        "\n",
        "model.compile(loss='binary_crossentropy',\n",
        "              optimizer=adam,\n",
        "              metrics=['accuracy'])\n",
        "\n",
        "history = model.fit(X_train, y_train,\n",
        "                    validation_data = (X_val, y_val),\n",
        "          epochs=1000,\n",
        "          batch_size=256)"
      ],
      "execution_count": 143,
      "outputs": [
        {
          "output_type": "stream",
          "text": [
            "Train on 614 samples, validate on 154 samples\n",
            "Epoch 1/1000\n",
            "614/614 [==============================] - 1s 1ms/step - loss: 6.3861 - acc: 0.5065 - val_loss: 4.1719 - val_acc: 0.6753\n",
            "Epoch 2/1000\n",
            "614/614 [==============================] - 0s 20us/step - loss: 5.5467 - acc: 0.5700 - val_loss: 5.0804 - val_acc: 0.6818\n",
            "Epoch 3/1000\n",
            "614/614 [==============================] - 0s 17us/step - loss: 5.3454 - acc: 0.6042 - val_loss: 5.1273 - val_acc: 0.6818\n",
            "Epoch 4/1000\n",
            "614/614 [==============================] - 0s 17us/step - loss: 5.8471 - acc: 0.5749 - val_loss: 5.1285 - val_acc: 0.6818\n",
            "Epoch 5/1000\n",
            "614/614 [==============================] - 0s 22us/step - loss: 5.4347 - acc: 0.6075 - val_loss: 5.1285 - val_acc: 0.6818\n",
            "Epoch 6/1000\n",
            "614/614 [==============================] - 0s 22us/step - loss: 5.1976 - acc: 0.6368 - val_loss: 5.1285 - val_acc: 0.6818\n",
            "Epoch 7/1000\n",
            "614/614 [==============================] - 0s 21us/step - loss: 5.4631 - acc: 0.6189 - val_loss: 5.1285 - val_acc: 0.6818\n",
            "Epoch 8/1000\n",
            "614/614 [==============================] - 0s 26us/step - loss: 5.5846 - acc: 0.6189 - val_loss: 5.1285 - val_acc: 0.6818\n",
            "Epoch 9/1000\n",
            "614/614 [==============================] - 0s 18us/step - loss: 5.6708 - acc: 0.6059 - val_loss: 5.1285 - val_acc: 0.6818\n",
            "Epoch 10/1000\n",
            "614/614 [==============================] - 0s 24us/step - loss: 5.1230 - acc: 0.6466 - val_loss: 5.1285 - val_acc: 0.6818\n",
            "Epoch 11/1000\n",
            "614/614 [==============================] - 0s 22us/step - loss: 5.3971 - acc: 0.6156 - val_loss: 5.1285 - val_acc: 0.6818\n",
            "Epoch 12/1000\n",
            "614/614 [==============================] - 0s 21us/step - loss: 5.5939 - acc: 0.6091 - val_loss: 5.1285 - val_acc: 0.6818\n",
            "Epoch 13/1000\n",
            "614/614 [==============================] - 0s 20us/step - loss: 5.4088 - acc: 0.6319 - val_loss: 5.1285 - val_acc: 0.6818\n",
            "Epoch 14/1000\n",
            "614/614 [==============================] - 0s 19us/step - loss: 5.1582 - acc: 0.6156 - val_loss: 5.1285 - val_acc: 0.6818\n",
            "Epoch 15/1000\n",
            "614/614 [==============================] - 0s 22us/step - loss: 5.4291 - acc: 0.6124 - val_loss: 5.1285 - val_acc: 0.6818\n",
            "Epoch 16/1000\n",
            "614/614 [==============================] - 0s 24us/step - loss: 5.3340 - acc: 0.5928 - val_loss: 5.1285 - val_acc: 0.6818\n",
            "Epoch 17/1000\n",
            "614/614 [==============================] - 0s 21us/step - loss: 5.1733 - acc: 0.6303 - val_loss: 5.1285 - val_acc: 0.6818\n",
            "Epoch 18/1000\n",
            "614/614 [==============================] - 0s 25us/step - loss: 5.5886 - acc: 0.5945 - val_loss: 5.1285 - val_acc: 0.6818\n",
            "Epoch 19/1000\n",
            "614/614 [==============================] - 0s 21us/step - loss: 5.1964 - acc: 0.6156 - val_loss: 5.1285 - val_acc: 0.6818\n",
            "Epoch 20/1000\n",
            "614/614 [==============================] - 0s 26us/step - loss: 5.4554 - acc: 0.5700 - val_loss: 5.1285 - val_acc: 0.6818\n",
            "Epoch 21/1000\n",
            "614/614 [==============================] - 0s 25us/step - loss: 4.9237 - acc: 0.6352 - val_loss: 5.1285 - val_acc: 0.6818\n",
            "Epoch 22/1000\n",
            "614/614 [==============================] - 0s 24us/step - loss: 5.4523 - acc: 0.6010 - val_loss: 5.1285 - val_acc: 0.6818\n",
            "Epoch 23/1000\n",
            "614/614 [==============================] - 0s 24us/step - loss: 5.2085 - acc: 0.6059 - val_loss: 5.1285 - val_acc: 0.6818\n",
            "Epoch 24/1000\n",
            "614/614 [==============================] - 0s 21us/step - loss: 5.3033 - acc: 0.6107 - val_loss: 5.1285 - val_acc: 0.6818\n",
            "Epoch 25/1000\n",
            "614/614 [==============================] - 0s 17us/step - loss: 5.3649 - acc: 0.6107 - val_loss: 5.1285 - val_acc: 0.6818\n",
            "Epoch 26/1000\n",
            "614/614 [==============================] - 0s 19us/step - loss: 5.3125 - acc: 0.6075 - val_loss: 5.1214 - val_acc: 0.6818\n",
            "Epoch 27/1000\n",
            "614/614 [==============================] - 0s 19us/step - loss: 5.4997 - acc: 0.5993 - val_loss: 4.9728 - val_acc: 0.6818\n",
            "Epoch 28/1000\n",
            "614/614 [==============================] - 0s 18us/step - loss: 4.8891 - acc: 0.6384 - val_loss: 4.7226 - val_acc: 0.6818\n",
            "Epoch 29/1000\n",
            "614/614 [==============================] - 0s 24us/step - loss: 5.2934 - acc: 0.6010 - val_loss: 4.5222 - val_acc: 0.6818\n",
            "Epoch 30/1000\n",
            "614/614 [==============================] - 0s 19us/step - loss: 4.9209 - acc: 0.6401 - val_loss: 4.4036 - val_acc: 0.6818\n",
            "Epoch 31/1000\n",
            "614/614 [==============================] - 0s 27us/step - loss: 5.1527 - acc: 0.6124 - val_loss: 4.3188 - val_acc: 0.6753\n",
            "Epoch 32/1000\n",
            "614/614 [==============================] - 0s 26us/step - loss: 4.7490 - acc: 0.6287 - val_loss: 4.2740 - val_acc: 0.6753\n",
            "Epoch 33/1000\n",
            "614/614 [==============================] - 0s 27us/step - loss: 4.9280 - acc: 0.6107 - val_loss: 4.2135 - val_acc: 0.6753\n",
            "Epoch 34/1000\n",
            "614/614 [==============================] - 0s 23us/step - loss: 4.8602 - acc: 0.6173 - val_loss: 4.1557 - val_acc: 0.6753\n",
            "Epoch 35/1000\n",
            "614/614 [==============================] - 0s 20us/step - loss: 4.9002 - acc: 0.6091 - val_loss: 4.2094 - val_acc: 0.6818\n",
            "Epoch 36/1000\n",
            "614/614 [==============================] - 0s 20us/step - loss: 5.1155 - acc: 0.6042 - val_loss: 4.3600 - val_acc: 0.6818\n",
            "Epoch 37/1000\n",
            "614/614 [==============================] - 0s 34us/step - loss: 4.7795 - acc: 0.6401 - val_loss: 4.4362 - val_acc: 0.6818\n",
            "Epoch 38/1000\n",
            "614/614 [==============================] - 0s 21us/step - loss: 4.7909 - acc: 0.6384 - val_loss: 4.3070 - val_acc: 0.6818\n",
            "Epoch 39/1000\n",
            "614/614 [==============================] - 0s 19us/step - loss: 4.7595 - acc: 0.6303 - val_loss: 4.1052 - val_acc: 0.6753\n",
            "Epoch 40/1000\n",
            "614/614 [==============================] - 0s 20us/step - loss: 4.7168 - acc: 0.6401 - val_loss: 3.9757 - val_acc: 0.6818\n",
            "Epoch 41/1000\n",
            "614/614 [==============================] - 0s 22us/step - loss: 4.5148 - acc: 0.6450 - val_loss: 3.8143 - val_acc: 0.6883\n",
            "Epoch 42/1000\n",
            "614/614 [==============================] - 0s 19us/step - loss: 4.8865 - acc: 0.6059 - val_loss: 3.7807 - val_acc: 0.6883\n",
            "Epoch 43/1000\n",
            "614/614 [==============================] - 0s 21us/step - loss: 5.1754 - acc: 0.5961 - val_loss: 3.8249 - val_acc: 0.6883\n",
            "Epoch 44/1000\n",
            "614/614 [==============================] - 0s 20us/step - loss: 4.9842 - acc: 0.5912 - val_loss: 3.8585 - val_acc: 0.6883\n",
            "Epoch 45/1000\n",
            "614/614 [==============================] - 0s 24us/step - loss: 4.5044 - acc: 0.6336 - val_loss: 3.7200 - val_acc: 0.6818\n",
            "Epoch 46/1000\n",
            "614/614 [==============================] - 0s 20us/step - loss: 4.3917 - acc: 0.6564 - val_loss: 3.4304 - val_acc: 0.7078\n",
            "Epoch 47/1000\n",
            "614/614 [==============================] - 0s 24us/step - loss: 3.8396 - acc: 0.6531 - val_loss: 2.9373 - val_acc: 0.7013\n",
            "Epoch 48/1000\n",
            "614/614 [==============================] - 0s 24us/step - loss: 4.2172 - acc: 0.6401 - val_loss: 2.6608 - val_acc: 0.6818\n",
            "Epoch 49/1000\n",
            "614/614 [==============================] - 0s 27us/step - loss: 4.3080 - acc: 0.6238 - val_loss: 2.6691 - val_acc: 0.6818\n",
            "Epoch 50/1000\n",
            "614/614 [==============================] - 0s 21us/step - loss: 4.2008 - acc: 0.6091 - val_loss: 2.7590 - val_acc: 0.6883\n",
            "Epoch 51/1000\n",
            "614/614 [==============================] - 0s 20us/step - loss: 3.8187 - acc: 0.6580 - val_loss: 2.9402 - val_acc: 0.7013\n",
            "Epoch 52/1000\n",
            "614/614 [==============================] - 0s 20us/step - loss: 4.1277 - acc: 0.6270 - val_loss: 3.0413 - val_acc: 0.6948\n",
            "Epoch 53/1000\n",
            "614/614 [==============================] - 0s 20us/step - loss: 3.9560 - acc: 0.6270 - val_loss: 2.9925 - val_acc: 0.6948\n",
            "Epoch 54/1000\n",
            "614/614 [==============================] - 0s 20us/step - loss: 4.1474 - acc: 0.6270 - val_loss: 2.9384 - val_acc: 0.7078\n",
            "Epoch 55/1000\n",
            "614/614 [==============================] - 0s 20us/step - loss: 3.9285 - acc: 0.6433 - val_loss: 3.1033 - val_acc: 0.6948\n",
            "Epoch 56/1000\n",
            "614/614 [==============================] - 0s 23us/step - loss: 3.9328 - acc: 0.6417 - val_loss: 3.0995 - val_acc: 0.6948\n",
            "Epoch 57/1000\n",
            "614/614 [==============================] - 0s 20us/step - loss: 3.8433 - acc: 0.6401 - val_loss: 2.9919 - val_acc: 0.6948\n",
            "Epoch 58/1000\n",
            "614/614 [==============================] - 0s 22us/step - loss: 3.7092 - acc: 0.6482 - val_loss: 2.7661 - val_acc: 0.7013\n",
            "Epoch 59/1000\n",
            "614/614 [==============================] - 0s 23us/step - loss: 3.6843 - acc: 0.6596 - val_loss: 2.6138 - val_acc: 0.6948\n",
            "Epoch 60/1000\n",
            "614/614 [==============================] - 0s 19us/step - loss: 3.6241 - acc: 0.6498 - val_loss: 2.5240 - val_acc: 0.6688\n",
            "Epoch 61/1000\n",
            "614/614 [==============================] - 0s 19us/step - loss: 3.7005 - acc: 0.6140 - val_loss: 2.4963 - val_acc: 0.6753\n",
            "Epoch 62/1000\n",
            "614/614 [==============================] - 0s 18us/step - loss: 3.3970 - acc: 0.6498 - val_loss: 2.4717 - val_acc: 0.6818\n",
            "Epoch 63/1000\n",
            "614/614 [==============================] - 0s 22us/step - loss: 3.4579 - acc: 0.6352 - val_loss: 2.4674 - val_acc: 0.6818\n",
            "Epoch 64/1000\n",
            "614/614 [==============================] - 0s 16us/step - loss: 2.9858 - acc: 0.6678 - val_loss: 2.4577 - val_acc: 0.6883\n",
            "Epoch 65/1000\n",
            "614/614 [==============================] - 0s 17us/step - loss: 2.9717 - acc: 0.6694 - val_loss: 2.4552 - val_acc: 0.7013\n",
            "Epoch 66/1000\n",
            "614/614 [==============================] - 0s 19us/step - loss: 3.2448 - acc: 0.6580 - val_loss: 2.4344 - val_acc: 0.7013\n",
            "Epoch 67/1000\n",
            "614/614 [==============================] - 0s 21us/step - loss: 3.0583 - acc: 0.6205 - val_loss: 2.3336 - val_acc: 0.6883\n",
            "Epoch 68/1000\n",
            "614/614 [==============================] - 0s 21us/step - loss: 2.8398 - acc: 0.6531 - val_loss: 2.2494 - val_acc: 0.6883\n",
            "Epoch 69/1000\n",
            "614/614 [==============================] - 0s 20us/step - loss: 2.6186 - acc: 0.6515 - val_loss: 2.1536 - val_acc: 0.6688\n",
            "Epoch 70/1000\n",
            "614/614 [==============================] - 0s 18us/step - loss: 2.5967 - acc: 0.6401 - val_loss: 2.0614 - val_acc: 0.6753\n",
            "Epoch 71/1000\n",
            "614/614 [==============================] - 0s 18us/step - loss: 2.4691 - acc: 0.6515 - val_loss: 1.9602 - val_acc: 0.6623\n",
            "Epoch 72/1000\n",
            "614/614 [==============================] - 0s 24us/step - loss: 2.2568 - acc: 0.6401 - val_loss: 1.8814 - val_acc: 0.6623\n",
            "Epoch 73/1000\n",
            "614/614 [==============================] - 0s 23us/step - loss: 2.2701 - acc: 0.6596 - val_loss: 1.8037 - val_acc: 0.6688\n",
            "Epoch 74/1000\n",
            "614/614 [==============================] - 0s 24us/step - loss: 2.0841 - acc: 0.6466 - val_loss: 1.7210 - val_acc: 0.6623\n",
            "Epoch 75/1000\n",
            "614/614 [==============================] - 0s 23us/step - loss: 2.0492 - acc: 0.6270 - val_loss: 1.6427 - val_acc: 0.6753\n",
            "Epoch 76/1000\n",
            "614/614 [==============================] - 0s 24us/step - loss: 1.7859 - acc: 0.6205 - val_loss: 1.5620 - val_acc: 0.6753\n",
            "Epoch 77/1000\n",
            "614/614 [==============================] - 0s 18us/step - loss: 1.4723 - acc: 0.6482 - val_loss: 1.4862 - val_acc: 0.6948\n",
            "Epoch 78/1000\n",
            "614/614 [==============================] - 0s 16us/step - loss: 1.6050 - acc: 0.6531 - val_loss: 1.4320 - val_acc: 0.7013\n",
            "Epoch 79/1000\n",
            "614/614 [==============================] - 0s 21us/step - loss: 1.5533 - acc: 0.6547 - val_loss: 1.3933 - val_acc: 0.6948\n",
            "Epoch 80/1000\n",
            "614/614 [==============================] - 0s 20us/step - loss: 1.4024 - acc: 0.6792 - val_loss: 1.3491 - val_acc: 0.6948\n",
            "Epoch 81/1000\n",
            "614/614 [==============================] - 0s 19us/step - loss: 1.3363 - acc: 0.6596 - val_loss: 1.2953 - val_acc: 0.6883\n",
            "Epoch 82/1000\n",
            "614/614 [==============================] - 0s 24us/step - loss: 1.5139 - acc: 0.6238 - val_loss: 1.2492 - val_acc: 0.6688\n",
            "Epoch 83/1000\n",
            "614/614 [==============================] - 0s 22us/step - loss: 1.3103 - acc: 0.6466 - val_loss: 1.2070 - val_acc: 0.6818\n",
            "Epoch 84/1000\n",
            "614/614 [==============================] - 0s 18us/step - loss: 1.2790 - acc: 0.6678 - val_loss: 1.1871 - val_acc: 0.6883\n",
            "Epoch 85/1000\n",
            "614/614 [==============================] - 0s 19us/step - loss: 1.0172 - acc: 0.6775 - val_loss: 1.1450 - val_acc: 0.6883\n",
            "Epoch 86/1000\n",
            "614/614 [==============================] - 0s 20us/step - loss: 1.1041 - acc: 0.6726 - val_loss: 1.0917 - val_acc: 0.6883\n",
            "Epoch 87/1000\n",
            "614/614 [==============================] - 0s 17us/step - loss: 1.1285 - acc: 0.6450 - val_loss: 1.0396 - val_acc: 0.7078\n",
            "Epoch 88/1000\n",
            "614/614 [==============================] - 0s 18us/step - loss: 1.0160 - acc: 0.6743 - val_loss: 0.9804 - val_acc: 0.6883\n",
            "Epoch 89/1000\n",
            "614/614 [==============================] - 0s 30us/step - loss: 0.9707 - acc: 0.6482 - val_loss: 0.9400 - val_acc: 0.7078\n",
            "Epoch 90/1000\n",
            "614/614 [==============================] - 0s 20us/step - loss: 1.0104 - acc: 0.6515 - val_loss: 0.9296 - val_acc: 0.7208\n",
            "Epoch 91/1000\n",
            "614/614 [==============================] - 0s 26us/step - loss: 0.9064 - acc: 0.6726 - val_loss: 0.9251 - val_acc: 0.7143\n",
            "Epoch 92/1000\n",
            "614/614 [==============================] - 0s 27us/step - loss: 0.9926 - acc: 0.6547 - val_loss: 0.9082 - val_acc: 0.7208\n",
            "Epoch 93/1000\n",
            "614/614 [==============================] - 0s 19us/step - loss: 1.0937 - acc: 0.6352 - val_loss: 0.9018 - val_acc: 0.7143\n",
            "Epoch 94/1000\n",
            "614/614 [==============================] - 0s 21us/step - loss: 0.8853 - acc: 0.6352 - val_loss: 0.8838 - val_acc: 0.7078\n",
            "Epoch 95/1000\n",
            "614/614 [==============================] - 0s 23us/step - loss: 0.8285 - acc: 0.6482 - val_loss: 0.8682 - val_acc: 0.7013\n",
            "Epoch 96/1000\n",
            "614/614 [==============================] - 0s 32us/step - loss: 0.9334 - acc: 0.6596 - val_loss: 0.8561 - val_acc: 0.6948\n",
            "Epoch 97/1000\n",
            "614/614 [==============================] - 0s 21us/step - loss: 0.9400 - acc: 0.6629 - val_loss: 0.8460 - val_acc: 0.7013\n",
            "Epoch 98/1000\n",
            "614/614 [==============================] - 0s 23us/step - loss: 0.8315 - acc: 0.6515 - val_loss: 0.8329 - val_acc: 0.6948\n",
            "Epoch 99/1000\n",
            "614/614 [==============================] - 0s 23us/step - loss: 0.8498 - acc: 0.6906 - val_loss: 0.8222 - val_acc: 0.6753\n",
            "Epoch 100/1000\n",
            "614/614 [==============================] - 0s 32us/step - loss: 0.7973 - acc: 0.6938 - val_loss: 0.8115 - val_acc: 0.6688\n",
            "Epoch 101/1000\n",
            "614/614 [==============================] - 0s 22us/step - loss: 0.8105 - acc: 0.6612 - val_loss: 0.7985 - val_acc: 0.6623\n",
            "Epoch 102/1000\n",
            "614/614 [==============================] - 0s 20us/step - loss: 0.8491 - acc: 0.6645 - val_loss: 0.7903 - val_acc: 0.6494\n",
            "Epoch 103/1000\n",
            "614/614 [==============================] - 0s 25us/step - loss: 0.8707 - acc: 0.6547 - val_loss: 0.7869 - val_acc: 0.6623\n",
            "Epoch 104/1000\n",
            "614/614 [==============================] - 0s 29us/step - loss: 0.8747 - acc: 0.6808 - val_loss: 0.7844 - val_acc: 0.6688\n",
            "Epoch 105/1000\n",
            "614/614 [==============================] - 0s 25us/step - loss: 0.8264 - acc: 0.6889 - val_loss: 0.7837 - val_acc: 0.6818\n",
            "Epoch 106/1000\n",
            "614/614 [==============================] - 0s 20us/step - loss: 0.7725 - acc: 0.6661 - val_loss: 0.7842 - val_acc: 0.6753\n",
            "Epoch 107/1000\n",
            "614/614 [==============================] - 0s 20us/step - loss: 0.8454 - acc: 0.6547 - val_loss: 0.7851 - val_acc: 0.6753\n",
            "Epoch 108/1000\n",
            "614/614 [==============================] - 0s 22us/step - loss: 0.7273 - acc: 0.6759 - val_loss: 0.7830 - val_acc: 0.6623\n",
            "Epoch 109/1000\n",
            "614/614 [==============================] - 0s 18us/step - loss: 0.7914 - acc: 0.6726 - val_loss: 0.7797 - val_acc: 0.6688\n",
            "Epoch 110/1000\n",
            "614/614 [==============================] - 0s 18us/step - loss: 0.7619 - acc: 0.6857 - val_loss: 0.7771 - val_acc: 0.6623\n",
            "Epoch 111/1000\n",
            "614/614 [==============================] - 0s 17us/step - loss: 0.7596 - acc: 0.6759 - val_loss: 0.7724 - val_acc: 0.6623\n",
            "Epoch 112/1000\n",
            "614/614 [==============================] - 0s 20us/step - loss: 0.7330 - acc: 0.6840 - val_loss: 0.7644 - val_acc: 0.6688\n",
            "Epoch 113/1000\n",
            "614/614 [==============================] - 0s 21us/step - loss: 0.7007 - acc: 0.6857 - val_loss: 0.7586 - val_acc: 0.6688\n",
            "Epoch 114/1000\n",
            "614/614 [==============================] - 0s 27us/step - loss: 0.7447 - acc: 0.6775 - val_loss: 0.7532 - val_acc: 0.6623\n",
            "Epoch 115/1000\n",
            "614/614 [==============================] - 0s 24us/step - loss: 0.7228 - acc: 0.6857 - val_loss: 0.7472 - val_acc: 0.6753\n",
            "Epoch 116/1000\n",
            "614/614 [==============================] - 0s 21us/step - loss: 0.8281 - acc: 0.6889 - val_loss: 0.7418 - val_acc: 0.6753\n",
            "Epoch 117/1000\n",
            "614/614 [==============================] - 0s 26us/step - loss: 0.7689 - acc: 0.6678 - val_loss: 0.7369 - val_acc: 0.6818\n",
            "Epoch 118/1000\n",
            "614/614 [==============================] - 0s 25us/step - loss: 0.7475 - acc: 0.6743 - val_loss: 0.7345 - val_acc: 0.6818\n",
            "Epoch 119/1000\n",
            "614/614 [==============================] - 0s 23us/step - loss: 0.7731 - acc: 0.6857 - val_loss: 0.7368 - val_acc: 0.7013\n",
            "Epoch 120/1000\n",
            "614/614 [==============================] - 0s 26us/step - loss: 0.8030 - acc: 0.6694 - val_loss: 0.7391 - val_acc: 0.7078\n",
            "Epoch 121/1000\n",
            "614/614 [==============================] - 0s 26us/step - loss: 0.6938 - acc: 0.6808 - val_loss: 0.7386 - val_acc: 0.7078\n",
            "Epoch 122/1000\n",
            "614/614 [==============================] - 0s 21us/step - loss: 0.7472 - acc: 0.7068 - val_loss: 0.7389 - val_acc: 0.6948\n",
            "Epoch 123/1000\n",
            "614/614 [==============================] - 0s 20us/step - loss: 0.6799 - acc: 0.7003 - val_loss: 0.7437 - val_acc: 0.6818\n",
            "Epoch 124/1000\n",
            "614/614 [==============================] - 0s 17us/step - loss: 0.7903 - acc: 0.6857 - val_loss: 0.7420 - val_acc: 0.6818\n",
            "Epoch 125/1000\n",
            "614/614 [==============================] - 0s 19us/step - loss: 0.7325 - acc: 0.6661 - val_loss: 0.7392 - val_acc: 0.6948\n",
            "Epoch 126/1000\n",
            "614/614 [==============================] - 0s 20us/step - loss: 0.6663 - acc: 0.6938 - val_loss: 0.7361 - val_acc: 0.7013\n",
            "Epoch 127/1000\n",
            "614/614 [==============================] - 0s 21us/step - loss: 0.6839 - acc: 0.7166 - val_loss: 0.7317 - val_acc: 0.6948\n",
            "Epoch 128/1000\n",
            "614/614 [==============================] - 0s 20us/step - loss: 0.7127 - acc: 0.6954 - val_loss: 0.7238 - val_acc: 0.7013\n",
            "Epoch 129/1000\n",
            "614/614 [==============================] - 0s 21us/step - loss: 0.6815 - acc: 0.6678 - val_loss: 0.7175 - val_acc: 0.6753\n",
            "Epoch 130/1000\n",
            "614/614 [==============================] - 0s 19us/step - loss: 0.7098 - acc: 0.6987 - val_loss: 0.7145 - val_acc: 0.6818\n",
            "Epoch 131/1000\n",
            "614/614 [==============================] - 0s 21us/step - loss: 0.7150 - acc: 0.7052 - val_loss: 0.7157 - val_acc: 0.6883\n",
            "Epoch 132/1000\n",
            "614/614 [==============================] - 0s 20us/step - loss: 0.6291 - acc: 0.7134 - val_loss: 0.7184 - val_acc: 0.6883\n",
            "Epoch 133/1000\n",
            "614/614 [==============================] - 0s 20us/step - loss: 0.6922 - acc: 0.6743 - val_loss: 0.7153 - val_acc: 0.6753\n",
            "Epoch 134/1000\n",
            "614/614 [==============================] - 0s 26us/step - loss: 0.6682 - acc: 0.6971 - val_loss: 0.7110 - val_acc: 0.6883\n",
            "Epoch 135/1000\n",
            "614/614 [==============================] - 0s 23us/step - loss: 0.6305 - acc: 0.6792 - val_loss: 0.7081 - val_acc: 0.6753\n",
            "Epoch 136/1000\n",
            "614/614 [==============================] - 0s 28us/step - loss: 0.6967 - acc: 0.6840 - val_loss: 0.7086 - val_acc: 0.6753\n",
            "Epoch 137/1000\n",
            "614/614 [==============================] - 0s 22us/step - loss: 0.6881 - acc: 0.6906 - val_loss: 0.7155 - val_acc: 0.6753\n",
            "Epoch 138/1000\n",
            "614/614 [==============================] - 0s 21us/step - loss: 0.6775 - acc: 0.6922 - val_loss: 0.7237 - val_acc: 0.6883\n",
            "Epoch 139/1000\n",
            "614/614 [==============================] - 0s 21us/step - loss: 0.7132 - acc: 0.6824 - val_loss: 0.7256 - val_acc: 0.6883\n",
            "Epoch 140/1000\n",
            "614/614 [==============================] - 0s 21us/step - loss: 0.6919 - acc: 0.6906 - val_loss: 0.7191 - val_acc: 0.6818\n",
            "Epoch 141/1000\n",
            "614/614 [==============================] - 0s 24us/step - loss: 0.6896 - acc: 0.6661 - val_loss: 0.7145 - val_acc: 0.6818\n",
            "Epoch 142/1000\n",
            "614/614 [==============================] - 0s 25us/step - loss: 0.6269 - acc: 0.6971 - val_loss: 0.7087 - val_acc: 0.6753\n",
            "Epoch 143/1000\n",
            "614/614 [==============================] - 0s 23us/step - loss: 0.6742 - acc: 0.6857 - val_loss: 0.7056 - val_acc: 0.6753\n",
            "Epoch 144/1000\n",
            "614/614 [==============================] - 0s 24us/step - loss: 0.6948 - acc: 0.6792 - val_loss: 0.6997 - val_acc: 0.6753\n",
            "Epoch 145/1000\n",
            "614/614 [==============================] - 0s 24us/step - loss: 0.6542 - acc: 0.6987 - val_loss: 0.6968 - val_acc: 0.6948\n",
            "Epoch 146/1000\n",
            "614/614 [==============================] - 0s 20us/step - loss: 0.7086 - acc: 0.6857 - val_loss: 0.6983 - val_acc: 0.6818\n",
            "Epoch 147/1000\n",
            "614/614 [==============================] - 0s 26us/step - loss: 0.6667 - acc: 0.6889 - val_loss: 0.7049 - val_acc: 0.6818\n",
            "Epoch 148/1000\n",
            "614/614 [==============================] - 0s 29us/step - loss: 0.6791 - acc: 0.7134 - val_loss: 0.7039 - val_acc: 0.6818\n",
            "Epoch 149/1000\n",
            "614/614 [==============================] - 0s 29us/step - loss: 0.6279 - acc: 0.6954 - val_loss: 0.7062 - val_acc: 0.6818\n",
            "Epoch 150/1000\n",
            "614/614 [==============================] - 0s 21us/step - loss: 0.6263 - acc: 0.6873 - val_loss: 0.7080 - val_acc: 0.7013\n",
            "Epoch 151/1000\n",
            "614/614 [==============================] - 0s 22us/step - loss: 0.6445 - acc: 0.6857 - val_loss: 0.7048 - val_acc: 0.7013\n",
            "Epoch 152/1000\n",
            "614/614 [==============================] - 0s 31us/step - loss: 0.7179 - acc: 0.6694 - val_loss: 0.6982 - val_acc: 0.6883\n",
            "Epoch 153/1000\n",
            "614/614 [==============================] - 0s 22us/step - loss: 0.5733 - acc: 0.6954 - val_loss: 0.6910 - val_acc: 0.6883\n",
            "Epoch 154/1000\n",
            "614/614 [==============================] - 0s 21us/step - loss: 0.6846 - acc: 0.6938 - val_loss: 0.6854 - val_acc: 0.6818\n",
            "Epoch 155/1000\n",
            "614/614 [==============================] - 0s 24us/step - loss: 0.6384 - acc: 0.7003 - val_loss: 0.6806 - val_acc: 0.6818\n",
            "Epoch 156/1000\n",
            "614/614 [==============================] - 0s 22us/step - loss: 0.6851 - acc: 0.7020 - val_loss: 0.6784 - val_acc: 0.6818\n",
            "Epoch 157/1000\n",
            "614/614 [==============================] - 0s 26us/step - loss: 0.6595 - acc: 0.6824 - val_loss: 0.6783 - val_acc: 0.6818\n",
            "Epoch 158/1000\n",
            "614/614 [==============================] - 0s 21us/step - loss: 0.6453 - acc: 0.6906 - val_loss: 0.6781 - val_acc: 0.6883\n",
            "Epoch 159/1000\n",
            "614/614 [==============================] - 0s 22us/step - loss: 0.6661 - acc: 0.6873 - val_loss: 0.6754 - val_acc: 0.6883\n",
            "Epoch 160/1000\n",
            "614/614 [==============================] - 0s 24us/step - loss: 0.6361 - acc: 0.6645 - val_loss: 0.6726 - val_acc: 0.6818\n",
            "Epoch 161/1000\n",
            "614/614 [==============================] - 0s 25us/step - loss: 0.6670 - acc: 0.7020 - val_loss: 0.6723 - val_acc: 0.6883\n",
            "Epoch 162/1000\n",
            "614/614 [==============================] - 0s 22us/step - loss: 0.6840 - acc: 0.6938 - val_loss: 0.6730 - val_acc: 0.6883\n",
            "Epoch 163/1000\n",
            "614/614 [==============================] - 0s 23us/step - loss: 0.6769 - acc: 0.6889 - val_loss: 0.6747 - val_acc: 0.6818\n",
            "Epoch 164/1000\n",
            "614/614 [==============================] - 0s 23us/step - loss: 0.6235 - acc: 0.6857 - val_loss: 0.6746 - val_acc: 0.6818\n",
            "Epoch 165/1000\n",
            "614/614 [==============================] - 0s 21us/step - loss: 0.6460 - acc: 0.6792 - val_loss: 0.6740 - val_acc: 0.6948\n",
            "Epoch 166/1000\n",
            "614/614 [==============================] - 0s 23us/step - loss: 0.6316 - acc: 0.7020 - val_loss: 0.6767 - val_acc: 0.6883\n",
            "Epoch 167/1000\n",
            "614/614 [==============================] - 0s 18us/step - loss: 0.6958 - acc: 0.7036 - val_loss: 0.6776 - val_acc: 0.7013\n",
            "Epoch 168/1000\n",
            "614/614 [==============================] - 0s 17us/step - loss: 0.6301 - acc: 0.6906 - val_loss: 0.6741 - val_acc: 0.6818\n",
            "Epoch 169/1000\n",
            "614/614 [==============================] - 0s 21us/step - loss: 0.6123 - acc: 0.7134 - val_loss: 0.6728 - val_acc: 0.6688\n",
            "Epoch 170/1000\n",
            "614/614 [==============================] - 0s 18us/step - loss: 0.6382 - acc: 0.6694 - val_loss: 0.6711 - val_acc: 0.6883\n",
            "Epoch 171/1000\n",
            "614/614 [==============================] - 0s 37us/step - loss: 0.6533 - acc: 0.6645 - val_loss: 0.6687 - val_acc: 0.6883\n",
            "Epoch 172/1000\n",
            "614/614 [==============================] - 0s 21us/step - loss: 0.6444 - acc: 0.6873 - val_loss: 0.6674 - val_acc: 0.6883\n",
            "Epoch 173/1000\n",
            "614/614 [==============================] - 0s 17us/step - loss: 0.6385 - acc: 0.6873 - val_loss: 0.6657 - val_acc: 0.6753\n",
            "Epoch 174/1000\n",
            "614/614 [==============================] - 0s 25us/step - loss: 0.6390 - acc: 0.6710 - val_loss: 0.6618 - val_acc: 0.6818\n",
            "Epoch 175/1000\n",
            "614/614 [==============================] - 0s 21us/step - loss: 0.6510 - acc: 0.6954 - val_loss: 0.6596 - val_acc: 0.7013\n",
            "Epoch 176/1000\n",
            "614/614 [==============================] - 0s 25us/step - loss: 0.6535 - acc: 0.7036 - val_loss: 0.6582 - val_acc: 0.6948\n",
            "Epoch 177/1000\n",
            "614/614 [==============================] - 0s 22us/step - loss: 0.6405 - acc: 0.6873 - val_loss: 0.6569 - val_acc: 0.6883\n",
            "Epoch 178/1000\n",
            "614/614 [==============================] - 0s 20us/step - loss: 0.6181 - acc: 0.6922 - val_loss: 0.6559 - val_acc: 0.6883\n",
            "Epoch 179/1000\n",
            "614/614 [==============================] - 0s 21us/step - loss: 0.6559 - acc: 0.7003 - val_loss: 0.6542 - val_acc: 0.6883\n",
            "Epoch 180/1000\n",
            "614/614 [==============================] - 0s 22us/step - loss: 0.7069 - acc: 0.6661 - val_loss: 0.6536 - val_acc: 0.6883\n",
            "Epoch 181/1000\n",
            "614/614 [==============================] - 0s 35us/step - loss: 0.6384 - acc: 0.6971 - val_loss: 0.6505 - val_acc: 0.6818\n",
            "Epoch 182/1000\n",
            "614/614 [==============================] - 0s 17us/step - loss: 0.6070 - acc: 0.6987 - val_loss: 0.6493 - val_acc: 0.6818\n",
            "Epoch 183/1000\n",
            "614/614 [==============================] - 0s 22us/step - loss: 0.6068 - acc: 0.6775 - val_loss: 0.6513 - val_acc: 0.6883\n",
            "Epoch 184/1000\n",
            "614/614 [==============================] - 0s 17us/step - loss: 0.6813 - acc: 0.7085 - val_loss: 0.6522 - val_acc: 0.6753\n",
            "Epoch 185/1000\n",
            "614/614 [==============================] - 0s 22us/step - loss: 0.6080 - acc: 0.7003 - val_loss: 0.6505 - val_acc: 0.6688\n",
            "Epoch 186/1000\n",
            "614/614 [==============================] - 0s 19us/step - loss: 0.6623 - acc: 0.6824 - val_loss: 0.6472 - val_acc: 0.6818\n",
            "Epoch 187/1000\n",
            "614/614 [==============================] - 0s 20us/step - loss: 0.6296 - acc: 0.7020 - val_loss: 0.6465 - val_acc: 0.6753\n",
            "Epoch 188/1000\n",
            "614/614 [==============================] - 0s 25us/step - loss: 0.6243 - acc: 0.6987 - val_loss: 0.6464 - val_acc: 0.6883\n",
            "Epoch 189/1000\n",
            "614/614 [==============================] - 0s 24us/step - loss: 0.6262 - acc: 0.6840 - val_loss: 0.6465 - val_acc: 0.6883\n",
            "Epoch 190/1000\n",
            "614/614 [==============================] - 0s 19us/step - loss: 0.6289 - acc: 0.6906 - val_loss: 0.6427 - val_acc: 0.6948\n",
            "Epoch 191/1000\n",
            "614/614 [==============================] - 0s 24us/step - loss: 0.6470 - acc: 0.6971 - val_loss: 0.6424 - val_acc: 0.7013\n",
            "Epoch 192/1000\n",
            "614/614 [==============================] - 0s 24us/step - loss: 0.6094 - acc: 0.6906 - val_loss: 0.6413 - val_acc: 0.7013\n",
            "Epoch 193/1000\n",
            "614/614 [==============================] - 0s 19us/step - loss: 0.6471 - acc: 0.6759 - val_loss: 0.6408 - val_acc: 0.7013\n",
            "Epoch 194/1000\n",
            "614/614 [==============================] - 0s 26us/step - loss: 0.6197 - acc: 0.6857 - val_loss: 0.6415 - val_acc: 0.6883\n",
            "Epoch 195/1000\n",
            "614/614 [==============================] - 0s 23us/step - loss: 0.6504 - acc: 0.7020 - val_loss: 0.6438 - val_acc: 0.6948\n",
            "Epoch 196/1000\n",
            "614/614 [==============================] - 0s 21us/step - loss: 0.6397 - acc: 0.7085 - val_loss: 0.6483 - val_acc: 0.6753\n",
            "Epoch 197/1000\n",
            "614/614 [==============================] - 0s 25us/step - loss: 0.6370 - acc: 0.6857 - val_loss: 0.6520 - val_acc: 0.6883\n",
            "Epoch 198/1000\n",
            "614/614 [==============================] - 0s 21us/step - loss: 0.6567 - acc: 0.6775 - val_loss: 0.6493 - val_acc: 0.7078\n",
            "Epoch 199/1000\n",
            "614/614 [==============================] - 0s 19us/step - loss: 0.6531 - acc: 0.6889 - val_loss: 0.6441 - val_acc: 0.6818\n",
            "Epoch 200/1000\n",
            "614/614 [==============================] - 0s 26us/step - loss: 0.5764 - acc: 0.7182 - val_loss: 0.6386 - val_acc: 0.6883\n",
            "Epoch 201/1000\n",
            "614/614 [==============================] - 0s 21us/step - loss: 0.5751 - acc: 0.7052 - val_loss: 0.6371 - val_acc: 0.6818\n",
            "Epoch 202/1000\n",
            "614/614 [==============================] - 0s 23us/step - loss: 0.5830 - acc: 0.7052 - val_loss: 0.6380 - val_acc: 0.7078\n",
            "Epoch 203/1000\n",
            "614/614 [==============================] - 0s 20us/step - loss: 0.5975 - acc: 0.6922 - val_loss: 0.6386 - val_acc: 0.7078\n",
            "Epoch 204/1000\n",
            "614/614 [==============================] - 0s 20us/step - loss: 0.6003 - acc: 0.7068 - val_loss: 0.6350 - val_acc: 0.7013\n",
            "Epoch 205/1000\n",
            "614/614 [==============================] - 0s 26us/step - loss: 0.5734 - acc: 0.7101 - val_loss: 0.6318 - val_acc: 0.6818\n",
            "Epoch 206/1000\n",
            "614/614 [==============================] - 0s 20us/step - loss: 0.5921 - acc: 0.7280 - val_loss: 0.6304 - val_acc: 0.6818\n",
            "Epoch 207/1000\n",
            "614/614 [==============================] - 0s 20us/step - loss: 0.5849 - acc: 0.7134 - val_loss: 0.6305 - val_acc: 0.6818\n",
            "Epoch 208/1000\n",
            "614/614 [==============================] - 0s 20us/step - loss: 0.5619 - acc: 0.7150 - val_loss: 0.6338 - val_acc: 0.7013\n",
            "Epoch 209/1000\n",
            "614/614 [==============================] - 0s 25us/step - loss: 0.5912 - acc: 0.7248 - val_loss: 0.6361 - val_acc: 0.6948\n",
            "Epoch 210/1000\n",
            "614/614 [==============================] - 0s 26us/step - loss: 0.5993 - acc: 0.6954 - val_loss: 0.6362 - val_acc: 0.6948\n",
            "Epoch 211/1000\n",
            "614/614 [==============================] - 0s 20us/step - loss: 0.6277 - acc: 0.6824 - val_loss: 0.6364 - val_acc: 0.6883\n",
            "Epoch 212/1000\n",
            "614/614 [==============================] - 0s 27us/step - loss: 0.6366 - acc: 0.6889 - val_loss: 0.6363 - val_acc: 0.6948\n",
            "Epoch 213/1000\n",
            "614/614 [==============================] - 0s 21us/step - loss: 0.5825 - acc: 0.7085 - val_loss: 0.6349 - val_acc: 0.6883\n",
            "Epoch 214/1000\n",
            "614/614 [==============================] - 0s 23us/step - loss: 0.6269 - acc: 0.6857 - val_loss: 0.6331 - val_acc: 0.6883\n",
            "Epoch 215/1000\n",
            "614/614 [==============================] - 0s 27us/step - loss: 0.5797 - acc: 0.6873 - val_loss: 0.6304 - val_acc: 0.6883\n",
            "Epoch 216/1000\n",
            "614/614 [==============================] - 0s 21us/step - loss: 0.6103 - acc: 0.7020 - val_loss: 0.6275 - val_acc: 0.6948\n",
            "Epoch 217/1000\n",
            "614/614 [==============================] - 0s 17us/step - loss: 0.5784 - acc: 0.7036 - val_loss: 0.6259 - val_acc: 0.6948\n",
            "Epoch 218/1000\n",
            "614/614 [==============================] - 0s 20us/step - loss: 0.6377 - acc: 0.6954 - val_loss: 0.6247 - val_acc: 0.6753\n",
            "Epoch 219/1000\n",
            "614/614 [==============================] - 0s 24us/step - loss: 0.5863 - acc: 0.6938 - val_loss: 0.6246 - val_acc: 0.6688\n",
            "Epoch 220/1000\n",
            "614/614 [==============================] - 0s 20us/step - loss: 0.5955 - acc: 0.6808 - val_loss: 0.6248 - val_acc: 0.6883\n",
            "Epoch 221/1000\n",
            "614/614 [==============================] - 0s 20us/step - loss: 0.5979 - acc: 0.7134 - val_loss: 0.6260 - val_acc: 0.7013\n",
            "Epoch 222/1000\n",
            "614/614 [==============================] - 0s 25us/step - loss: 0.6054 - acc: 0.6954 - val_loss: 0.6243 - val_acc: 0.7013\n",
            "Epoch 223/1000\n",
            "614/614 [==============================] - 0s 24us/step - loss: 0.5963 - acc: 0.7150 - val_loss: 0.6217 - val_acc: 0.6883\n",
            "Epoch 224/1000\n",
            "614/614 [==============================] - 0s 20us/step - loss: 0.5980 - acc: 0.7003 - val_loss: 0.6181 - val_acc: 0.6883\n",
            "Epoch 225/1000\n",
            "614/614 [==============================] - 0s 21us/step - loss: 0.6023 - acc: 0.6873 - val_loss: 0.6154 - val_acc: 0.7013\n",
            "Epoch 226/1000\n",
            "614/614 [==============================] - 0s 20us/step - loss: 0.5875 - acc: 0.6906 - val_loss: 0.6134 - val_acc: 0.6948\n",
            "Epoch 227/1000\n",
            "614/614 [==============================] - 0s 21us/step - loss: 0.5953 - acc: 0.7166 - val_loss: 0.6119 - val_acc: 0.7013\n",
            "Epoch 228/1000\n",
            "614/614 [==============================] - 0s 19us/step - loss: 0.5609 - acc: 0.7003 - val_loss: 0.6113 - val_acc: 0.6948\n",
            "Epoch 229/1000\n",
            "614/614 [==============================] - 0s 21us/step - loss: 0.5777 - acc: 0.7003 - val_loss: 0.6118 - val_acc: 0.6883\n",
            "Epoch 230/1000\n",
            "614/614 [==============================] - 0s 18us/step - loss: 0.6112 - acc: 0.7166 - val_loss: 0.6132 - val_acc: 0.6948\n",
            "Epoch 231/1000\n",
            "614/614 [==============================] - 0s 24us/step - loss: 0.5925 - acc: 0.6889 - val_loss: 0.6139 - val_acc: 0.6948\n",
            "Epoch 232/1000\n",
            "614/614 [==============================] - 0s 21us/step - loss: 0.5827 - acc: 0.6906 - val_loss: 0.6126 - val_acc: 0.6883\n",
            "Epoch 233/1000\n",
            "614/614 [==============================] - 0s 21us/step - loss: 0.6006 - acc: 0.6857 - val_loss: 0.6129 - val_acc: 0.6883\n",
            "Epoch 234/1000\n",
            "614/614 [==============================] - 0s 19us/step - loss: 0.5581 - acc: 0.7003 - val_loss: 0.6132 - val_acc: 0.6948\n",
            "Epoch 235/1000\n",
            "614/614 [==============================] - 0s 19us/step - loss: 0.5930 - acc: 0.7068 - val_loss: 0.6135 - val_acc: 0.6948\n",
            "Epoch 236/1000\n",
            "614/614 [==============================] - 0s 21us/step - loss: 0.5914 - acc: 0.7068 - val_loss: 0.6125 - val_acc: 0.6948\n",
            "Epoch 237/1000\n",
            "614/614 [==============================] - 0s 18us/step - loss: 0.5740 - acc: 0.7166 - val_loss: 0.6123 - val_acc: 0.6948\n",
            "Epoch 238/1000\n",
            "614/614 [==============================] - 0s 18us/step - loss: 0.5914 - acc: 0.6954 - val_loss: 0.6117 - val_acc: 0.7013\n",
            "Epoch 239/1000\n",
            "614/614 [==============================] - 0s 18us/step - loss: 0.5830 - acc: 0.7166 - val_loss: 0.6104 - val_acc: 0.7013\n",
            "Epoch 240/1000\n",
            "614/614 [==============================] - 0s 17us/step - loss: 0.5837 - acc: 0.6922 - val_loss: 0.6075 - val_acc: 0.6818\n",
            "Epoch 241/1000\n",
            "614/614 [==============================] - 0s 23us/step - loss: 0.5962 - acc: 0.6857 - val_loss: 0.6061 - val_acc: 0.6948\n",
            "Epoch 242/1000\n",
            "614/614 [==============================] - 0s 21us/step - loss: 0.5889 - acc: 0.7068 - val_loss: 0.6064 - val_acc: 0.6948\n",
            "Epoch 243/1000\n",
            "614/614 [==============================] - 0s 21us/step - loss: 0.6182 - acc: 0.7003 - val_loss: 0.6072 - val_acc: 0.6883\n",
            "Epoch 244/1000\n",
            "614/614 [==============================] - 0s 23us/step - loss: 0.5889 - acc: 0.6971 - val_loss: 0.6090 - val_acc: 0.6753\n",
            "Epoch 245/1000\n",
            "614/614 [==============================] - 0s 20us/step - loss: 0.5726 - acc: 0.6938 - val_loss: 0.6101 - val_acc: 0.6883\n",
            "Epoch 246/1000\n",
            "614/614 [==============================] - 0s 16us/step - loss: 0.6178 - acc: 0.6873 - val_loss: 0.6108 - val_acc: 0.6883\n",
            "Epoch 247/1000\n",
            "614/614 [==============================] - 0s 20us/step - loss: 0.6053 - acc: 0.7248 - val_loss: 0.6109 - val_acc: 0.6883\n",
            "Epoch 248/1000\n",
            "614/614 [==============================] - 0s 23us/step - loss: 0.5740 - acc: 0.7068 - val_loss: 0.6102 - val_acc: 0.6883\n",
            "Epoch 249/1000\n",
            "614/614 [==============================] - 0s 24us/step - loss: 0.5616 - acc: 0.7101 - val_loss: 0.6089 - val_acc: 0.6883\n",
            "Epoch 250/1000\n",
            "614/614 [==============================] - 0s 27us/step - loss: 0.5928 - acc: 0.7231 - val_loss: 0.6078 - val_acc: 0.6883\n",
            "Epoch 251/1000\n",
            "614/614 [==============================] - 0s 22us/step - loss: 0.5920 - acc: 0.7003 - val_loss: 0.6067 - val_acc: 0.6883\n",
            "Epoch 252/1000\n",
            "614/614 [==============================] - 0s 29us/step - loss: 0.5702 - acc: 0.7231 - val_loss: 0.6055 - val_acc: 0.6818\n",
            "Epoch 253/1000\n",
            "614/614 [==============================] - 0s 22us/step - loss: 0.5944 - acc: 0.6889 - val_loss: 0.6052 - val_acc: 0.6948\n",
            "Epoch 254/1000\n",
            "614/614 [==============================] - 0s 17us/step - loss: 0.5929 - acc: 0.6857 - val_loss: 0.6059 - val_acc: 0.7078\n",
            "Epoch 255/1000\n",
            "614/614 [==============================] - 0s 25us/step - loss: 0.6127 - acc: 0.6840 - val_loss: 0.6060 - val_acc: 0.7078\n",
            "Epoch 256/1000\n",
            "614/614 [==============================] - 0s 22us/step - loss: 0.5544 - acc: 0.7182 - val_loss: 0.6069 - val_acc: 0.7143\n",
            "Epoch 257/1000\n",
            "614/614 [==============================] - 0s 20us/step - loss: 0.5938 - acc: 0.7199 - val_loss: 0.6069 - val_acc: 0.6948\n",
            "Epoch 258/1000\n",
            "614/614 [==============================] - 0s 24us/step - loss: 0.5665 - acc: 0.7003 - val_loss: 0.6059 - val_acc: 0.7013\n",
            "Epoch 259/1000\n",
            "614/614 [==============================] - 0s 23us/step - loss: 0.6043 - acc: 0.6954 - val_loss: 0.6050 - val_acc: 0.6948\n",
            "Epoch 260/1000\n",
            "614/614 [==============================] - 0s 26us/step - loss: 0.5817 - acc: 0.6857 - val_loss: 0.6025 - val_acc: 0.6818\n",
            "Epoch 261/1000\n",
            "614/614 [==============================] - 0s 20us/step - loss: 0.5763 - acc: 0.6922 - val_loss: 0.5998 - val_acc: 0.6948\n",
            "Epoch 262/1000\n",
            "614/614 [==============================] - 0s 30us/step - loss: 0.5802 - acc: 0.7101 - val_loss: 0.5976 - val_acc: 0.6948\n",
            "Epoch 263/1000\n",
            "614/614 [==============================] - 0s 21us/step - loss: 0.5941 - acc: 0.6987 - val_loss: 0.5950 - val_acc: 0.6948\n",
            "Epoch 264/1000\n",
            "614/614 [==============================] - 0s 20us/step - loss: 0.5821 - acc: 0.7003 - val_loss: 0.5940 - val_acc: 0.6948\n",
            "Epoch 265/1000\n",
            "614/614 [==============================] - 0s 19us/step - loss: 0.5942 - acc: 0.7003 - val_loss: 0.5944 - val_acc: 0.7078\n",
            "Epoch 266/1000\n",
            "614/614 [==============================] - 0s 21us/step - loss: 0.5695 - acc: 0.6971 - val_loss: 0.5955 - val_acc: 0.7273\n",
            "Epoch 267/1000\n",
            "614/614 [==============================] - 0s 22us/step - loss: 0.5645 - acc: 0.7068 - val_loss: 0.5970 - val_acc: 0.7338\n",
            "Epoch 268/1000\n",
            "614/614 [==============================] - 0s 16us/step - loss: 0.5738 - acc: 0.7296 - val_loss: 0.5977 - val_acc: 0.7403\n",
            "Epoch 269/1000\n",
            "614/614 [==============================] - 0s 20us/step - loss: 0.6293 - acc: 0.6775 - val_loss: 0.5969 - val_acc: 0.7143\n",
            "Epoch 270/1000\n",
            "614/614 [==============================] - 0s 20us/step - loss: 0.5629 - acc: 0.7166 - val_loss: 0.5965 - val_acc: 0.7013\n",
            "Epoch 271/1000\n",
            "614/614 [==============================] - 0s 19us/step - loss: 0.5771 - acc: 0.6987 - val_loss: 0.5955 - val_acc: 0.7143\n",
            "Epoch 272/1000\n",
            "614/614 [==============================] - 0s 29us/step - loss: 0.5701 - acc: 0.7134 - val_loss: 0.5953 - val_acc: 0.7078\n",
            "Epoch 273/1000\n",
            "614/614 [==============================] - 0s 15us/step - loss: 0.5688 - acc: 0.7003 - val_loss: 0.5954 - val_acc: 0.7143\n",
            "Epoch 274/1000\n",
            "614/614 [==============================] - 0s 16us/step - loss: 0.5713 - acc: 0.7052 - val_loss: 0.5960 - val_acc: 0.6948\n",
            "Epoch 275/1000\n",
            "614/614 [==============================] - 0s 23us/step - loss: 0.5618 - acc: 0.7020 - val_loss: 0.5969 - val_acc: 0.6948\n",
            "Epoch 276/1000\n",
            "614/614 [==============================] - 0s 19us/step - loss: 0.5750 - acc: 0.7134 - val_loss: 0.5980 - val_acc: 0.6883\n",
            "Epoch 277/1000\n",
            "614/614 [==============================] - 0s 24us/step - loss: 0.5662 - acc: 0.7166 - val_loss: 0.5973 - val_acc: 0.6883\n",
            "Epoch 278/1000\n",
            "614/614 [==============================] - 0s 20us/step - loss: 0.5722 - acc: 0.6857 - val_loss: 0.5960 - val_acc: 0.6818\n",
            "Epoch 279/1000\n",
            "614/614 [==============================] - 0s 19us/step - loss: 0.5789 - acc: 0.6840 - val_loss: 0.5949 - val_acc: 0.6883\n",
            "Epoch 280/1000\n",
            "614/614 [==============================] - 0s 21us/step - loss: 0.5709 - acc: 0.6971 - val_loss: 0.5940 - val_acc: 0.6883\n",
            "Epoch 281/1000\n",
            "614/614 [==============================] - 0s 24us/step - loss: 0.5661 - acc: 0.6906 - val_loss: 0.5946 - val_acc: 0.6818\n",
            "Epoch 282/1000\n",
            "614/614 [==============================] - 0s 22us/step - loss: 0.5680 - acc: 0.7020 - val_loss: 0.5952 - val_acc: 0.6948\n",
            "Epoch 283/1000\n",
            "614/614 [==============================] - 0s 18us/step - loss: 0.5676 - acc: 0.7231 - val_loss: 0.5951 - val_acc: 0.6948\n",
            "Epoch 284/1000\n",
            "614/614 [==============================] - 0s 26us/step - loss: 0.5695 - acc: 0.7117 - val_loss: 0.5957 - val_acc: 0.6948\n",
            "Epoch 285/1000\n",
            "614/614 [==============================] - 0s 22us/step - loss: 0.5798 - acc: 0.7068 - val_loss: 0.5973 - val_acc: 0.7208\n",
            "Epoch 286/1000\n",
            "614/614 [==============================] - 0s 20us/step - loss: 0.5679 - acc: 0.6987 - val_loss: 0.5985 - val_acc: 0.7403\n",
            "Epoch 287/1000\n",
            "614/614 [==============================] - 0s 19us/step - loss: 0.5681 - acc: 0.7182 - val_loss: 0.5973 - val_acc: 0.7208\n",
            "Epoch 288/1000\n",
            "614/614 [==============================] - 0s 26us/step - loss: 0.5948 - acc: 0.6840 - val_loss: 0.5940 - val_acc: 0.7078\n",
            "Epoch 289/1000\n",
            "614/614 [==============================] - 0s 35us/step - loss: 0.5609 - acc: 0.7248 - val_loss: 0.5924 - val_acc: 0.6948\n",
            "Epoch 290/1000\n",
            "614/614 [==============================] - 0s 20us/step - loss: 0.5798 - acc: 0.7068 - val_loss: 0.5919 - val_acc: 0.7013\n",
            "Epoch 291/1000\n",
            "614/614 [==============================] - 0s 18us/step - loss: 0.5570 - acc: 0.7443 - val_loss: 0.5921 - val_acc: 0.6883\n",
            "Epoch 292/1000\n",
            "614/614 [==============================] - 0s 17us/step - loss: 0.5401 - acc: 0.7199 - val_loss: 0.5928 - val_acc: 0.6883\n",
            "Epoch 293/1000\n",
            "614/614 [==============================] - 0s 14us/step - loss: 0.5686 - acc: 0.7199 - val_loss: 0.5931 - val_acc: 0.7143\n",
            "Epoch 294/1000\n",
            "614/614 [==============================] - 0s 27us/step - loss: 0.5875 - acc: 0.6873 - val_loss: 0.5937 - val_acc: 0.7338\n",
            "Epoch 295/1000\n",
            "614/614 [==============================] - 0s 22us/step - loss: 0.5806 - acc: 0.7003 - val_loss: 0.5939 - val_acc: 0.7338\n",
            "Epoch 296/1000\n",
            "614/614 [==============================] - 0s 25us/step - loss: 0.5724 - acc: 0.7296 - val_loss: 0.5949 - val_acc: 0.7338\n",
            "Epoch 297/1000\n",
            "614/614 [==============================] - 0s 28us/step - loss: 0.5788 - acc: 0.7003 - val_loss: 0.5970 - val_acc: 0.7403\n",
            "Epoch 298/1000\n",
            "614/614 [==============================] - 0s 27us/step - loss: 0.5631 - acc: 0.7329 - val_loss: 0.5968 - val_acc: 0.7273\n",
            "Epoch 299/1000\n",
            "614/614 [==============================] - 0s 21us/step - loss: 0.5621 - acc: 0.7150 - val_loss: 0.5953 - val_acc: 0.7143\n",
            "Epoch 300/1000\n",
            "614/614 [==============================] - 0s 19us/step - loss: 0.5645 - acc: 0.7085 - val_loss: 0.5943 - val_acc: 0.7078\n",
            "Epoch 301/1000\n",
            "614/614 [==============================] - 0s 22us/step - loss: 0.5762 - acc: 0.7134 - val_loss: 0.5937 - val_acc: 0.7078\n",
            "Epoch 302/1000\n",
            "614/614 [==============================] - 0s 24us/step - loss: 0.5588 - acc: 0.7117 - val_loss: 0.5934 - val_acc: 0.7078\n",
            "Epoch 303/1000\n",
            "614/614 [==============================] - 0s 29us/step - loss: 0.5678 - acc: 0.7394 - val_loss: 0.5961 - val_acc: 0.7208\n",
            "Epoch 304/1000\n",
            "614/614 [==============================] - 0s 24us/step - loss: 0.5770 - acc: 0.6906 - val_loss: 0.5963 - val_acc: 0.7273\n",
            "Epoch 305/1000\n",
            "614/614 [==============================] - 0s 21us/step - loss: 0.5630 - acc: 0.7117 - val_loss: 0.5936 - val_acc: 0.7078\n",
            "Epoch 306/1000\n",
            "614/614 [==============================] - 0s 22us/step - loss: 0.5530 - acc: 0.7117 - val_loss: 0.5930 - val_acc: 0.7078\n",
            "Epoch 307/1000\n",
            "614/614 [==============================] - 0s 32us/step - loss: 0.5530 - acc: 0.7150 - val_loss: 0.5939 - val_acc: 0.7078\n",
            "Epoch 308/1000\n",
            "614/614 [==============================] - 0s 23us/step - loss: 0.5805 - acc: 0.7117 - val_loss: 0.5966 - val_acc: 0.7143\n",
            "Epoch 309/1000\n",
            "614/614 [==============================] - 0s 23us/step - loss: 0.5781 - acc: 0.6987 - val_loss: 0.6000 - val_acc: 0.7338\n",
            "Epoch 310/1000\n",
            "614/614 [==============================] - 0s 20us/step - loss: 0.5642 - acc: 0.7166 - val_loss: 0.6028 - val_acc: 0.7338\n",
            "Epoch 311/1000\n",
            "614/614 [==============================] - 0s 24us/step - loss: 0.5550 - acc: 0.7036 - val_loss: 0.6010 - val_acc: 0.7273\n",
            "Epoch 312/1000\n",
            "614/614 [==============================] - 0s 20us/step - loss: 0.5583 - acc: 0.7166 - val_loss: 0.5984 - val_acc: 0.7013\n",
            "Epoch 313/1000\n",
            "614/614 [==============================] - 0s 19us/step - loss: 0.5578 - acc: 0.7231 - val_loss: 0.5973 - val_acc: 0.6948\n",
            "Epoch 314/1000\n",
            "614/614 [==============================] - 0s 23us/step - loss: 0.5767 - acc: 0.6987 - val_loss: 0.5952 - val_acc: 0.6948\n",
            "Epoch 315/1000\n",
            "614/614 [==============================] - 0s 18us/step - loss: 0.5949 - acc: 0.6775 - val_loss: 0.5929 - val_acc: 0.6948\n",
            "Epoch 316/1000\n",
            "614/614 [==============================] - 0s 18us/step - loss: 0.5694 - acc: 0.7085 - val_loss: 0.5910 - val_acc: 0.6948\n",
            "Epoch 317/1000\n",
            "614/614 [==============================] - 0s 20us/step - loss: 0.5705 - acc: 0.6840 - val_loss: 0.5910 - val_acc: 0.6818\n",
            "Epoch 318/1000\n",
            "614/614 [==============================] - 0s 20us/step - loss: 0.5434 - acc: 0.7296 - val_loss: 0.5904 - val_acc: 0.6818\n",
            "Epoch 319/1000\n",
            "614/614 [==============================] - 0s 22us/step - loss: 0.5549 - acc: 0.7280 - val_loss: 0.5891 - val_acc: 0.7013\n",
            "Epoch 320/1000\n",
            "614/614 [==============================] - 0s 19us/step - loss: 0.5707 - acc: 0.6938 - val_loss: 0.5896 - val_acc: 0.7013\n",
            "Epoch 321/1000\n",
            "614/614 [==============================] - 0s 16us/step - loss: 0.5554 - acc: 0.7150 - val_loss: 0.5905 - val_acc: 0.7013\n",
            "Epoch 322/1000\n",
            "614/614 [==============================] - 0s 18us/step - loss: 0.5623 - acc: 0.7052 - val_loss: 0.5912 - val_acc: 0.6948\n",
            "Epoch 323/1000\n",
            "614/614 [==============================] - 0s 18us/step - loss: 0.5483 - acc: 0.7150 - val_loss: 0.5915 - val_acc: 0.6818\n",
            "Epoch 324/1000\n",
            "614/614 [==============================] - 0s 22us/step - loss: 0.5627 - acc: 0.7085 - val_loss: 0.5928 - val_acc: 0.7078\n",
            "Epoch 325/1000\n",
            "614/614 [==============================] - 0s 22us/step - loss: 0.5873 - acc: 0.7036 - val_loss: 0.5928 - val_acc: 0.7208\n",
            "Epoch 326/1000\n",
            "614/614 [==============================] - 0s 23us/step - loss: 0.5655 - acc: 0.7134 - val_loss: 0.5904 - val_acc: 0.7208\n",
            "Epoch 327/1000\n",
            "614/614 [==============================] - 0s 20us/step - loss: 0.5357 - acc: 0.7264 - val_loss: 0.5866 - val_acc: 0.7013\n",
            "Epoch 328/1000\n",
            "614/614 [==============================] - 0s 21us/step - loss: 0.5682 - acc: 0.7117 - val_loss: 0.5852 - val_acc: 0.7143\n",
            "Epoch 329/1000\n",
            "614/614 [==============================] - 0s 22us/step - loss: 0.5866 - acc: 0.6922 - val_loss: 0.5853 - val_acc: 0.7273\n",
            "Epoch 330/1000\n",
            "614/614 [==============================] - 0s 20us/step - loss: 0.5587 - acc: 0.7150 - val_loss: 0.5867 - val_acc: 0.7338\n",
            "Epoch 331/1000\n",
            "614/614 [==============================] - 0s 29us/step - loss: 0.5487 - acc: 0.7117 - val_loss: 0.5861 - val_acc: 0.7208\n",
            "Epoch 332/1000\n",
            "614/614 [==============================] - 0s 21us/step - loss: 0.5777 - acc: 0.7036 - val_loss: 0.5860 - val_acc: 0.7208\n",
            "Epoch 333/1000\n",
            "614/614 [==============================] - 0s 24us/step - loss: 0.5843 - acc: 0.6857 - val_loss: 0.5855 - val_acc: 0.7078\n",
            "Epoch 334/1000\n",
            "614/614 [==============================] - 0s 20us/step - loss: 0.5631 - acc: 0.7264 - val_loss: 0.5844 - val_acc: 0.7078\n",
            "Epoch 335/1000\n",
            "614/614 [==============================] - 0s 18us/step - loss: 0.5424 - acc: 0.7134 - val_loss: 0.5825 - val_acc: 0.7078\n",
            "Epoch 336/1000\n",
            "614/614 [==============================] - 0s 17us/step - loss: 0.5506 - acc: 0.7134 - val_loss: 0.5824 - val_acc: 0.7403\n",
            "Epoch 337/1000\n",
            "614/614 [==============================] - 0s 20us/step - loss: 0.5848 - acc: 0.6938 - val_loss: 0.5832 - val_acc: 0.7532\n",
            "Epoch 338/1000\n",
            "614/614 [==============================] - 0s 21us/step - loss: 0.5400 - acc: 0.6987 - val_loss: 0.5835 - val_acc: 0.7468\n",
            "Epoch 339/1000\n",
            "614/614 [==============================] - 0s 19us/step - loss: 0.5459 - acc: 0.7117 - val_loss: 0.5816 - val_acc: 0.7208\n",
            "Epoch 340/1000\n",
            "614/614 [==============================] - 0s 22us/step - loss: 0.5790 - acc: 0.7166 - val_loss: 0.5806 - val_acc: 0.7143\n",
            "Epoch 341/1000\n",
            "614/614 [==============================] - 0s 24us/step - loss: 0.5452 - acc: 0.7052 - val_loss: 0.5816 - val_acc: 0.7013\n",
            "Epoch 342/1000\n",
            "614/614 [==============================] - 0s 19us/step - loss: 0.5518 - acc: 0.7036 - val_loss: 0.5833 - val_acc: 0.6948\n",
            "Epoch 343/1000\n",
            "614/614 [==============================] - 0s 19us/step - loss: 0.5820 - acc: 0.7150 - val_loss: 0.5835 - val_acc: 0.6753\n",
            "Epoch 344/1000\n",
            "614/614 [==============================] - 0s 32us/step - loss: 0.5528 - acc: 0.7215 - val_loss: 0.5833 - val_acc: 0.6948\n",
            "Epoch 345/1000\n",
            "614/614 [==============================] - 0s 22us/step - loss: 0.5551 - acc: 0.7313 - val_loss: 0.5842 - val_acc: 0.7013\n",
            "Epoch 346/1000\n",
            "614/614 [==============================] - 0s 22us/step - loss: 0.5583 - acc: 0.6938 - val_loss: 0.5847 - val_acc: 0.7013\n",
            "Epoch 347/1000\n",
            "614/614 [==============================] - 0s 20us/step - loss: 0.5698 - acc: 0.7215 - val_loss: 0.5844 - val_acc: 0.7208\n",
            "Epoch 348/1000\n",
            "614/614 [==============================] - 0s 22us/step - loss: 0.5645 - acc: 0.7003 - val_loss: 0.5834 - val_acc: 0.7273\n",
            "Epoch 349/1000\n",
            "614/614 [==============================] - 0s 20us/step - loss: 0.5491 - acc: 0.7134 - val_loss: 0.5832 - val_acc: 0.7078\n",
            "Epoch 350/1000\n",
            "614/614 [==============================] - 0s 19us/step - loss: 0.5695 - acc: 0.6954 - val_loss: 0.5840 - val_acc: 0.7078\n",
            "Epoch 351/1000\n",
            "614/614 [==============================] - 0s 24us/step - loss: 0.5658 - acc: 0.7003 - val_loss: 0.5856 - val_acc: 0.6883\n",
            "Epoch 352/1000\n",
            "614/614 [==============================] - 0s 25us/step - loss: 0.5413 - acc: 0.7199 - val_loss: 0.5873 - val_acc: 0.6948\n",
            "Epoch 353/1000\n",
            "614/614 [==============================] - 0s 20us/step - loss: 0.5737 - acc: 0.7052 - val_loss: 0.5888 - val_acc: 0.7078\n",
            "Epoch 354/1000\n",
            "614/614 [==============================] - 0s 18us/step - loss: 0.5797 - acc: 0.7052 - val_loss: 0.5908 - val_acc: 0.7208\n",
            "Epoch 355/1000\n",
            "614/614 [==============================] - 0s 19us/step - loss: 0.5600 - acc: 0.6938 - val_loss: 0.5918 - val_acc: 0.7208\n",
            "Epoch 356/1000\n",
            "614/614 [==============================] - 0s 19us/step - loss: 0.5735 - acc: 0.7182 - val_loss: 0.5922 - val_acc: 0.7208\n",
            "Epoch 357/1000\n",
            "614/614 [==============================] - 0s 19us/step - loss: 0.5718 - acc: 0.7052 - val_loss: 0.5916 - val_acc: 0.7208\n",
            "Epoch 358/1000\n",
            "614/614 [==============================] - 0s 31us/step - loss: 0.5654 - acc: 0.7280 - val_loss: 0.5921 - val_acc: 0.7078\n",
            "Epoch 359/1000\n",
            "614/614 [==============================] - 0s 21us/step - loss: 0.5504 - acc: 0.6987 - val_loss: 0.5929 - val_acc: 0.6948\n",
            "Epoch 360/1000\n",
            "614/614 [==============================] - 0s 23us/step - loss: 0.5691 - acc: 0.7003 - val_loss: 0.5939 - val_acc: 0.6883\n",
            "Epoch 361/1000\n",
            "614/614 [==============================] - 0s 21us/step - loss: 0.5855 - acc: 0.7264 - val_loss: 0.5940 - val_acc: 0.6753\n",
            "Epoch 362/1000\n",
            "614/614 [==============================] - 0s 22us/step - loss: 0.5590 - acc: 0.7280 - val_loss: 0.5948 - val_acc: 0.6753\n",
            "Epoch 363/1000\n",
            "614/614 [==============================] - 0s 19us/step - loss: 0.5603 - acc: 0.7199 - val_loss: 0.5955 - val_acc: 0.6883\n",
            "Epoch 364/1000\n",
            "614/614 [==============================] - 0s 19us/step - loss: 0.5447 - acc: 0.7264 - val_loss: 0.5960 - val_acc: 0.6948\n",
            "Epoch 365/1000\n",
            "614/614 [==============================] - 0s 18us/step - loss: 0.5688 - acc: 0.6922 - val_loss: 0.5951 - val_acc: 0.6883\n",
            "Epoch 366/1000\n",
            "614/614 [==============================] - 0s 21us/step - loss: 0.5509 - acc: 0.7134 - val_loss: 0.5933 - val_acc: 0.6948\n",
            "Epoch 367/1000\n",
            "614/614 [==============================] - 0s 29us/step - loss: 0.5451 - acc: 0.7150 - val_loss: 0.5926 - val_acc: 0.6948\n",
            "Epoch 368/1000\n",
            "614/614 [==============================] - 0s 21us/step - loss: 0.5461 - acc: 0.7052 - val_loss: 0.5920 - val_acc: 0.6948\n",
            "Epoch 369/1000\n",
            "614/614 [==============================] - 0s 20us/step - loss: 0.5666 - acc: 0.7101 - val_loss: 0.5909 - val_acc: 0.6883\n",
            "Epoch 370/1000\n",
            "614/614 [==============================] - 0s 23us/step - loss: 0.5555 - acc: 0.7166 - val_loss: 0.5907 - val_acc: 0.6948\n",
            "Epoch 371/1000\n",
            "614/614 [==============================] - 0s 19us/step - loss: 0.5517 - acc: 0.6971 - val_loss: 0.5910 - val_acc: 0.6883\n",
            "Epoch 372/1000\n",
            "614/614 [==============================] - 0s 25us/step - loss: 0.5567 - acc: 0.7264 - val_loss: 0.5913 - val_acc: 0.7013\n",
            "Epoch 373/1000\n",
            "614/614 [==============================] - 0s 28us/step - loss: 0.5534 - acc: 0.7248 - val_loss: 0.5914 - val_acc: 0.6948\n",
            "Epoch 374/1000\n",
            "614/614 [==============================] - 0s 25us/step - loss: 0.5540 - acc: 0.7101 - val_loss: 0.5912 - val_acc: 0.7013\n",
            "Epoch 375/1000\n",
            "614/614 [==============================] - 0s 19us/step - loss: 0.5582 - acc: 0.7199 - val_loss: 0.5908 - val_acc: 0.7013\n",
            "Epoch 376/1000\n",
            "614/614 [==============================] - 0s 23us/step - loss: 0.5472 - acc: 0.7199 - val_loss: 0.5902 - val_acc: 0.7013\n",
            "Epoch 377/1000\n",
            "614/614 [==============================] - 0s 19us/step - loss: 0.5430 - acc: 0.7231 - val_loss: 0.5906 - val_acc: 0.7078\n",
            "Epoch 378/1000\n",
            "614/614 [==============================] - 0s 19us/step - loss: 0.5437 - acc: 0.7280 - val_loss: 0.5913 - val_acc: 0.7273\n",
            "Epoch 379/1000\n",
            "614/614 [==============================] - 0s 27us/step - loss: 0.5732 - acc: 0.6954 - val_loss: 0.5902 - val_acc: 0.7273\n",
            "Epoch 380/1000\n",
            "614/614 [==============================] - 0s 24us/step - loss: 0.5584 - acc: 0.6971 - val_loss: 0.5901 - val_acc: 0.7273\n",
            "Epoch 381/1000\n",
            "614/614 [==============================] - 0s 25us/step - loss: 0.5608 - acc: 0.7248 - val_loss: 0.5887 - val_acc: 0.7273\n",
            "Epoch 382/1000\n",
            "614/614 [==============================] - 0s 23us/step - loss: 0.5722 - acc: 0.7231 - val_loss: 0.5868 - val_acc: 0.7078\n",
            "Epoch 383/1000\n",
            "614/614 [==============================] - 0s 26us/step - loss: 0.5602 - acc: 0.7101 - val_loss: 0.5867 - val_acc: 0.7013\n",
            "Epoch 384/1000\n",
            "614/614 [==============================] - 0s 27us/step - loss: 0.5496 - acc: 0.7199 - val_loss: 0.5877 - val_acc: 0.6818\n",
            "Epoch 385/1000\n",
            "614/614 [==============================] - 0s 20us/step - loss: 0.5571 - acc: 0.7134 - val_loss: 0.5885 - val_acc: 0.6948\n",
            "Epoch 386/1000\n",
            "614/614 [==============================] - 0s 26us/step - loss: 0.5543 - acc: 0.7117 - val_loss: 0.5888 - val_acc: 0.6948\n",
            "Epoch 387/1000\n",
            "614/614 [==============================] - 0s 18us/step - loss: 0.5570 - acc: 0.7117 - val_loss: 0.5887 - val_acc: 0.7013\n",
            "Epoch 388/1000\n",
            "614/614 [==============================] - 0s 23us/step - loss: 0.5454 - acc: 0.7182 - val_loss: 0.5872 - val_acc: 0.6948\n",
            "Epoch 389/1000\n",
            "614/614 [==============================] - 0s 21us/step - loss: 0.5575 - acc: 0.7166 - val_loss: 0.5858 - val_acc: 0.6948\n",
            "Epoch 390/1000\n",
            "614/614 [==============================] - 0s 19us/step - loss: 0.5505 - acc: 0.7134 - val_loss: 0.5874 - val_acc: 0.6948\n",
            "Epoch 391/1000\n",
            "614/614 [==============================] - 0s 19us/step - loss: 0.5607 - acc: 0.7166 - val_loss: 0.5890 - val_acc: 0.7143\n",
            "Epoch 392/1000\n",
            "614/614 [==============================] - 0s 19us/step - loss: 0.5688 - acc: 0.7003 - val_loss: 0.5914 - val_acc: 0.7338\n",
            "Epoch 393/1000\n",
            "614/614 [==============================] - 0s 21us/step - loss: 0.5619 - acc: 0.7345 - val_loss: 0.5921 - val_acc: 0.7403\n",
            "Epoch 394/1000\n",
            "614/614 [==============================] - 0s 20us/step - loss: 0.5754 - acc: 0.7199 - val_loss: 0.5915 - val_acc: 0.7338\n",
            "Epoch 395/1000\n",
            "614/614 [==============================] - 0s 18us/step - loss: 0.5493 - acc: 0.7345 - val_loss: 0.5910 - val_acc: 0.7273\n",
            "Epoch 396/1000\n",
            "614/614 [==============================] - 0s 16us/step - loss: 0.5474 - acc: 0.7101 - val_loss: 0.5897 - val_acc: 0.7013\n",
            "Epoch 397/1000\n",
            "614/614 [==============================] - 0s 17us/step - loss: 0.5628 - acc: 0.6889 - val_loss: 0.5898 - val_acc: 0.7013\n",
            "Epoch 398/1000\n",
            "614/614 [==============================] - 0s 18us/step - loss: 0.5566 - acc: 0.7052 - val_loss: 0.5893 - val_acc: 0.6818\n",
            "Epoch 399/1000\n",
            "614/614 [==============================] - 0s 22us/step - loss: 0.5557 - acc: 0.7101 - val_loss: 0.5887 - val_acc: 0.6883\n",
            "Epoch 400/1000\n",
            "614/614 [==============================] - 0s 19us/step - loss: 0.5486 - acc: 0.7199 - val_loss: 0.5872 - val_acc: 0.6883\n",
            "Epoch 401/1000\n",
            "614/614 [==============================] - 0s 23us/step - loss: 0.5449 - acc: 0.7101 - val_loss: 0.5861 - val_acc: 0.7078\n",
            "Epoch 402/1000\n",
            "614/614 [==============================] - 0s 20us/step - loss: 0.5648 - acc: 0.7068 - val_loss: 0.5857 - val_acc: 0.7208\n",
            "Epoch 403/1000\n",
            "614/614 [==============================] - 0s 24us/step - loss: 0.5685 - acc: 0.7280 - val_loss: 0.5844 - val_acc: 0.7143\n",
            "Epoch 404/1000\n",
            "614/614 [==============================] - 0s 19us/step - loss: 0.5390 - acc: 0.7117 - val_loss: 0.5847 - val_acc: 0.7143\n",
            "Epoch 405/1000\n",
            "614/614 [==============================] - 0s 21us/step - loss: 0.5599 - acc: 0.7264 - val_loss: 0.5861 - val_acc: 0.7143\n",
            "Epoch 406/1000\n",
            "614/614 [==============================] - 0s 25us/step - loss: 0.5562 - acc: 0.7215 - val_loss: 0.5872 - val_acc: 0.7143\n",
            "Epoch 407/1000\n",
            "614/614 [==============================] - 0s 27us/step - loss: 0.5550 - acc: 0.7166 - val_loss: 0.5871 - val_acc: 0.7208\n",
            "Epoch 408/1000\n",
            "614/614 [==============================] - 0s 19us/step - loss: 0.5307 - acc: 0.7264 - val_loss: 0.5871 - val_acc: 0.7273\n",
            "Epoch 409/1000\n",
            "614/614 [==============================] - 0s 19us/step - loss: 0.5556 - acc: 0.7264 - val_loss: 0.5878 - val_acc: 0.7273\n",
            "Epoch 410/1000\n",
            "614/614 [==============================] - 0s 19us/step - loss: 0.5308 - acc: 0.7345 - val_loss: 0.5866 - val_acc: 0.7273\n",
            "Epoch 411/1000\n",
            "614/614 [==============================] - 0s 19us/step - loss: 0.5552 - acc: 0.7085 - val_loss: 0.5866 - val_acc: 0.7078\n",
            "Epoch 412/1000\n",
            "614/614 [==============================] - 0s 20us/step - loss: 0.5639 - acc: 0.7052 - val_loss: 0.5868 - val_acc: 0.6818\n",
            "Epoch 413/1000\n",
            "614/614 [==============================] - 0s 21us/step - loss: 0.5504 - acc: 0.7134 - val_loss: 0.5871 - val_acc: 0.6753\n",
            "Epoch 414/1000\n",
            "614/614 [==============================] - 0s 22us/step - loss: 0.5550 - acc: 0.7036 - val_loss: 0.5867 - val_acc: 0.6883\n",
            "Epoch 415/1000\n",
            "614/614 [==============================] - 0s 24us/step - loss: 0.5408 - acc: 0.7101 - val_loss: 0.5843 - val_acc: 0.6883\n",
            "Epoch 416/1000\n",
            "614/614 [==============================] - 0s 21us/step - loss: 0.5568 - acc: 0.7052 - val_loss: 0.5825 - val_acc: 0.6883\n",
            "Epoch 417/1000\n",
            "614/614 [==============================] - 0s 21us/step - loss: 0.5489 - acc: 0.7166 - val_loss: 0.5819 - val_acc: 0.6948\n",
            "Epoch 418/1000\n",
            "614/614 [==============================] - 0s 21us/step - loss: 0.5598 - acc: 0.6971 - val_loss: 0.5815 - val_acc: 0.6948\n",
            "Epoch 419/1000\n",
            "614/614 [==============================] - 0s 22us/step - loss: 0.5561 - acc: 0.7101 - val_loss: 0.5812 - val_acc: 0.6948\n",
            "Epoch 420/1000\n",
            "614/614 [==============================] - 0s 18us/step - loss: 0.5606 - acc: 0.7085 - val_loss: 0.5819 - val_acc: 0.6883\n",
            "Epoch 421/1000\n",
            "614/614 [==============================] - 0s 23us/step - loss: 0.5458 - acc: 0.7215 - val_loss: 0.5826 - val_acc: 0.6883\n",
            "Epoch 422/1000\n",
            "614/614 [==============================] - 0s 22us/step - loss: 0.5530 - acc: 0.7020 - val_loss: 0.5839 - val_acc: 0.6818\n",
            "Epoch 423/1000\n",
            "614/614 [==============================] - 0s 21us/step - loss: 0.5365 - acc: 0.7443 - val_loss: 0.5839 - val_acc: 0.6818\n",
            "Epoch 424/1000\n",
            "614/614 [==============================] - 0s 22us/step - loss: 0.5595 - acc: 0.7101 - val_loss: 0.5833 - val_acc: 0.6753\n",
            "Epoch 425/1000\n",
            "614/614 [==============================] - 0s 21us/step - loss: 0.5577 - acc: 0.7020 - val_loss: 0.5825 - val_acc: 0.7013\n",
            "Epoch 426/1000\n",
            "614/614 [==============================] - 0s 20us/step - loss: 0.5460 - acc: 0.7117 - val_loss: 0.5814 - val_acc: 0.7208\n",
            "Epoch 427/1000\n",
            "614/614 [==============================] - 0s 20us/step - loss: 0.5574 - acc: 0.6906 - val_loss: 0.5804 - val_acc: 0.7143\n",
            "Epoch 428/1000\n",
            "614/614 [==============================] - 0s 19us/step - loss: 0.5531 - acc: 0.7052 - val_loss: 0.5796 - val_acc: 0.7078\n",
            "Epoch 429/1000\n",
            "614/614 [==============================] - 0s 22us/step - loss: 0.5339 - acc: 0.7410 - val_loss: 0.5801 - val_acc: 0.7013\n",
            "Epoch 430/1000\n",
            "614/614 [==============================] - 0s 22us/step - loss: 0.5525 - acc: 0.7166 - val_loss: 0.5801 - val_acc: 0.7078\n",
            "Epoch 431/1000\n",
            "614/614 [==============================] - 0s 23us/step - loss: 0.5451 - acc: 0.6938 - val_loss: 0.5801 - val_acc: 0.7273\n",
            "Epoch 432/1000\n",
            "614/614 [==============================] - 0s 19us/step - loss: 0.5438 - acc: 0.7052 - val_loss: 0.5809 - val_acc: 0.7273\n",
            "Epoch 433/1000\n",
            "614/614 [==============================] - 0s 17us/step - loss: 0.5530 - acc: 0.7231 - val_loss: 0.5804 - val_acc: 0.7273\n",
            "Epoch 434/1000\n",
            "614/614 [==============================] - 0s 22us/step - loss: 0.5390 - acc: 0.7215 - val_loss: 0.5812 - val_acc: 0.7273\n",
            "Epoch 435/1000\n",
            "614/614 [==============================] - 0s 24us/step - loss: 0.5300 - acc: 0.7378 - val_loss: 0.5807 - val_acc: 0.7338\n",
            "Epoch 436/1000\n",
            "614/614 [==============================] - 0s 20us/step - loss: 0.5319 - acc: 0.7443 - val_loss: 0.5805 - val_acc: 0.7338\n",
            "Epoch 437/1000\n",
            "614/614 [==============================] - 0s 19us/step - loss: 0.5611 - acc: 0.6922 - val_loss: 0.5811 - val_acc: 0.7338\n",
            "Epoch 438/1000\n",
            "614/614 [==============================] - 0s 21us/step - loss: 0.5613 - acc: 0.7150 - val_loss: 0.5812 - val_acc: 0.7273\n",
            "Epoch 439/1000\n",
            "614/614 [==============================] - 0s 22us/step - loss: 0.5375 - acc: 0.7134 - val_loss: 0.5806 - val_acc: 0.7273\n",
            "Epoch 440/1000\n",
            "614/614 [==============================] - 0s 29us/step - loss: 0.5740 - acc: 0.7052 - val_loss: 0.5810 - val_acc: 0.7143\n",
            "Epoch 441/1000\n",
            "614/614 [==============================] - 0s 19us/step - loss: 0.5325 - acc: 0.7459 - val_loss: 0.5803 - val_acc: 0.7143\n",
            "Epoch 442/1000\n",
            "614/614 [==============================] - 0s 17us/step - loss: 0.5479 - acc: 0.7378 - val_loss: 0.5799 - val_acc: 0.7208\n",
            "Epoch 443/1000\n",
            "614/614 [==============================] - 0s 21us/step - loss: 0.5485 - acc: 0.7199 - val_loss: 0.5799 - val_acc: 0.7208\n",
            "Epoch 444/1000\n",
            "614/614 [==============================] - 0s 24us/step - loss: 0.5379 - acc: 0.7248 - val_loss: 0.5798 - val_acc: 0.7273\n",
            "Epoch 445/1000\n",
            "614/614 [==============================] - 0s 23us/step - loss: 0.5513 - acc: 0.7117 - val_loss: 0.5793 - val_acc: 0.7208\n",
            "Epoch 446/1000\n",
            "614/614 [==============================] - 0s 24us/step - loss: 0.5657 - acc: 0.7085 - val_loss: 0.5793 - val_acc: 0.6948\n",
            "Epoch 447/1000\n",
            "614/614 [==============================] - 0s 24us/step - loss: 0.5474 - acc: 0.7345 - val_loss: 0.5792 - val_acc: 0.6883\n",
            "Epoch 448/1000\n",
            "614/614 [==============================] - 0s 21us/step - loss: 0.5398 - acc: 0.7199 - val_loss: 0.5794 - val_acc: 0.6883\n",
            "Epoch 449/1000\n",
            "614/614 [==============================] - 0s 19us/step - loss: 0.5400 - acc: 0.7215 - val_loss: 0.5797 - val_acc: 0.6883\n",
            "Epoch 450/1000\n",
            "614/614 [==============================] - 0s 23us/step - loss: 0.5492 - acc: 0.7036 - val_loss: 0.5808 - val_acc: 0.6883\n",
            "Epoch 451/1000\n",
            "614/614 [==============================] - 0s 24us/step - loss: 0.5488 - acc: 0.7101 - val_loss: 0.5818 - val_acc: 0.6883\n",
            "Epoch 452/1000\n",
            "614/614 [==============================] - 0s 22us/step - loss: 0.5355 - acc: 0.7215 - val_loss: 0.5826 - val_acc: 0.7013\n",
            "Epoch 453/1000\n",
            "614/614 [==============================] - 0s 19us/step - loss: 0.5548 - acc: 0.7117 - val_loss: 0.5828 - val_acc: 0.7143\n",
            "Epoch 454/1000\n",
            "614/614 [==============================] - 0s 20us/step - loss: 0.5340 - acc: 0.7215 - val_loss: 0.5824 - val_acc: 0.7338\n",
            "Epoch 455/1000\n",
            "614/614 [==============================] - 0s 20us/step - loss: 0.5601 - acc: 0.7296 - val_loss: 0.5821 - val_acc: 0.7468\n",
            "Epoch 456/1000\n",
            "614/614 [==============================] - 0s 21us/step - loss: 0.5551 - acc: 0.7085 - val_loss: 0.5819 - val_acc: 0.7078\n",
            "Epoch 457/1000\n",
            "614/614 [==============================] - 0s 21us/step - loss: 0.5436 - acc: 0.7329 - val_loss: 0.5816 - val_acc: 0.7078\n",
            "Epoch 458/1000\n",
            "614/614 [==============================] - 0s 22us/step - loss: 0.5431 - acc: 0.7003 - val_loss: 0.5817 - val_acc: 0.7078\n",
            "Epoch 459/1000\n",
            "614/614 [==============================] - 0s 20us/step - loss: 0.5435 - acc: 0.7182 - val_loss: 0.5808 - val_acc: 0.7078\n",
            "Epoch 460/1000\n",
            "614/614 [==============================] - 0s 32us/step - loss: 0.5455 - acc: 0.7020 - val_loss: 0.5795 - val_acc: 0.7208\n",
            "Epoch 461/1000\n",
            "614/614 [==============================] - 0s 21us/step - loss: 0.5377 - acc: 0.7166 - val_loss: 0.5785 - val_acc: 0.7208\n",
            "Epoch 462/1000\n",
            "614/614 [==============================] - 0s 19us/step - loss: 0.5390 - acc: 0.6971 - val_loss: 0.5782 - val_acc: 0.7013\n",
            "Epoch 463/1000\n",
            "614/614 [==============================] - 0s 19us/step - loss: 0.5526 - acc: 0.7182 - val_loss: 0.5781 - val_acc: 0.7013\n",
            "Epoch 464/1000\n",
            "614/614 [==============================] - 0s 24us/step - loss: 0.5601 - acc: 0.7117 - val_loss: 0.5780 - val_acc: 0.6948\n",
            "Epoch 465/1000\n",
            "614/614 [==============================] - 0s 20us/step - loss: 0.5514 - acc: 0.7248 - val_loss: 0.5780 - val_acc: 0.6883\n",
            "Epoch 466/1000\n",
            "614/614 [==============================] - 0s 22us/step - loss: 0.5666 - acc: 0.6873 - val_loss: 0.5779 - val_acc: 0.7143\n",
            "Epoch 467/1000\n",
            "614/614 [==============================] - 0s 25us/step - loss: 0.5252 - acc: 0.7150 - val_loss: 0.5794 - val_acc: 0.7273\n",
            "Epoch 468/1000\n",
            "614/614 [==============================] - 0s 22us/step - loss: 0.5326 - acc: 0.7150 - val_loss: 0.5804 - val_acc: 0.7208\n",
            "Epoch 469/1000\n",
            "614/614 [==============================] - 0s 19us/step - loss: 0.5554 - acc: 0.7085 - val_loss: 0.5815 - val_acc: 0.7208\n",
            "Epoch 470/1000\n",
            "614/614 [==============================] - 0s 20us/step - loss: 0.5502 - acc: 0.7134 - val_loss: 0.5825 - val_acc: 0.7208\n",
            "Epoch 471/1000\n",
            "614/614 [==============================] - 0s 20us/step - loss: 0.5330 - acc: 0.7215 - val_loss: 0.5830 - val_acc: 0.7078\n",
            "Epoch 472/1000\n",
            "614/614 [==============================] - 0s 20us/step - loss: 0.5584 - acc: 0.7166 - val_loss: 0.5819 - val_acc: 0.7208\n",
            "Epoch 473/1000\n",
            "614/614 [==============================] - 0s 19us/step - loss: 0.5508 - acc: 0.7215 - val_loss: 0.5808 - val_acc: 0.7273\n",
            "Epoch 474/1000\n",
            "614/614 [==============================] - 0s 20us/step - loss: 0.5265 - acc: 0.7264 - val_loss: 0.5795 - val_acc: 0.7273\n",
            "Epoch 475/1000\n",
            "614/614 [==============================] - 0s 20us/step - loss: 0.5393 - acc: 0.6971 - val_loss: 0.5785 - val_acc: 0.7338\n",
            "Epoch 476/1000\n",
            "614/614 [==============================] - 0s 19us/step - loss: 0.5207 - acc: 0.7410 - val_loss: 0.5775 - val_acc: 0.7273\n",
            "Epoch 477/1000\n",
            "614/614 [==============================] - 0s 20us/step - loss: 0.5442 - acc: 0.7150 - val_loss: 0.5782 - val_acc: 0.7013\n",
            "Epoch 478/1000\n",
            "614/614 [==============================] - 0s 26us/step - loss: 0.5363 - acc: 0.7134 - val_loss: 0.5813 - val_acc: 0.6883\n",
            "Epoch 479/1000\n",
            "614/614 [==============================] - 0s 21us/step - loss: 0.5527 - acc: 0.7085 - val_loss: 0.5834 - val_acc: 0.6818\n",
            "Epoch 480/1000\n",
            "614/614 [==============================] - 0s 20us/step - loss: 0.5396 - acc: 0.7199 - val_loss: 0.5836 - val_acc: 0.6818\n",
            "Epoch 481/1000\n",
            "614/614 [==============================] - 0s 21us/step - loss: 0.5396 - acc: 0.7134 - val_loss: 0.5819 - val_acc: 0.7078\n",
            "Epoch 482/1000\n",
            "614/614 [==============================] - 0s 22us/step - loss: 0.5348 - acc: 0.7329 - val_loss: 0.5799 - val_acc: 0.7273\n",
            "Epoch 483/1000\n",
            "614/614 [==============================] - 0s 20us/step - loss: 0.5237 - acc: 0.7427 - val_loss: 0.5793 - val_acc: 0.7273\n",
            "Epoch 484/1000\n",
            "614/614 [==============================] - 0s 19us/step - loss: 0.5310 - acc: 0.7199 - val_loss: 0.5794 - val_acc: 0.7338\n",
            "Epoch 485/1000\n",
            "614/614 [==============================] - 0s 18us/step - loss: 0.5412 - acc: 0.7410 - val_loss: 0.5783 - val_acc: 0.7403\n",
            "Epoch 486/1000\n",
            "614/614 [==============================] - 0s 27us/step - loss: 0.5675 - acc: 0.7134 - val_loss: 0.5769 - val_acc: 0.7273\n",
            "Epoch 487/1000\n",
            "614/614 [==============================] - 0s 25us/step - loss: 0.5255 - acc: 0.7313 - val_loss: 0.5759 - val_acc: 0.7273\n",
            "Epoch 488/1000\n",
            "614/614 [==============================] - 0s 25us/step - loss: 0.5291 - acc: 0.7231 - val_loss: 0.5762 - val_acc: 0.7273\n",
            "Epoch 489/1000\n",
            "614/614 [==============================] - 0s 27us/step - loss: 0.5282 - acc: 0.7378 - val_loss: 0.5768 - val_acc: 0.7273\n",
            "Epoch 490/1000\n",
            "614/614 [==============================] - 0s 23us/step - loss: 0.5482 - acc: 0.7231 - val_loss: 0.5778 - val_acc: 0.7273\n",
            "Epoch 491/1000\n",
            "614/614 [==============================] - 0s 22us/step - loss: 0.5541 - acc: 0.6954 - val_loss: 0.5785 - val_acc: 0.7273\n",
            "Epoch 492/1000\n",
            "614/614 [==============================] - 0s 20us/step - loss: 0.5511 - acc: 0.7003 - val_loss: 0.5793 - val_acc: 0.7143\n",
            "Epoch 493/1000\n",
            "614/614 [==============================] - 0s 21us/step - loss: 0.5339 - acc: 0.7459 - val_loss: 0.5791 - val_acc: 0.7143\n",
            "Epoch 494/1000\n",
            "614/614 [==============================] - 0s 17us/step - loss: 0.5604 - acc: 0.7231 - val_loss: 0.5784 - val_acc: 0.7078\n",
            "Epoch 495/1000\n",
            "614/614 [==============================] - 0s 21us/step - loss: 0.5421 - acc: 0.7215 - val_loss: 0.5777 - val_acc: 0.7143\n",
            "Epoch 496/1000\n",
            "614/614 [==============================] - 0s 24us/step - loss: 0.5468 - acc: 0.7166 - val_loss: 0.5777 - val_acc: 0.7208\n",
            "Epoch 497/1000\n",
            "614/614 [==============================] - 0s 21us/step - loss: 0.5402 - acc: 0.7345 - val_loss: 0.5782 - val_acc: 0.7338\n",
            "Epoch 498/1000\n",
            "614/614 [==============================] - 0s 20us/step - loss: 0.5276 - acc: 0.7264 - val_loss: 0.5778 - val_acc: 0.7208\n",
            "Epoch 499/1000\n",
            "614/614 [==============================] - 0s 19us/step - loss: 0.5796 - acc: 0.6954 - val_loss: 0.5777 - val_acc: 0.7078\n",
            "Epoch 500/1000\n",
            "614/614 [==============================] - 0s 18us/step - loss: 0.5492 - acc: 0.6971 - val_loss: 0.5775 - val_acc: 0.6883\n",
            "Epoch 501/1000\n",
            "614/614 [==============================] - 0s 21us/step - loss: 0.5421 - acc: 0.7248 - val_loss: 0.5777 - val_acc: 0.6883\n",
            "Epoch 502/1000\n",
            "614/614 [==============================] - 0s 18us/step - loss: 0.5344 - acc: 0.7199 - val_loss: 0.5786 - val_acc: 0.6883\n",
            "Epoch 503/1000\n",
            "614/614 [==============================] - 0s 19us/step - loss: 0.5429 - acc: 0.7199 - val_loss: 0.5793 - val_acc: 0.6883\n",
            "Epoch 504/1000\n",
            "614/614 [==============================] - 0s 22us/step - loss: 0.5473 - acc: 0.7280 - val_loss: 0.5786 - val_acc: 0.7078\n",
            "Epoch 505/1000\n",
            "614/614 [==============================] - 0s 21us/step - loss: 0.5366 - acc: 0.7329 - val_loss: 0.5771 - val_acc: 0.7208\n",
            "Epoch 506/1000\n",
            "614/614 [==============================] - 0s 25us/step - loss: 0.5270 - acc: 0.7150 - val_loss: 0.5763 - val_acc: 0.7273\n",
            "Epoch 507/1000\n",
            "614/614 [==============================] - 0s 23us/step - loss: 0.5363 - acc: 0.7362 - val_loss: 0.5752 - val_acc: 0.7273\n",
            "Epoch 508/1000\n",
            "614/614 [==============================] - 0s 20us/step - loss: 0.5573 - acc: 0.7182 - val_loss: 0.5748 - val_acc: 0.7273\n",
            "Epoch 509/1000\n",
            "614/614 [==============================] - 0s 17us/step - loss: 0.5397 - acc: 0.7036 - val_loss: 0.5751 - val_acc: 0.7338\n",
            "Epoch 510/1000\n",
            "614/614 [==============================] - 0s 20us/step - loss: 0.5259 - acc: 0.7394 - val_loss: 0.5746 - val_acc: 0.7208\n",
            "Epoch 511/1000\n",
            "614/614 [==============================] - 0s 22us/step - loss: 0.5621 - acc: 0.7003 - val_loss: 0.5738 - val_acc: 0.6948\n",
            "Epoch 512/1000\n",
            "614/614 [==============================] - 0s 20us/step - loss: 0.5433 - acc: 0.7068 - val_loss: 0.5754 - val_acc: 0.6818\n",
            "Epoch 513/1000\n",
            "614/614 [==============================] - 0s 17us/step - loss: 0.5276 - acc: 0.7231 - val_loss: 0.5765 - val_acc: 0.6818\n",
            "Epoch 514/1000\n",
            "614/614 [==============================] - 0s 19us/step - loss: 0.5326 - acc: 0.7150 - val_loss: 0.5760 - val_acc: 0.6948\n",
            "Epoch 515/1000\n",
            "614/614 [==============================] - 0s 22us/step - loss: 0.5283 - acc: 0.7264 - val_loss: 0.5763 - val_acc: 0.7143\n",
            "Epoch 516/1000\n",
            "614/614 [==============================] - 0s 19us/step - loss: 0.5259 - acc: 0.7508 - val_loss: 0.5777 - val_acc: 0.7338\n",
            "Epoch 517/1000\n",
            "614/614 [==============================] - 0s 17us/step - loss: 0.5242 - acc: 0.7182 - val_loss: 0.5787 - val_acc: 0.7338\n",
            "Epoch 518/1000\n",
            "614/614 [==============================] - 0s 18us/step - loss: 0.5333 - acc: 0.7182 - val_loss: 0.5783 - val_acc: 0.7338\n",
            "Epoch 519/1000\n",
            "614/614 [==============================] - 0s 20us/step - loss: 0.5619 - acc: 0.7101 - val_loss: 0.5782 - val_acc: 0.7208\n",
            "Epoch 520/1000\n",
            "614/614 [==============================] - 0s 29us/step - loss: 0.5394 - acc: 0.7117 - val_loss: 0.5793 - val_acc: 0.7143\n",
            "Epoch 521/1000\n",
            "614/614 [==============================] - 0s 24us/step - loss: 0.5530 - acc: 0.7166 - val_loss: 0.5793 - val_acc: 0.6883\n",
            "Epoch 522/1000\n",
            "614/614 [==============================] - 0s 22us/step - loss: 0.5376 - acc: 0.7182 - val_loss: 0.5783 - val_acc: 0.6883\n",
            "Epoch 523/1000\n",
            "614/614 [==============================] - 0s 17us/step - loss: 0.5539 - acc: 0.7052 - val_loss: 0.5772 - val_acc: 0.7078\n",
            "Epoch 524/1000\n",
            "614/614 [==============================] - 0s 18us/step - loss: 0.5464 - acc: 0.7150 - val_loss: 0.5780 - val_acc: 0.7143\n",
            "Epoch 525/1000\n",
            "614/614 [==============================] - 0s 19us/step - loss: 0.5393 - acc: 0.7280 - val_loss: 0.5786 - val_acc: 0.7208\n",
            "Epoch 526/1000\n",
            "614/614 [==============================] - 0s 27us/step - loss: 0.5492 - acc: 0.7003 - val_loss: 0.5782 - val_acc: 0.7013\n",
            "Epoch 527/1000\n",
            "614/614 [==============================] - 0s 18us/step - loss: 0.5394 - acc: 0.7248 - val_loss: 0.5789 - val_acc: 0.6883\n",
            "Epoch 528/1000\n",
            "614/614 [==============================] - 0s 19us/step - loss: 0.5332 - acc: 0.7166 - val_loss: 0.5800 - val_acc: 0.6883\n",
            "Epoch 529/1000\n",
            "614/614 [==============================] - 0s 19us/step - loss: 0.5393 - acc: 0.7166 - val_loss: 0.5807 - val_acc: 0.6883\n",
            "Epoch 530/1000\n",
            "614/614 [==============================] - 0s 19us/step - loss: 0.5469 - acc: 0.6987 - val_loss: 0.5815 - val_acc: 0.7143\n",
            "Epoch 531/1000\n",
            "614/614 [==============================] - 0s 20us/step - loss: 0.5429 - acc: 0.7134 - val_loss: 0.5815 - val_acc: 0.7208\n",
            "Epoch 532/1000\n",
            "614/614 [==============================] - 0s 17us/step - loss: 0.5293 - acc: 0.7166 - val_loss: 0.5804 - val_acc: 0.7143\n",
            "Epoch 533/1000\n",
            "614/614 [==============================] - 0s 23us/step - loss: 0.5468 - acc: 0.7248 - val_loss: 0.5784 - val_acc: 0.7078\n",
            "Epoch 534/1000\n",
            "614/614 [==============================] - 0s 16us/step - loss: 0.5364 - acc: 0.7117 - val_loss: 0.5778 - val_acc: 0.7143\n",
            "Epoch 535/1000\n",
            "614/614 [==============================] - 0s 15us/step - loss: 0.5390 - acc: 0.7101 - val_loss: 0.5793 - val_acc: 0.7143\n",
            "Epoch 536/1000\n",
            "614/614 [==============================] - 0s 21us/step - loss: 0.5368 - acc: 0.7199 - val_loss: 0.5803 - val_acc: 0.7143\n",
            "Epoch 537/1000\n",
            "614/614 [==============================] - 0s 17us/step - loss: 0.5381 - acc: 0.7378 - val_loss: 0.5815 - val_acc: 0.7143\n",
            "Epoch 538/1000\n",
            "614/614 [==============================] - 0s 19us/step - loss: 0.5286 - acc: 0.7362 - val_loss: 0.5838 - val_acc: 0.7273\n",
            "Epoch 539/1000\n",
            "614/614 [==============================] - 0s 21us/step - loss: 0.5261 - acc: 0.7199 - val_loss: 0.5855 - val_acc: 0.7338\n",
            "Epoch 540/1000\n",
            "614/614 [==============================] - 0s 20us/step - loss: 0.5514 - acc: 0.7036 - val_loss: 0.5860 - val_acc: 0.7273\n",
            "Epoch 541/1000\n",
            "614/614 [==============================] - 0s 25us/step - loss: 0.5452 - acc: 0.6922 - val_loss: 0.5865 - val_acc: 0.7208\n",
            "Epoch 542/1000\n",
            "614/614 [==============================] - 0s 20us/step - loss: 0.5341 - acc: 0.7264 - val_loss: 0.5862 - val_acc: 0.7143\n",
            "Epoch 543/1000\n",
            "614/614 [==============================] - 0s 23us/step - loss: 0.5479 - acc: 0.7166 - val_loss: 0.5854 - val_acc: 0.7143\n",
            "Epoch 544/1000\n",
            "614/614 [==============================] - 0s 22us/step - loss: 0.5170 - acc: 0.7296 - val_loss: 0.5835 - val_acc: 0.7143\n",
            "Epoch 545/1000\n",
            "614/614 [==============================] - 0s 22us/step - loss: 0.5431 - acc: 0.7182 - val_loss: 0.5817 - val_acc: 0.7208\n",
            "Epoch 546/1000\n",
            "614/614 [==============================] - 0s 22us/step - loss: 0.5371 - acc: 0.7280 - val_loss: 0.5806 - val_acc: 0.7208\n",
            "Epoch 547/1000\n",
            "614/614 [==============================] - 0s 28us/step - loss: 0.5474 - acc: 0.7296 - val_loss: 0.5796 - val_acc: 0.7273\n",
            "Epoch 548/1000\n",
            "614/614 [==============================] - 0s 17us/step - loss: 0.5335 - acc: 0.7296 - val_loss: 0.5792 - val_acc: 0.7273\n",
            "Epoch 549/1000\n",
            "614/614 [==============================] - 0s 18us/step - loss: 0.5180 - acc: 0.7427 - val_loss: 0.5789 - val_acc: 0.7078\n",
            "Epoch 550/1000\n",
            "614/614 [==============================] - 0s 22us/step - loss: 0.5388 - acc: 0.7085 - val_loss: 0.5784 - val_acc: 0.7078\n",
            "Epoch 551/1000\n",
            "614/614 [==============================] - 0s 22us/step - loss: 0.5270 - acc: 0.7443 - val_loss: 0.5784 - val_acc: 0.7273\n",
            "Epoch 552/1000\n",
            "614/614 [==============================] - 0s 21us/step - loss: 0.5256 - acc: 0.7264 - val_loss: 0.5791 - val_acc: 0.7208\n",
            "Epoch 553/1000\n",
            "614/614 [==============================] - 0s 17us/step - loss: 0.5197 - acc: 0.7296 - val_loss: 0.5798 - val_acc: 0.7208\n",
            "Epoch 554/1000\n",
            "614/614 [==============================] - 0s 18us/step - loss: 0.5354 - acc: 0.7117 - val_loss: 0.5797 - val_acc: 0.7208\n",
            "Epoch 555/1000\n",
            "614/614 [==============================] - 0s 17us/step - loss: 0.5385 - acc: 0.7068 - val_loss: 0.5800 - val_acc: 0.7143\n",
            "Epoch 556/1000\n",
            "614/614 [==============================] - 0s 16us/step - loss: 0.5479 - acc: 0.7134 - val_loss: 0.5786 - val_acc: 0.7143\n",
            "Epoch 557/1000\n",
            "614/614 [==============================] - 0s 19us/step - loss: 0.5216 - acc: 0.7313 - val_loss: 0.5770 - val_acc: 0.7078\n",
            "Epoch 558/1000\n",
            "614/614 [==============================] - 0s 18us/step - loss: 0.5212 - acc: 0.7410 - val_loss: 0.5766 - val_acc: 0.7078\n",
            "Epoch 559/1000\n",
            "614/614 [==============================] - 0s 20us/step - loss: 0.5227 - acc: 0.7182 - val_loss: 0.5767 - val_acc: 0.7078\n",
            "Epoch 560/1000\n",
            "614/614 [==============================] - 0s 18us/step - loss: 0.5167 - acc: 0.7443 - val_loss: 0.5778 - val_acc: 0.7143\n",
            "Epoch 561/1000\n",
            "614/614 [==============================] - 0s 23us/step - loss: 0.5424 - acc: 0.7313 - val_loss: 0.5786 - val_acc: 0.7143\n",
            "Epoch 562/1000\n",
            "614/614 [==============================] - 0s 17us/step - loss: 0.5368 - acc: 0.7378 - val_loss: 0.5787 - val_acc: 0.7143\n",
            "Epoch 563/1000\n",
            "614/614 [==============================] - 0s 18us/step - loss: 0.5234 - acc: 0.7231 - val_loss: 0.5786 - val_acc: 0.7078\n",
            "Epoch 564/1000\n",
            "614/614 [==============================] - 0s 19us/step - loss: 0.5353 - acc: 0.7264 - val_loss: 0.5788 - val_acc: 0.7143\n",
            "Epoch 565/1000\n",
            "614/614 [==============================] - 0s 18us/step - loss: 0.5090 - acc: 0.7394 - val_loss: 0.5789 - val_acc: 0.7013\n",
            "Epoch 566/1000\n",
            "614/614 [==============================] - 0s 22us/step - loss: 0.5452 - acc: 0.7036 - val_loss: 0.5785 - val_acc: 0.7078\n",
            "Epoch 567/1000\n",
            "614/614 [==============================] - 0s 20us/step - loss: 0.5354 - acc: 0.7101 - val_loss: 0.5800 - val_acc: 0.7013\n",
            "Epoch 568/1000\n",
            "614/614 [==============================] - 0s 22us/step - loss: 0.5260 - acc: 0.6971 - val_loss: 0.5801 - val_acc: 0.7143\n",
            "Epoch 569/1000\n",
            "614/614 [==============================] - 0s 19us/step - loss: 0.5254 - acc: 0.7345 - val_loss: 0.5808 - val_acc: 0.7208\n",
            "Epoch 570/1000\n",
            "614/614 [==============================] - 0s 18us/step - loss: 0.5221 - acc: 0.7248 - val_loss: 0.5807 - val_acc: 0.7143\n",
            "Epoch 571/1000\n",
            "614/614 [==============================] - 0s 14us/step - loss: 0.5411 - acc: 0.7036 - val_loss: 0.5807 - val_acc: 0.7273\n",
            "Epoch 572/1000\n",
            "614/614 [==============================] - 0s 17us/step - loss: 0.5324 - acc: 0.7264 - val_loss: 0.5798 - val_acc: 0.7273\n",
            "Epoch 573/1000\n",
            "614/614 [==============================] - 0s 18us/step - loss: 0.5403 - acc: 0.7378 - val_loss: 0.5790 - val_acc: 0.7273\n",
            "Epoch 574/1000\n",
            "614/614 [==============================] - 0s 20us/step - loss: 0.5622 - acc: 0.7036 - val_loss: 0.5803 - val_acc: 0.7273\n",
            "Epoch 575/1000\n",
            "614/614 [==============================] - 0s 18us/step - loss: 0.5230 - acc: 0.7182 - val_loss: 0.5812 - val_acc: 0.6948\n",
            "Epoch 576/1000\n",
            "614/614 [==============================] - 0s 20us/step - loss: 0.5348 - acc: 0.7264 - val_loss: 0.5816 - val_acc: 0.6818\n",
            "Epoch 577/1000\n",
            "614/614 [==============================] - 0s 18us/step - loss: 0.5417 - acc: 0.7199 - val_loss: 0.5815 - val_acc: 0.6818\n",
            "Epoch 578/1000\n",
            "614/614 [==============================] - 0s 24us/step - loss: 0.5433 - acc: 0.7199 - val_loss: 0.5812 - val_acc: 0.6883\n",
            "Epoch 579/1000\n",
            "614/614 [==============================] - 0s 23us/step - loss: 0.5393 - acc: 0.7199 - val_loss: 0.5806 - val_acc: 0.6883\n",
            "Epoch 580/1000\n",
            "614/614 [==============================] - 0s 23us/step - loss: 0.5411 - acc: 0.7101 - val_loss: 0.5798 - val_acc: 0.7013\n",
            "Epoch 581/1000\n",
            "614/614 [==============================] - 0s 22us/step - loss: 0.5448 - acc: 0.7101 - val_loss: 0.5793 - val_acc: 0.7143\n",
            "Epoch 582/1000\n",
            "614/614 [==============================] - 0s 21us/step - loss: 0.5394 - acc: 0.7215 - val_loss: 0.5789 - val_acc: 0.7208\n",
            "Epoch 583/1000\n",
            "614/614 [==============================] - 0s 18us/step - loss: 0.5433 - acc: 0.7052 - val_loss: 0.5807 - val_acc: 0.7273\n",
            "Epoch 584/1000\n",
            "614/614 [==============================] - 0s 18us/step - loss: 0.5224 - acc: 0.7329 - val_loss: 0.5831 - val_acc: 0.7273\n",
            "Epoch 585/1000\n",
            "614/614 [==============================] - 0s 18us/step - loss: 0.5315 - acc: 0.7150 - val_loss: 0.5846 - val_acc: 0.7208\n",
            "Epoch 586/1000\n",
            "614/614 [==============================] - 0s 31us/step - loss: 0.5262 - acc: 0.7166 - val_loss: 0.5856 - val_acc: 0.7208\n",
            "Epoch 587/1000\n",
            "614/614 [==============================] - 0s 19us/step - loss: 0.5427 - acc: 0.7280 - val_loss: 0.5869 - val_acc: 0.7208\n",
            "Epoch 588/1000\n",
            "614/614 [==============================] - 0s 15us/step - loss: 0.5172 - acc: 0.7182 - val_loss: 0.5872 - val_acc: 0.7208\n",
            "Epoch 589/1000\n",
            "614/614 [==============================] - 0s 22us/step - loss: 0.5333 - acc: 0.7313 - val_loss: 0.5867 - val_acc: 0.7273\n",
            "Epoch 590/1000\n",
            "614/614 [==============================] - 0s 20us/step - loss: 0.5321 - acc: 0.7280 - val_loss: 0.5853 - val_acc: 0.7338\n",
            "Epoch 591/1000\n",
            "614/614 [==============================] - 0s 17us/step - loss: 0.5286 - acc: 0.7280 - val_loss: 0.5830 - val_acc: 0.7338\n",
            "Epoch 592/1000\n",
            "614/614 [==============================] - 0s 17us/step - loss: 0.5289 - acc: 0.7508 - val_loss: 0.5805 - val_acc: 0.7403\n",
            "Epoch 593/1000\n",
            "614/614 [==============================] - 0s 17us/step - loss: 0.5346 - acc: 0.7101 - val_loss: 0.5791 - val_acc: 0.7403\n",
            "Epoch 594/1000\n",
            "614/614 [==============================] - 0s 21us/step - loss: 0.5550 - acc: 0.7101 - val_loss: 0.5799 - val_acc: 0.7403\n",
            "Epoch 595/1000\n",
            "614/614 [==============================] - 0s 18us/step - loss: 0.5248 - acc: 0.7329 - val_loss: 0.5813 - val_acc: 0.7208\n",
            "Epoch 596/1000\n",
            "614/614 [==============================] - 0s 18us/step - loss: 0.5327 - acc: 0.7427 - val_loss: 0.5821 - val_acc: 0.7273\n",
            "Epoch 597/1000\n",
            "614/614 [==============================] - 0s 25us/step - loss: 0.5186 - acc: 0.7280 - val_loss: 0.5830 - val_acc: 0.7273\n",
            "Epoch 598/1000\n",
            "614/614 [==============================] - 0s 23us/step - loss: 0.5512 - acc: 0.7166 - val_loss: 0.5837 - val_acc: 0.7273\n",
            "Epoch 599/1000\n",
            "614/614 [==============================] - 0s 22us/step - loss: 0.5297 - acc: 0.7280 - val_loss: 0.5837 - val_acc: 0.7273\n",
            "Epoch 600/1000\n",
            "614/614 [==============================] - 0s 21us/step - loss: 0.5228 - acc: 0.7182 - val_loss: 0.5838 - val_acc: 0.7208\n",
            "Epoch 601/1000\n",
            "614/614 [==============================] - 0s 19us/step - loss: 0.5328 - acc: 0.7231 - val_loss: 0.5837 - val_acc: 0.7208\n",
            "Epoch 602/1000\n",
            "614/614 [==============================] - 0s 18us/step - loss: 0.5318 - acc: 0.7329 - val_loss: 0.5835 - val_acc: 0.7078\n",
            "Epoch 603/1000\n",
            "614/614 [==============================] - 0s 23us/step - loss: 0.5455 - acc: 0.7068 - val_loss: 0.5832 - val_acc: 0.6948\n",
            "Epoch 604/1000\n",
            "614/614 [==============================] - 0s 22us/step - loss: 0.5364 - acc: 0.7345 - val_loss: 0.5823 - val_acc: 0.6948\n",
            "Epoch 605/1000\n",
            "614/614 [==============================] - 0s 20us/step - loss: 0.5413 - acc: 0.7280 - val_loss: 0.5798 - val_acc: 0.6883\n",
            "Epoch 606/1000\n",
            "614/614 [==============================] - 0s 21us/step - loss: 0.5445 - acc: 0.7085 - val_loss: 0.5784 - val_acc: 0.7013\n",
            "Epoch 607/1000\n",
            "614/614 [==============================] - 0s 25us/step - loss: 0.5394 - acc: 0.7101 - val_loss: 0.5773 - val_acc: 0.6883\n",
            "Epoch 608/1000\n",
            "614/614 [==============================] - 0s 19us/step - loss: 0.5502 - acc: 0.7150 - val_loss: 0.5777 - val_acc: 0.6883\n",
            "Epoch 609/1000\n",
            "614/614 [==============================] - 0s 17us/step - loss: 0.5336 - acc: 0.7296 - val_loss: 0.5789 - val_acc: 0.6883\n",
            "Epoch 610/1000\n",
            "614/614 [==============================] - 0s 20us/step - loss: 0.5490 - acc: 0.7199 - val_loss: 0.5803 - val_acc: 0.6883\n",
            "Epoch 611/1000\n",
            "614/614 [==============================] - 0s 18us/step - loss: 0.5369 - acc: 0.7231 - val_loss: 0.5812 - val_acc: 0.7143\n",
            "Epoch 612/1000\n",
            "614/614 [==============================] - 0s 17us/step - loss: 0.5482 - acc: 0.7248 - val_loss: 0.5812 - val_acc: 0.7143\n",
            "Epoch 613/1000\n",
            "614/614 [==============================] - 0s 19us/step - loss: 0.5313 - acc: 0.7182 - val_loss: 0.5808 - val_acc: 0.7208\n",
            "Epoch 614/1000\n",
            "614/614 [==============================] - 0s 21us/step - loss: 0.5329 - acc: 0.7182 - val_loss: 0.5804 - val_acc: 0.7208\n",
            "Epoch 615/1000\n",
            "614/614 [==============================] - 0s 17us/step - loss: 0.5141 - acc: 0.7492 - val_loss: 0.5804 - val_acc: 0.7208\n",
            "Epoch 616/1000\n",
            "614/614 [==============================] - 0s 19us/step - loss: 0.5217 - acc: 0.7296 - val_loss: 0.5804 - val_acc: 0.6948\n",
            "Epoch 617/1000\n",
            "614/614 [==============================] - 0s 21us/step - loss: 0.5302 - acc: 0.7345 - val_loss: 0.5821 - val_acc: 0.6948\n",
            "Epoch 618/1000\n",
            "614/614 [==============================] - 0s 17us/step - loss: 0.5312 - acc: 0.7248 - val_loss: 0.5827 - val_acc: 0.7273\n",
            "Epoch 619/1000\n",
            "614/614 [==============================] - 0s 25us/step - loss: 0.5306 - acc: 0.7199 - val_loss: 0.5816 - val_acc: 0.7273\n",
            "Epoch 620/1000\n",
            "614/614 [==============================] - 0s 21us/step - loss: 0.5406 - acc: 0.7264 - val_loss: 0.5815 - val_acc: 0.7273\n",
            "Epoch 621/1000\n",
            "614/614 [==============================] - 0s 20us/step - loss: 0.5272 - acc: 0.7345 - val_loss: 0.5811 - val_acc: 0.7273\n",
            "Epoch 622/1000\n",
            "614/614 [==============================] - 0s 23us/step - loss: 0.5432 - acc: 0.7134 - val_loss: 0.5799 - val_acc: 0.7208\n",
            "Epoch 623/1000\n",
            "614/614 [==============================] - 0s 20us/step - loss: 0.5200 - acc: 0.7280 - val_loss: 0.5807 - val_acc: 0.7208\n",
            "Epoch 624/1000\n",
            "614/614 [==============================] - 0s 23us/step - loss: 0.5449 - acc: 0.7345 - val_loss: 0.5815 - val_acc: 0.7143\n",
            "Epoch 625/1000\n",
            "614/614 [==============================] - 0s 18us/step - loss: 0.5089 - acc: 0.7394 - val_loss: 0.5825 - val_acc: 0.7143\n",
            "Epoch 626/1000\n",
            "614/614 [==============================] - 0s 19us/step - loss: 0.5308 - acc: 0.7166 - val_loss: 0.5836 - val_acc: 0.7208\n",
            "Epoch 627/1000\n",
            "614/614 [==============================] - 0s 18us/step - loss: 0.5340 - acc: 0.7231 - val_loss: 0.5828 - val_acc: 0.7208\n",
            "Epoch 628/1000\n",
            "614/614 [==============================] - 0s 22us/step - loss: 0.5117 - acc: 0.7231 - val_loss: 0.5820 - val_acc: 0.7208\n",
            "Epoch 629/1000\n",
            "614/614 [==============================] - 0s 21us/step - loss: 0.5232 - acc: 0.7101 - val_loss: 0.5814 - val_acc: 0.7208\n",
            "Epoch 630/1000\n",
            "614/614 [==============================] - 0s 26us/step - loss: 0.5238 - acc: 0.7345 - val_loss: 0.5820 - val_acc: 0.7273\n",
            "Epoch 631/1000\n",
            "614/614 [==============================] - 0s 18us/step - loss: 0.5525 - acc: 0.7068 - val_loss: 0.5817 - val_acc: 0.7208\n",
            "Epoch 632/1000\n",
            "614/614 [==============================] - 0s 23us/step - loss: 0.5376 - acc: 0.7117 - val_loss: 0.5803 - val_acc: 0.7273\n",
            "Epoch 633/1000\n",
            "614/614 [==============================] - 0s 22us/step - loss: 0.5351 - acc: 0.7182 - val_loss: 0.5789 - val_acc: 0.7273\n",
            "Epoch 634/1000\n",
            "614/614 [==============================] - 0s 20us/step - loss: 0.5350 - acc: 0.6922 - val_loss: 0.5784 - val_acc: 0.7273\n",
            "Epoch 635/1000\n",
            "614/614 [==============================] - 0s 20us/step - loss: 0.5281 - acc: 0.7296 - val_loss: 0.5771 - val_acc: 0.7273\n",
            "Epoch 636/1000\n",
            "614/614 [==============================] - 0s 23us/step - loss: 0.5387 - acc: 0.6971 - val_loss: 0.5753 - val_acc: 0.7208\n",
            "Epoch 637/1000\n",
            "614/614 [==============================] - 0s 20us/step - loss: 0.5444 - acc: 0.7166 - val_loss: 0.5738 - val_acc: 0.7143\n",
            "Epoch 638/1000\n",
            "614/614 [==============================] - 0s 18us/step - loss: 0.5341 - acc: 0.7329 - val_loss: 0.5734 - val_acc: 0.7208\n",
            "Epoch 639/1000\n",
            "614/614 [==============================] - 0s 19us/step - loss: 0.5173 - acc: 0.7459 - val_loss: 0.5729 - val_acc: 0.7338\n",
            "Epoch 640/1000\n",
            "614/614 [==============================] - 0s 15us/step - loss: 0.5163 - acc: 0.7329 - val_loss: 0.5738 - val_acc: 0.7338\n",
            "Epoch 641/1000\n",
            "614/614 [==============================] - 0s 19us/step - loss: 0.5493 - acc: 0.7020 - val_loss: 0.5757 - val_acc: 0.7273\n",
            "Epoch 642/1000\n",
            "614/614 [==============================] - 0s 17us/step - loss: 0.5150 - acc: 0.7329 - val_loss: 0.5792 - val_acc: 0.7273\n",
            "Epoch 643/1000\n",
            "614/614 [==============================] - 0s 20us/step - loss: 0.5258 - acc: 0.7215 - val_loss: 0.5839 - val_acc: 0.7208\n",
            "Epoch 644/1000\n",
            "614/614 [==============================] - 0s 27us/step - loss: 0.5372 - acc: 0.7215 - val_loss: 0.5848 - val_acc: 0.7208\n",
            "Epoch 645/1000\n",
            "614/614 [==============================] - 0s 20us/step - loss: 0.5261 - acc: 0.7199 - val_loss: 0.5836 - val_acc: 0.7208\n",
            "Epoch 646/1000\n",
            "614/614 [==============================] - 0s 21us/step - loss: 0.5290 - acc: 0.7362 - val_loss: 0.5827 - val_acc: 0.7273\n",
            "Epoch 647/1000\n",
            "614/614 [==============================] - 0s 24us/step - loss: 0.5347 - acc: 0.7117 - val_loss: 0.5815 - val_acc: 0.7208\n",
            "Epoch 648/1000\n",
            "614/614 [==============================] - 0s 21us/step - loss: 0.5245 - acc: 0.7231 - val_loss: 0.5818 - val_acc: 0.7208\n",
            "Epoch 649/1000\n",
            "614/614 [==============================] - 0s 23us/step - loss: 0.5451 - acc: 0.7036 - val_loss: 0.5824 - val_acc: 0.6883\n",
            "Epoch 650/1000\n",
            "614/614 [==============================] - 0s 17us/step - loss: 0.5365 - acc: 0.7264 - val_loss: 0.5815 - val_acc: 0.6883\n",
            "Epoch 651/1000\n",
            "614/614 [==============================] - 0s 16us/step - loss: 0.5112 - acc: 0.7443 - val_loss: 0.5806 - val_acc: 0.6883\n",
            "Epoch 652/1000\n",
            "614/614 [==============================] - 0s 20us/step - loss: 0.5366 - acc: 0.7443 - val_loss: 0.5819 - val_acc: 0.7143\n",
            "Epoch 653/1000\n",
            "614/614 [==============================] - 0s 21us/step - loss: 0.5294 - acc: 0.7085 - val_loss: 0.5833 - val_acc: 0.7273\n",
            "Epoch 654/1000\n",
            "614/614 [==============================] - 0s 21us/step - loss: 0.5327 - acc: 0.7215 - val_loss: 0.5857 - val_acc: 0.7208\n",
            "Epoch 655/1000\n",
            "614/614 [==============================] - 0s 20us/step - loss: 0.5504 - acc: 0.7068 - val_loss: 0.5874 - val_acc: 0.7208\n",
            "Epoch 656/1000\n",
            "614/614 [==============================] - 0s 26us/step - loss: 0.5312 - acc: 0.7068 - val_loss: 0.5871 - val_acc: 0.7273\n",
            "Epoch 657/1000\n",
            "614/614 [==============================] - 0s 20us/step - loss: 0.5584 - acc: 0.7117 - val_loss: 0.5858 - val_acc: 0.7273\n",
            "Epoch 658/1000\n",
            "614/614 [==============================] - 0s 18us/step - loss: 0.5384 - acc: 0.7166 - val_loss: 0.5860 - val_acc: 0.7338\n",
            "Epoch 659/1000\n",
            "614/614 [==============================] - 0s 16us/step - loss: 0.5312 - acc: 0.7117 - val_loss: 0.5832 - val_acc: 0.7273\n",
            "Epoch 660/1000\n",
            "614/614 [==============================] - 0s 19us/step - loss: 0.5239 - acc: 0.7410 - val_loss: 0.5795 - val_acc: 0.7208\n",
            "Epoch 661/1000\n",
            "614/614 [==============================] - 0s 22us/step - loss: 0.5477 - acc: 0.7182 - val_loss: 0.5762 - val_acc: 0.7208\n",
            "Epoch 662/1000\n",
            "614/614 [==============================] - 0s 24us/step - loss: 0.5491 - acc: 0.7036 - val_loss: 0.5749 - val_acc: 0.7078\n",
            "Epoch 663/1000\n",
            "614/614 [==============================] - 0s 20us/step - loss: 0.5313 - acc: 0.7199 - val_loss: 0.5741 - val_acc: 0.7078\n",
            "Epoch 664/1000\n",
            "614/614 [==============================] - 0s 21us/step - loss: 0.5203 - acc: 0.7394 - val_loss: 0.5753 - val_acc: 0.7078\n",
            "Epoch 665/1000\n",
            "614/614 [==============================] - 0s 18us/step - loss: 0.5292 - acc: 0.7150 - val_loss: 0.5774 - val_acc: 0.7208\n",
            "Epoch 666/1000\n",
            "614/614 [==============================] - 0s 20us/step - loss: 0.5332 - acc: 0.7199 - val_loss: 0.5798 - val_acc: 0.7273\n",
            "Epoch 667/1000\n",
            "614/614 [==============================] - 0s 21us/step - loss: 0.5345 - acc: 0.7362 - val_loss: 0.5807 - val_acc: 0.7273\n",
            "Epoch 668/1000\n",
            "614/614 [==============================] - 0s 26us/step - loss: 0.5146 - acc: 0.7264 - val_loss: 0.5814 - val_acc: 0.7208\n",
            "Epoch 669/1000\n",
            "614/614 [==============================] - 0s 17us/step - loss: 0.5159 - acc: 0.7329 - val_loss: 0.5801 - val_acc: 0.7208\n",
            "Epoch 670/1000\n",
            "614/614 [==============================] - 0s 22us/step - loss: 0.5416 - acc: 0.7345 - val_loss: 0.5794 - val_acc: 0.7208\n",
            "Epoch 671/1000\n",
            "614/614 [==============================] - 0s 24us/step - loss: 0.5176 - acc: 0.7248 - val_loss: 0.5794 - val_acc: 0.7208\n",
            "Epoch 672/1000\n",
            "614/614 [==============================] - 0s 22us/step - loss: 0.5221 - acc: 0.7378 - val_loss: 0.5780 - val_acc: 0.7208\n",
            "Epoch 673/1000\n",
            "614/614 [==============================] - 0s 20us/step - loss: 0.5312 - acc: 0.7329 - val_loss: 0.5768 - val_acc: 0.7208\n",
            "Epoch 674/1000\n",
            "614/614 [==============================] - 0s 19us/step - loss: 0.5319 - acc: 0.7150 - val_loss: 0.5769 - val_acc: 0.7208\n",
            "Epoch 675/1000\n",
            "614/614 [==============================] - 0s 20us/step - loss: 0.5201 - acc: 0.7362 - val_loss: 0.5779 - val_acc: 0.7143\n",
            "Epoch 676/1000\n",
            "614/614 [==============================] - 0s 19us/step - loss: 0.5284 - acc: 0.7345 - val_loss: 0.5796 - val_acc: 0.7078\n",
            "Epoch 677/1000\n",
            "614/614 [==============================] - 0s 20us/step - loss: 0.5420 - acc: 0.7182 - val_loss: 0.5807 - val_acc: 0.7013\n",
            "Epoch 678/1000\n",
            "614/614 [==============================] - 0s 20us/step - loss: 0.5425 - acc: 0.7264 - val_loss: 0.5798 - val_acc: 0.6883\n",
            "Epoch 679/1000\n",
            "614/614 [==============================] - 0s 25us/step - loss: 0.5143 - acc: 0.7296 - val_loss: 0.5793 - val_acc: 0.7013\n",
            "Epoch 680/1000\n",
            "614/614 [==============================] - 0s 23us/step - loss: 0.5186 - acc: 0.7345 - val_loss: 0.5787 - val_acc: 0.7143\n",
            "Epoch 681/1000\n",
            "614/614 [==============================] - 0s 33us/step - loss: 0.5312 - acc: 0.7199 - val_loss: 0.5783 - val_acc: 0.7208\n",
            "Epoch 682/1000\n",
            "614/614 [==============================] - 0s 17us/step - loss: 0.5262 - acc: 0.7378 - val_loss: 0.5779 - val_acc: 0.7208\n",
            "Epoch 683/1000\n",
            "614/614 [==============================] - 0s 23us/step - loss: 0.5229 - acc: 0.7134 - val_loss: 0.5783 - val_acc: 0.7143\n",
            "Epoch 684/1000\n",
            "614/614 [==============================] - 0s 25us/step - loss: 0.5199 - acc: 0.7215 - val_loss: 0.5794 - val_acc: 0.7143\n",
            "Epoch 685/1000\n",
            "614/614 [==============================] - 0s 24us/step - loss: 0.5301 - acc: 0.7117 - val_loss: 0.5827 - val_acc: 0.7143\n",
            "Epoch 686/1000\n",
            "614/614 [==============================] - 0s 18us/step - loss: 0.5330 - acc: 0.7166 - val_loss: 0.5840 - val_acc: 0.7273\n",
            "Epoch 687/1000\n",
            "614/614 [==============================] - 0s 19us/step - loss: 0.5386 - acc: 0.7410 - val_loss: 0.5844 - val_acc: 0.7338\n",
            "Epoch 688/1000\n",
            "614/614 [==============================] - 0s 18us/step - loss: 0.5259 - acc: 0.7085 - val_loss: 0.5850 - val_acc: 0.7273\n",
            "Epoch 689/1000\n",
            "614/614 [==============================] - 0s 22us/step - loss: 0.5325 - acc: 0.7134 - val_loss: 0.5846 - val_acc: 0.7273\n",
            "Epoch 690/1000\n",
            "614/614 [==============================] - 0s 23us/step - loss: 0.5347 - acc: 0.7182 - val_loss: 0.5837 - val_acc: 0.7208\n",
            "Epoch 691/1000\n",
            "614/614 [==============================] - 0s 19us/step - loss: 0.5209 - acc: 0.7296 - val_loss: 0.5838 - val_acc: 0.7208\n",
            "Epoch 692/1000\n",
            "614/614 [==============================] - 0s 20us/step - loss: 0.5209 - acc: 0.7362 - val_loss: 0.5843 - val_acc: 0.7208\n",
            "Epoch 693/1000\n",
            "614/614 [==============================] - 0s 17us/step - loss: 0.5207 - acc: 0.7101 - val_loss: 0.5839 - val_acc: 0.7273\n",
            "Epoch 694/1000\n",
            "614/614 [==============================] - 0s 17us/step - loss: 0.5257 - acc: 0.7199 - val_loss: 0.5828 - val_acc: 0.7208\n",
            "Epoch 695/1000\n",
            "614/614 [==============================] - 0s 17us/step - loss: 0.5226 - acc: 0.7231 - val_loss: 0.5825 - val_acc: 0.7338\n",
            "Epoch 696/1000\n",
            "614/614 [==============================] - 0s 21us/step - loss: 0.5299 - acc: 0.7280 - val_loss: 0.5825 - val_acc: 0.7338\n",
            "Epoch 697/1000\n",
            "614/614 [==============================] - 0s 22us/step - loss: 0.5347 - acc: 0.6938 - val_loss: 0.5830 - val_acc: 0.7208\n",
            "Epoch 698/1000\n",
            "614/614 [==============================] - 0s 29us/step - loss: 0.5289 - acc: 0.7199 - val_loss: 0.5826 - val_acc: 0.7208\n",
            "Epoch 699/1000\n",
            "614/614 [==============================] - 0s 20us/step - loss: 0.5311 - acc: 0.7150 - val_loss: 0.5805 - val_acc: 0.7273\n",
            "Epoch 700/1000\n",
            "614/614 [==============================] - 0s 20us/step - loss: 0.5286 - acc: 0.7362 - val_loss: 0.5787 - val_acc: 0.7273\n",
            "Epoch 701/1000\n",
            "614/614 [==============================] - 0s 23us/step - loss: 0.5291 - acc: 0.7394 - val_loss: 0.5781 - val_acc: 0.7273\n",
            "Epoch 702/1000\n",
            "614/614 [==============================] - 0s 20us/step - loss: 0.5494 - acc: 0.7199 - val_loss: 0.5776 - val_acc: 0.7273\n",
            "Epoch 703/1000\n",
            "614/614 [==============================] - 0s 19us/step - loss: 0.5255 - acc: 0.7134 - val_loss: 0.5770 - val_acc: 0.7338\n",
            "Epoch 704/1000\n",
            "614/614 [==============================] - 0s 21us/step - loss: 0.5195 - acc: 0.7329 - val_loss: 0.5768 - val_acc: 0.7338\n",
            "Epoch 705/1000\n",
            "614/614 [==============================] - 0s 19us/step - loss: 0.5318 - acc: 0.7085 - val_loss: 0.5775 - val_acc: 0.7338\n",
            "Epoch 706/1000\n",
            "614/614 [==============================] - 0s 22us/step - loss: 0.5385 - acc: 0.7215 - val_loss: 0.5773 - val_acc: 0.7338\n",
            "Epoch 707/1000\n",
            "614/614 [==============================] - 0s 18us/step - loss: 0.5108 - acc: 0.7280 - val_loss: 0.5773 - val_acc: 0.7338\n",
            "Epoch 708/1000\n",
            "614/614 [==============================] - 0s 22us/step - loss: 0.5148 - acc: 0.7231 - val_loss: 0.5780 - val_acc: 0.7403\n",
            "Epoch 709/1000\n",
            "614/614 [==============================] - 0s 23us/step - loss: 0.5393 - acc: 0.7248 - val_loss: 0.5801 - val_acc: 0.7208\n",
            "Epoch 710/1000\n",
            "614/614 [==============================] - 0s 22us/step - loss: 0.5166 - acc: 0.7459 - val_loss: 0.5814 - val_acc: 0.7208\n",
            "Epoch 711/1000\n",
            "614/614 [==============================] - 0s 22us/step - loss: 0.5389 - acc: 0.7215 - val_loss: 0.5818 - val_acc: 0.7208\n",
            "Epoch 712/1000\n",
            "614/614 [==============================] - 0s 23us/step - loss: 0.5401 - acc: 0.7150 - val_loss: 0.5819 - val_acc: 0.7143\n",
            "Epoch 713/1000\n",
            "614/614 [==============================] - 0s 17us/step - loss: 0.5364 - acc: 0.7313 - val_loss: 0.5806 - val_acc: 0.7013\n",
            "Epoch 714/1000\n",
            "614/614 [==============================] - 0s 19us/step - loss: 0.5115 - acc: 0.7280 - val_loss: 0.5800 - val_acc: 0.7078\n",
            "Epoch 715/1000\n",
            "614/614 [==============================] - 0s 22us/step - loss: 0.5224 - acc: 0.7134 - val_loss: 0.5806 - val_acc: 0.7078\n",
            "Epoch 716/1000\n",
            "614/614 [==============================] - 0s 19us/step - loss: 0.5224 - acc: 0.7085 - val_loss: 0.5817 - val_acc: 0.7208\n",
            "Epoch 717/1000\n",
            "614/614 [==============================] - 0s 24us/step - loss: 0.5366 - acc: 0.7231 - val_loss: 0.5824 - val_acc: 0.7143\n",
            "Epoch 718/1000\n",
            "614/614 [==============================] - 0s 18us/step - loss: 0.5445 - acc: 0.7052 - val_loss: 0.5815 - val_acc: 0.7208\n",
            "Epoch 719/1000\n",
            "614/614 [==============================] - 0s 20us/step - loss: 0.5406 - acc: 0.7166 - val_loss: 0.5793 - val_acc: 0.7273\n",
            "Epoch 720/1000\n",
            "614/614 [==============================] - 0s 20us/step - loss: 0.5337 - acc: 0.7280 - val_loss: 0.5785 - val_acc: 0.7078\n",
            "Epoch 721/1000\n",
            "614/614 [==============================] - 0s 22us/step - loss: 0.5233 - acc: 0.7150 - val_loss: 0.5779 - val_acc: 0.7078\n",
            "Epoch 722/1000\n",
            "614/614 [==============================] - 0s 19us/step - loss: 0.5339 - acc: 0.7215 - val_loss: 0.5779 - val_acc: 0.7013\n",
            "Epoch 723/1000\n",
            "614/614 [==============================] - 0s 17us/step - loss: 0.5368 - acc: 0.7248 - val_loss: 0.5769 - val_acc: 0.7143\n",
            "Epoch 724/1000\n",
            "614/614 [==============================] - 0s 16us/step - loss: 0.5273 - acc: 0.7410 - val_loss: 0.5762 - val_acc: 0.7273\n",
            "Epoch 725/1000\n",
            "614/614 [==============================] - 0s 27us/step - loss: 0.5325 - acc: 0.7182 - val_loss: 0.5759 - val_acc: 0.7338\n",
            "Epoch 726/1000\n",
            "614/614 [==============================] - 0s 20us/step - loss: 0.5290 - acc: 0.7166 - val_loss: 0.5763 - val_acc: 0.7403\n",
            "Epoch 727/1000\n",
            "614/614 [==============================] - 0s 18us/step - loss: 0.5148 - acc: 0.7150 - val_loss: 0.5764 - val_acc: 0.7403\n",
            "Epoch 728/1000\n",
            "614/614 [==============================] - 0s 21us/step - loss: 0.5374 - acc: 0.7199 - val_loss: 0.5780 - val_acc: 0.7338\n",
            "Epoch 729/1000\n",
            "614/614 [==============================] - 0s 17us/step - loss: 0.5196 - acc: 0.7150 - val_loss: 0.5815 - val_acc: 0.7273\n",
            "Epoch 730/1000\n",
            "614/614 [==============================] - 0s 27us/step - loss: 0.5270 - acc: 0.7166 - val_loss: 0.5829 - val_acc: 0.7273\n",
            "Epoch 731/1000\n",
            "614/614 [==============================] - 0s 20us/step - loss: 0.5047 - acc: 0.7362 - val_loss: 0.5831 - val_acc: 0.7338\n",
            "Epoch 732/1000\n",
            "614/614 [==============================] - 0s 24us/step - loss: 0.5219 - acc: 0.7362 - val_loss: 0.5837 - val_acc: 0.7273\n",
            "Epoch 733/1000\n",
            "614/614 [==============================] - 0s 20us/step - loss: 0.5381 - acc: 0.7231 - val_loss: 0.5827 - val_acc: 0.7468\n",
            "Epoch 734/1000\n",
            "614/614 [==============================] - 0s 23us/step - loss: 0.5386 - acc: 0.7101 - val_loss: 0.5806 - val_acc: 0.7338\n",
            "Epoch 735/1000\n",
            "614/614 [==============================] - 0s 23us/step - loss: 0.5237 - acc: 0.7231 - val_loss: 0.5799 - val_acc: 0.7338\n",
            "Epoch 736/1000\n",
            "614/614 [==============================] - 0s 30us/step - loss: 0.5512 - acc: 0.7036 - val_loss: 0.5803 - val_acc: 0.7013\n",
            "Epoch 737/1000\n",
            "614/614 [==============================] - 0s 22us/step - loss: 0.5390 - acc: 0.7443 - val_loss: 0.5802 - val_acc: 0.7013\n",
            "Epoch 738/1000\n",
            "614/614 [==============================] - 0s 20us/step - loss: 0.5253 - acc: 0.7264 - val_loss: 0.5815 - val_acc: 0.7078\n",
            "Epoch 739/1000\n",
            "614/614 [==============================] - 0s 20us/step - loss: 0.5369 - acc: 0.7134 - val_loss: 0.5840 - val_acc: 0.7078\n",
            "Epoch 740/1000\n",
            "614/614 [==============================] - 0s 20us/step - loss: 0.5217 - acc: 0.7443 - val_loss: 0.5865 - val_acc: 0.7143\n",
            "Epoch 741/1000\n",
            "614/614 [==============================] - 0s 21us/step - loss: 0.5148 - acc: 0.7394 - val_loss: 0.5883 - val_acc: 0.7143\n",
            "Epoch 742/1000\n",
            "614/614 [==============================] - 0s 19us/step - loss: 0.5170 - acc: 0.7427 - val_loss: 0.5897 - val_acc: 0.7143\n",
            "Epoch 743/1000\n",
            "614/614 [==============================] - 0s 21us/step - loss: 0.5343 - acc: 0.7264 - val_loss: 0.5882 - val_acc: 0.7208\n",
            "Epoch 744/1000\n",
            "614/614 [==============================] - 0s 21us/step - loss: 0.5153 - acc: 0.7313 - val_loss: 0.5855 - val_acc: 0.7208\n",
            "Epoch 745/1000\n",
            "614/614 [==============================] - 0s 23us/step - loss: 0.5384 - acc: 0.7329 - val_loss: 0.5829 - val_acc: 0.7208\n",
            "Epoch 746/1000\n",
            "614/614 [==============================] - 0s 22us/step - loss: 0.5043 - acc: 0.7378 - val_loss: 0.5811 - val_acc: 0.7208\n",
            "Epoch 747/1000\n",
            "614/614 [==============================] - 0s 19us/step - loss: 0.5269 - acc: 0.7117 - val_loss: 0.5805 - val_acc: 0.7338\n",
            "Epoch 748/1000\n",
            "614/614 [==============================] - 0s 20us/step - loss: 0.5259 - acc: 0.7231 - val_loss: 0.5804 - val_acc: 0.7208\n",
            "Epoch 749/1000\n",
            "614/614 [==============================] - 0s 21us/step - loss: 0.5322 - acc: 0.7248 - val_loss: 0.5797 - val_acc: 0.7143\n",
            "Epoch 750/1000\n",
            "614/614 [==============================] - 0s 29us/step - loss: 0.5058 - acc: 0.7541 - val_loss: 0.5800 - val_acc: 0.7208\n",
            "Epoch 751/1000\n",
            "614/614 [==============================] - 0s 21us/step - loss: 0.5376 - acc: 0.7215 - val_loss: 0.5801 - val_acc: 0.7143\n",
            "Epoch 752/1000\n",
            "614/614 [==============================] - 0s 19us/step - loss: 0.5251 - acc: 0.7296 - val_loss: 0.5783 - val_acc: 0.7143\n",
            "Epoch 753/1000\n",
            "614/614 [==============================] - 0s 20us/step - loss: 0.5258 - acc: 0.7313 - val_loss: 0.5771 - val_acc: 0.7338\n",
            "Epoch 754/1000\n",
            "614/614 [==============================] - 0s 20us/step - loss: 0.5220 - acc: 0.7134 - val_loss: 0.5771 - val_acc: 0.7338\n",
            "Epoch 755/1000\n",
            "614/614 [==============================] - 0s 19us/step - loss: 0.5257 - acc: 0.7362 - val_loss: 0.5773 - val_acc: 0.7338\n",
            "Epoch 756/1000\n",
            "614/614 [==============================] - 0s 20us/step - loss: 0.5149 - acc: 0.7215 - val_loss: 0.5777 - val_acc: 0.7338\n",
            "Epoch 757/1000\n",
            "614/614 [==============================] - 0s 29us/step - loss: 0.5142 - acc: 0.7394 - val_loss: 0.5785 - val_acc: 0.7338\n",
            "Epoch 758/1000\n",
            "614/614 [==============================] - 0s 20us/step - loss: 0.5280 - acc: 0.7085 - val_loss: 0.5795 - val_acc: 0.7208\n",
            "Epoch 759/1000\n",
            "614/614 [==============================] - 0s 25us/step - loss: 0.5307 - acc: 0.7101 - val_loss: 0.5805 - val_acc: 0.7273\n",
            "Epoch 760/1000\n",
            "614/614 [==============================] - 0s 18us/step - loss: 0.5173 - acc: 0.7182 - val_loss: 0.5821 - val_acc: 0.7273\n",
            "Epoch 761/1000\n",
            "614/614 [==============================] - 0s 20us/step - loss: 0.5172 - acc: 0.7264 - val_loss: 0.5829 - val_acc: 0.7208\n",
            "Epoch 762/1000\n",
            "614/614 [==============================] - 0s 21us/step - loss: 0.5125 - acc: 0.7329 - val_loss: 0.5826 - val_acc: 0.7273\n",
            "Epoch 763/1000\n",
            "614/614 [==============================] - 0s 18us/step - loss: 0.5364 - acc: 0.7052 - val_loss: 0.5824 - val_acc: 0.7338\n",
            "Epoch 764/1000\n",
            "614/614 [==============================] - 0s 23us/step - loss: 0.5306 - acc: 0.7101 - val_loss: 0.5830 - val_acc: 0.7273\n",
            "Epoch 765/1000\n",
            "614/614 [==============================] - 0s 22us/step - loss: 0.5362 - acc: 0.7248 - val_loss: 0.5818 - val_acc: 0.7273\n",
            "Epoch 766/1000\n",
            "614/614 [==============================] - 0s 22us/step - loss: 0.5257 - acc: 0.7231 - val_loss: 0.5808 - val_acc: 0.7338\n",
            "Epoch 767/1000\n",
            "614/614 [==============================] - 0s 20us/step - loss: 0.5346 - acc: 0.7215 - val_loss: 0.5798 - val_acc: 0.7143\n",
            "Epoch 768/1000\n",
            "614/614 [==============================] - 0s 19us/step - loss: 0.5337 - acc: 0.7199 - val_loss: 0.5785 - val_acc: 0.7013\n",
            "Epoch 769/1000\n",
            "614/614 [==============================] - 0s 29us/step - loss: 0.5169 - acc: 0.7378 - val_loss: 0.5776 - val_acc: 0.7208\n",
            "Epoch 770/1000\n",
            "614/614 [==============================] - 0s 21us/step - loss: 0.5181 - acc: 0.7068 - val_loss: 0.5778 - val_acc: 0.7338\n",
            "Epoch 771/1000\n",
            "614/614 [==============================] - 0s 16us/step - loss: 0.5280 - acc: 0.7231 - val_loss: 0.5808 - val_acc: 0.7338\n",
            "Epoch 772/1000\n",
            "614/614 [==============================] - 0s 25us/step - loss: 0.5145 - acc: 0.7394 - val_loss: 0.5841 - val_acc: 0.7338\n",
            "Epoch 773/1000\n",
            "614/614 [==============================] - 0s 32us/step - loss: 0.5066 - acc: 0.7362 - val_loss: 0.5875 - val_acc: 0.7338\n",
            "Epoch 774/1000\n",
            "614/614 [==============================] - 0s 22us/step - loss: 0.5188 - acc: 0.7264 - val_loss: 0.5878 - val_acc: 0.7338\n",
            "Epoch 775/1000\n",
            "614/614 [==============================] - 0s 21us/step - loss: 0.5160 - acc: 0.7443 - val_loss: 0.5871 - val_acc: 0.7338\n",
            "Epoch 776/1000\n",
            "614/614 [==============================] - 0s 19us/step - loss: 0.5289 - acc: 0.7345 - val_loss: 0.5863 - val_acc: 0.7208\n",
            "Epoch 777/1000\n",
            "614/614 [==============================] - 0s 31us/step - loss: 0.5170 - acc: 0.7182 - val_loss: 0.5852 - val_acc: 0.7143\n",
            "Epoch 778/1000\n",
            "614/614 [==============================] - 0s 23us/step - loss: 0.5102 - acc: 0.7345 - val_loss: 0.5838 - val_acc: 0.7143\n",
            "Epoch 779/1000\n",
            "614/614 [==============================] - 0s 21us/step - loss: 0.5397 - acc: 0.7248 - val_loss: 0.5825 - val_acc: 0.7273\n",
            "Epoch 780/1000\n",
            "614/614 [==============================] - 0s 26us/step - loss: 0.5323 - acc: 0.7296 - val_loss: 0.5828 - val_acc: 0.7273\n",
            "Epoch 781/1000\n",
            "614/614 [==============================] - 0s 22us/step - loss: 0.5387 - acc: 0.7134 - val_loss: 0.5840 - val_acc: 0.7273\n",
            "Epoch 782/1000\n",
            "614/614 [==============================] - 0s 26us/step - loss: 0.5326 - acc: 0.7199 - val_loss: 0.5842 - val_acc: 0.7078\n",
            "Epoch 783/1000\n",
            "614/614 [==============================] - 0s 24us/step - loss: 0.5325 - acc: 0.7248 - val_loss: 0.5824 - val_acc: 0.7208\n",
            "Epoch 784/1000\n",
            "614/614 [==============================] - 0s 22us/step - loss: 0.5222 - acc: 0.7280 - val_loss: 0.5813 - val_acc: 0.7338\n",
            "Epoch 785/1000\n",
            "614/614 [==============================] - 0s 24us/step - loss: 0.5282 - acc: 0.7296 - val_loss: 0.5797 - val_acc: 0.7338\n",
            "Epoch 786/1000\n",
            "614/614 [==============================] - 0s 20us/step - loss: 0.5341 - acc: 0.7199 - val_loss: 0.5788 - val_acc: 0.7273\n",
            "Epoch 787/1000\n",
            "614/614 [==============================] - 0s 20us/step - loss: 0.5293 - acc: 0.7166 - val_loss: 0.5792 - val_acc: 0.7273\n",
            "Epoch 788/1000\n",
            "614/614 [==============================] - 0s 22us/step - loss: 0.5126 - acc: 0.7345 - val_loss: 0.5812 - val_acc: 0.7273\n",
            "Epoch 789/1000\n",
            "614/614 [==============================] - 0s 20us/step - loss: 0.5226 - acc: 0.7248 - val_loss: 0.5841 - val_acc: 0.7143\n",
            "Epoch 790/1000\n",
            "614/614 [==============================] - 0s 21us/step - loss: 0.5184 - acc: 0.7231 - val_loss: 0.5858 - val_acc: 0.7208\n",
            "Epoch 791/1000\n",
            "614/614 [==============================] - 0s 23us/step - loss: 0.5213 - acc: 0.7345 - val_loss: 0.5869 - val_acc: 0.7208\n",
            "Epoch 792/1000\n",
            "614/614 [==============================] - 0s 24us/step - loss: 0.5246 - acc: 0.7345 - val_loss: 0.5865 - val_acc: 0.7208\n",
            "Epoch 793/1000\n",
            "614/614 [==============================] - 0s 22us/step - loss: 0.5106 - acc: 0.7345 - val_loss: 0.5863 - val_acc: 0.7208\n",
            "Epoch 794/1000\n",
            "614/614 [==============================] - 0s 27us/step - loss: 0.5137 - acc: 0.7394 - val_loss: 0.5860 - val_acc: 0.7208\n",
            "Epoch 795/1000\n",
            "614/614 [==============================] - 0s 23us/step - loss: 0.5141 - acc: 0.7394 - val_loss: 0.5858 - val_acc: 0.7208\n",
            "Epoch 796/1000\n",
            "614/614 [==============================] - 0s 27us/step - loss: 0.5419 - acc: 0.7199 - val_loss: 0.5847 - val_acc: 0.7338\n",
            "Epoch 797/1000\n",
            "614/614 [==============================] - 0s 23us/step - loss: 0.5181 - acc: 0.7313 - val_loss: 0.5835 - val_acc: 0.7338\n",
            "Epoch 798/1000\n",
            "614/614 [==============================] - 0s 19us/step - loss: 0.5235 - acc: 0.7215 - val_loss: 0.5829 - val_acc: 0.7338\n",
            "Epoch 799/1000\n",
            "614/614 [==============================] - 0s 22us/step - loss: 0.5236 - acc: 0.7052 - val_loss: 0.5828 - val_acc: 0.7338\n",
            "Epoch 800/1000\n",
            "614/614 [==============================] - 0s 23us/step - loss: 0.5307 - acc: 0.7264 - val_loss: 0.5823 - val_acc: 0.7338\n",
            "Epoch 801/1000\n",
            "614/614 [==============================] - 0s 25us/step - loss: 0.5221 - acc: 0.7313 - val_loss: 0.5820 - val_acc: 0.7338\n",
            "Epoch 802/1000\n",
            "614/614 [==============================] - 0s 25us/step - loss: 0.5137 - acc: 0.7329 - val_loss: 0.5828 - val_acc: 0.7338\n",
            "Epoch 803/1000\n",
            "614/614 [==============================] - 0s 18us/step - loss: 0.5130 - acc: 0.7443 - val_loss: 0.5840 - val_acc: 0.7338\n",
            "Epoch 804/1000\n",
            "614/614 [==============================] - 0s 21us/step - loss: 0.5239 - acc: 0.7264 - val_loss: 0.5834 - val_acc: 0.7338\n",
            "Epoch 805/1000\n",
            "614/614 [==============================] - 0s 18us/step - loss: 0.5292 - acc: 0.7117 - val_loss: 0.5821 - val_acc: 0.7338\n",
            "Epoch 806/1000\n",
            "614/614 [==============================] - 0s 17us/step - loss: 0.5236 - acc: 0.7134 - val_loss: 0.5819 - val_acc: 0.7338\n",
            "Epoch 807/1000\n",
            "614/614 [==============================] - 0s 18us/step - loss: 0.5210 - acc: 0.7394 - val_loss: 0.5815 - val_acc: 0.7338\n",
            "Epoch 808/1000\n",
            "614/614 [==============================] - 0s 18us/step - loss: 0.5194 - acc: 0.7410 - val_loss: 0.5814 - val_acc: 0.7338\n",
            "Epoch 809/1000\n",
            "614/614 [==============================] - 0s 18us/step - loss: 0.5067 - acc: 0.7410 - val_loss: 0.5814 - val_acc: 0.7338\n",
            "Epoch 810/1000\n",
            "614/614 [==============================] - 0s 20us/step - loss: 0.5180 - acc: 0.7264 - val_loss: 0.5826 - val_acc: 0.7208\n",
            "Epoch 811/1000\n",
            "614/614 [==============================] - 0s 19us/step - loss: 0.5248 - acc: 0.7378 - val_loss: 0.5839 - val_acc: 0.7273\n",
            "Epoch 812/1000\n",
            "614/614 [==============================] - 0s 17us/step - loss: 0.5269 - acc: 0.7166 - val_loss: 0.5833 - val_acc: 0.7338\n",
            "Epoch 813/1000\n",
            "614/614 [==============================] - 0s 18us/step - loss: 0.5150 - acc: 0.7296 - val_loss: 0.5824 - val_acc: 0.7338\n",
            "Epoch 814/1000\n",
            "614/614 [==============================] - 0s 19us/step - loss: 0.5270 - acc: 0.7345 - val_loss: 0.5822 - val_acc: 0.7338\n",
            "Epoch 815/1000\n",
            "614/614 [==============================] - 0s 22us/step - loss: 0.5334 - acc: 0.7101 - val_loss: 0.5824 - val_acc: 0.7403\n",
            "Epoch 816/1000\n",
            "614/614 [==============================] - 0s 19us/step - loss: 0.5219 - acc: 0.7313 - val_loss: 0.5828 - val_acc: 0.7338\n",
            "Epoch 817/1000\n",
            "614/614 [==============================] - 0s 19us/step - loss: 0.5173 - acc: 0.7231 - val_loss: 0.5833 - val_acc: 0.7273\n",
            "Epoch 818/1000\n",
            "614/614 [==============================] - 0s 19us/step - loss: 0.5407 - acc: 0.7313 - val_loss: 0.5834 - val_acc: 0.7273\n",
            "Epoch 819/1000\n",
            "614/614 [==============================] - 0s 26us/step - loss: 0.5225 - acc: 0.7264 - val_loss: 0.5839 - val_acc: 0.7208\n",
            "Epoch 820/1000\n",
            "614/614 [==============================] - 0s 21us/step - loss: 0.5271 - acc: 0.7052 - val_loss: 0.5839 - val_acc: 0.7208\n",
            "Epoch 821/1000\n",
            "614/614 [==============================] - 0s 23us/step - loss: 0.5191 - acc: 0.7394 - val_loss: 0.5838 - val_acc: 0.7208\n",
            "Epoch 822/1000\n",
            "614/614 [==============================] - 0s 18us/step - loss: 0.5025 - acc: 0.7378 - val_loss: 0.5845 - val_acc: 0.7273\n",
            "Epoch 823/1000\n",
            "614/614 [==============================] - 0s 20us/step - loss: 0.5225 - acc: 0.7345 - val_loss: 0.5846 - val_acc: 0.7338\n",
            "Epoch 824/1000\n",
            "614/614 [==============================] - 0s 16us/step - loss: 0.5182 - acc: 0.7394 - val_loss: 0.5832 - val_acc: 0.7338\n",
            "Epoch 825/1000\n",
            "614/614 [==============================] - 0s 16us/step - loss: 0.5114 - acc: 0.7296 - val_loss: 0.5810 - val_acc: 0.7273\n",
            "Epoch 826/1000\n",
            "614/614 [==============================] - 0s 22us/step - loss: 0.5201 - acc: 0.7215 - val_loss: 0.5809 - val_acc: 0.7273\n",
            "Epoch 827/1000\n",
            "614/614 [==============================] - 0s 24us/step - loss: 0.5325 - acc: 0.7248 - val_loss: 0.5819 - val_acc: 0.7273\n",
            "Epoch 828/1000\n",
            "614/614 [==============================] - 0s 22us/step - loss: 0.5458 - acc: 0.7020 - val_loss: 0.5828 - val_acc: 0.7208\n",
            "Epoch 829/1000\n",
            "614/614 [==============================] - 0s 23us/step - loss: 0.5281 - acc: 0.7199 - val_loss: 0.5835 - val_acc: 0.7208\n",
            "Epoch 830/1000\n",
            "614/614 [==============================] - 0s 20us/step - loss: 0.5184 - acc: 0.7231 - val_loss: 0.5833 - val_acc: 0.7208\n",
            "Epoch 831/1000\n",
            "614/614 [==============================] - 0s 19us/step - loss: 0.5222 - acc: 0.7329 - val_loss: 0.5825 - val_acc: 0.7273\n",
            "Epoch 832/1000\n",
            "614/614 [==============================] - 0s 19us/step - loss: 0.5243 - acc: 0.7231 - val_loss: 0.5824 - val_acc: 0.7273\n",
            "Epoch 833/1000\n",
            "614/614 [==============================] - 0s 17us/step - loss: 0.5144 - acc: 0.7345 - val_loss: 0.5819 - val_acc: 0.7208\n",
            "Epoch 834/1000\n",
            "614/614 [==============================] - 0s 21us/step - loss: 0.5274 - acc: 0.7296 - val_loss: 0.5810 - val_acc: 0.7208\n",
            "Epoch 835/1000\n",
            "614/614 [==============================] - 0s 19us/step - loss: 0.5283 - acc: 0.7215 - val_loss: 0.5805 - val_acc: 0.7273\n",
            "Epoch 836/1000\n",
            "614/614 [==============================] - 0s 20us/step - loss: 0.5156 - acc: 0.7182 - val_loss: 0.5817 - val_acc: 0.7273\n",
            "Epoch 837/1000\n",
            "614/614 [==============================] - 0s 20us/step - loss: 0.5112 - acc: 0.7313 - val_loss: 0.5829 - val_acc: 0.7273\n",
            "Epoch 838/1000\n",
            "614/614 [==============================] - 0s 18us/step - loss: 0.5086 - acc: 0.7394 - val_loss: 0.5831 - val_acc: 0.7273\n",
            "Epoch 839/1000\n",
            "614/614 [==============================] - 0s 29us/step - loss: 0.5181 - acc: 0.7264 - val_loss: 0.5840 - val_acc: 0.7273\n",
            "Epoch 840/1000\n",
            "614/614 [==============================] - 0s 23us/step - loss: 0.5314 - acc: 0.7117 - val_loss: 0.5863 - val_acc: 0.7273\n",
            "Epoch 841/1000\n",
            "614/614 [==============================] - 0s 19us/step - loss: 0.5196 - acc: 0.7329 - val_loss: 0.5873 - val_acc: 0.7273\n",
            "Epoch 842/1000\n",
            "614/614 [==============================] - 0s 22us/step - loss: 0.5193 - acc: 0.7362 - val_loss: 0.5866 - val_acc: 0.7338\n",
            "Epoch 843/1000\n",
            "614/614 [==============================] - 0s 21us/step - loss: 0.5342 - acc: 0.7068 - val_loss: 0.5869 - val_acc: 0.7208\n",
            "Epoch 844/1000\n",
            "614/614 [==============================] - 0s 19us/step - loss: 0.5221 - acc: 0.7182 - val_loss: 0.5881 - val_acc: 0.7078\n",
            "Epoch 845/1000\n",
            "614/614 [==============================] - 0s 19us/step - loss: 0.5222 - acc: 0.7410 - val_loss: 0.5890 - val_acc: 0.7208\n",
            "Epoch 846/1000\n",
            "614/614 [==============================] - 0s 23us/step - loss: 0.5232 - acc: 0.7150 - val_loss: 0.5900 - val_acc: 0.7208\n",
            "Epoch 847/1000\n",
            "614/614 [==============================] - 0s 28us/step - loss: 0.5349 - acc: 0.7166 - val_loss: 0.5910 - val_acc: 0.7208\n",
            "Epoch 848/1000\n",
            "614/614 [==============================] - 0s 22us/step - loss: 0.5153 - acc: 0.7329 - val_loss: 0.5900 - val_acc: 0.7208\n",
            "Epoch 849/1000\n",
            "614/614 [==============================] - 0s 20us/step - loss: 0.5315 - acc: 0.7199 - val_loss: 0.5889 - val_acc: 0.7208\n",
            "Epoch 850/1000\n",
            "614/614 [==============================] - 0s 21us/step - loss: 0.5238 - acc: 0.7410 - val_loss: 0.5881 - val_acc: 0.7208\n",
            "Epoch 851/1000\n",
            "614/614 [==============================] - 0s 18us/step - loss: 0.5210 - acc: 0.7215 - val_loss: 0.5878 - val_acc: 0.7143\n",
            "Epoch 852/1000\n",
            "614/614 [==============================] - 0s 23us/step - loss: 0.5453 - acc: 0.7117 - val_loss: 0.5877 - val_acc: 0.7143\n",
            "Epoch 853/1000\n",
            "614/614 [==============================] - 0s 23us/step - loss: 0.5256 - acc: 0.7345 - val_loss: 0.5875 - val_acc: 0.7078\n",
            "Epoch 854/1000\n",
            "614/614 [==============================] - 0s 22us/step - loss: 0.5269 - acc: 0.7264 - val_loss: 0.5855 - val_acc: 0.7208\n",
            "Epoch 855/1000\n",
            "614/614 [==============================] - 0s 23us/step - loss: 0.5158 - acc: 0.7362 - val_loss: 0.5846 - val_acc: 0.7208\n",
            "Epoch 856/1000\n",
            "614/614 [==============================] - 0s 20us/step - loss: 0.5185 - acc: 0.7280 - val_loss: 0.5844 - val_acc: 0.7208\n",
            "Epoch 857/1000\n",
            "614/614 [==============================] - 0s 21us/step - loss: 0.5262 - acc: 0.7199 - val_loss: 0.5847 - val_acc: 0.7208\n",
            "Epoch 858/1000\n",
            "614/614 [==============================] - 0s 22us/step - loss: 0.5213 - acc: 0.7410 - val_loss: 0.5853 - val_acc: 0.7338\n",
            "Epoch 859/1000\n",
            "614/614 [==============================] - 0s 20us/step - loss: 0.5047 - acc: 0.7492 - val_loss: 0.5861 - val_acc: 0.7338\n",
            "Epoch 860/1000\n",
            "614/614 [==============================] - 0s 20us/step - loss: 0.5154 - acc: 0.7150 - val_loss: 0.5864 - val_acc: 0.7338\n",
            "Epoch 861/1000\n",
            "614/614 [==============================] - 0s 20us/step - loss: 0.5324 - acc: 0.7329 - val_loss: 0.5867 - val_acc: 0.7208\n",
            "Epoch 862/1000\n",
            "614/614 [==============================] - 0s 29us/step - loss: 0.5155 - acc: 0.7394 - val_loss: 0.5875 - val_acc: 0.7208\n",
            "Epoch 863/1000\n",
            "614/614 [==============================] - 0s 28us/step - loss: 0.5362 - acc: 0.7020 - val_loss: 0.5886 - val_acc: 0.7273\n",
            "Epoch 864/1000\n",
            "614/614 [==============================] - 0s 23us/step - loss: 0.5167 - acc: 0.7182 - val_loss: 0.5891 - val_acc: 0.7273\n",
            "Epoch 865/1000\n",
            "614/614 [==============================] - 0s 20us/step - loss: 0.5153 - acc: 0.7492 - val_loss: 0.5890 - val_acc: 0.7273\n",
            "Epoch 866/1000\n",
            "614/614 [==============================] - 0s 25us/step - loss: 0.5170 - acc: 0.7362 - val_loss: 0.5897 - val_acc: 0.7208\n",
            "Epoch 867/1000\n",
            "614/614 [==============================] - 0s 21us/step - loss: 0.5173 - acc: 0.7345 - val_loss: 0.5886 - val_acc: 0.7403\n",
            "Epoch 868/1000\n",
            "614/614 [==============================] - 0s 20us/step - loss: 0.5118 - acc: 0.7215 - val_loss: 0.5874 - val_acc: 0.7273\n",
            "Epoch 869/1000\n",
            "614/614 [==============================] - 0s 20us/step - loss: 0.5357 - acc: 0.7215 - val_loss: 0.5857 - val_acc: 0.7208\n",
            "Epoch 870/1000\n",
            "614/614 [==============================] - 0s 20us/step - loss: 0.5208 - acc: 0.7231 - val_loss: 0.5837 - val_acc: 0.7273\n",
            "Epoch 871/1000\n",
            "614/614 [==============================] - 0s 20us/step - loss: 0.5386 - acc: 0.7215 - val_loss: 0.5828 - val_acc: 0.7143\n",
            "Epoch 872/1000\n",
            "614/614 [==============================] - 0s 22us/step - loss: 0.5160 - acc: 0.7280 - val_loss: 0.5820 - val_acc: 0.7078\n",
            "Epoch 873/1000\n",
            "614/614 [==============================] - 0s 20us/step - loss: 0.5128 - acc: 0.7231 - val_loss: 0.5807 - val_acc: 0.7273\n",
            "Epoch 874/1000\n",
            "614/614 [==============================] - 0s 27us/step - loss: 0.5088 - acc: 0.7296 - val_loss: 0.5792 - val_acc: 0.7208\n",
            "Epoch 875/1000\n",
            "614/614 [==============================] - 0s 19us/step - loss: 0.5150 - acc: 0.7313 - val_loss: 0.5802 - val_acc: 0.7273\n",
            "Epoch 876/1000\n",
            "614/614 [==============================] - 0s 24us/step - loss: 0.4975 - acc: 0.7443 - val_loss: 0.5811 - val_acc: 0.7273\n",
            "Epoch 877/1000\n",
            "614/614 [==============================] - 0s 24us/step - loss: 0.5209 - acc: 0.7443 - val_loss: 0.5837 - val_acc: 0.7208\n",
            "Epoch 878/1000\n",
            "614/614 [==============================] - 0s 20us/step - loss: 0.5241 - acc: 0.7296 - val_loss: 0.5850 - val_acc: 0.7143\n",
            "Epoch 879/1000\n",
            "614/614 [==============================] - 0s 34us/step - loss: 0.5093 - acc: 0.7427 - val_loss: 0.5853 - val_acc: 0.7208\n",
            "Epoch 880/1000\n",
            "614/614 [==============================] - 0s 25us/step - loss: 0.5136 - acc: 0.7524 - val_loss: 0.5859 - val_acc: 0.7078\n",
            "Epoch 881/1000\n",
            "614/614 [==============================] - 0s 22us/step - loss: 0.5159 - acc: 0.7280 - val_loss: 0.5853 - val_acc: 0.7078\n",
            "Epoch 882/1000\n",
            "614/614 [==============================] - 0s 22us/step - loss: 0.5212 - acc: 0.7248 - val_loss: 0.5835 - val_acc: 0.7273\n",
            "Epoch 883/1000\n",
            "614/614 [==============================] - 0s 22us/step - loss: 0.5201 - acc: 0.7394 - val_loss: 0.5821 - val_acc: 0.7338\n",
            "Epoch 884/1000\n",
            "614/614 [==============================] - 0s 25us/step - loss: 0.5294 - acc: 0.7410 - val_loss: 0.5812 - val_acc: 0.7338\n",
            "Epoch 885/1000\n",
            "614/614 [==============================] - 0s 18us/step - loss: 0.5254 - acc: 0.7085 - val_loss: 0.5825 - val_acc: 0.7273\n",
            "Epoch 886/1000\n",
            "614/614 [==============================] - 0s 20us/step - loss: 0.4998 - acc: 0.7182 - val_loss: 0.5847 - val_acc: 0.7338\n",
            "Epoch 887/1000\n",
            "614/614 [==============================] - 0s 20us/step - loss: 0.5152 - acc: 0.7394 - val_loss: 0.5865 - val_acc: 0.7338\n",
            "Epoch 888/1000\n",
            "614/614 [==============================] - 0s 23us/step - loss: 0.5136 - acc: 0.7280 - val_loss: 0.5877 - val_acc: 0.7273\n",
            "Epoch 889/1000\n",
            "614/614 [==============================] - 0s 18us/step - loss: 0.5200 - acc: 0.7248 - val_loss: 0.5883 - val_acc: 0.7338\n",
            "Epoch 890/1000\n",
            "614/614 [==============================] - 0s 18us/step - loss: 0.5373 - acc: 0.7280 - val_loss: 0.5901 - val_acc: 0.7338\n",
            "Epoch 891/1000\n",
            "614/614 [==============================] - 0s 21us/step - loss: 0.5252 - acc: 0.7215 - val_loss: 0.5924 - val_acc: 0.7338\n",
            "Epoch 892/1000\n",
            "614/614 [==============================] - 0s 21us/step - loss: 0.5072 - acc: 0.7394 - val_loss: 0.5923 - val_acc: 0.7338\n",
            "Epoch 893/1000\n",
            "614/614 [==============================] - 0s 16us/step - loss: 0.5269 - acc: 0.7182 - val_loss: 0.5902 - val_acc: 0.7338\n",
            "Epoch 894/1000\n",
            "614/614 [==============================] - 0s 19us/step - loss: 0.5024 - acc: 0.7313 - val_loss: 0.5903 - val_acc: 0.7468\n",
            "Epoch 895/1000\n",
            "614/614 [==============================] - 0s 16us/step - loss: 0.5133 - acc: 0.7296 - val_loss: 0.5923 - val_acc: 0.7078\n",
            "Epoch 896/1000\n",
            "614/614 [==============================] - 0s 23us/step - loss: 0.5207 - acc: 0.7166 - val_loss: 0.5923 - val_acc: 0.7078\n",
            "Epoch 897/1000\n",
            "614/614 [==============================] - 0s 18us/step - loss: 0.5250 - acc: 0.7248 - val_loss: 0.5908 - val_acc: 0.7338\n",
            "Epoch 898/1000\n",
            "614/614 [==============================] - 0s 21us/step - loss: 0.4994 - acc: 0.7541 - val_loss: 0.5899 - val_acc: 0.7208\n",
            "Epoch 899/1000\n",
            "614/614 [==============================] - 0s 19us/step - loss: 0.5216 - acc: 0.7231 - val_loss: 0.5898 - val_acc: 0.7208\n",
            "Epoch 900/1000\n",
            "614/614 [==============================] - 0s 20us/step - loss: 0.5208 - acc: 0.7557 - val_loss: 0.5907 - val_acc: 0.7013\n",
            "Epoch 901/1000\n",
            "614/614 [==============================] - 0s 21us/step - loss: 0.5116 - acc: 0.7378 - val_loss: 0.5914 - val_acc: 0.7078\n",
            "Epoch 902/1000\n",
            "614/614 [==============================] - 0s 16us/step - loss: 0.5078 - acc: 0.7557 - val_loss: 0.5938 - val_acc: 0.7143\n",
            "Epoch 903/1000\n",
            "614/614 [==============================] - 0s 19us/step - loss: 0.5168 - acc: 0.7427 - val_loss: 0.5951 - val_acc: 0.7078\n",
            "Epoch 904/1000\n",
            "614/614 [==============================] - 0s 21us/step - loss: 0.4968 - acc: 0.7362 - val_loss: 0.5964 - val_acc: 0.7208\n",
            "Epoch 905/1000\n",
            "614/614 [==============================] - 0s 18us/step - loss: 0.5179 - acc: 0.7313 - val_loss: 0.5976 - val_acc: 0.7143\n",
            "Epoch 906/1000\n",
            "614/614 [==============================] - 0s 22us/step - loss: 0.5126 - acc: 0.7329 - val_loss: 0.5982 - val_acc: 0.7078\n",
            "Epoch 907/1000\n",
            "614/614 [==============================] - 0s 17us/step - loss: 0.5221 - acc: 0.7231 - val_loss: 0.5964 - val_acc: 0.7273\n",
            "Epoch 908/1000\n",
            "614/614 [==============================] - 0s 18us/step - loss: 0.5236 - acc: 0.7313 - val_loss: 0.5935 - val_acc: 0.7078\n",
            "Epoch 909/1000\n",
            "614/614 [==============================] - 0s 22us/step - loss: 0.5270 - acc: 0.7280 - val_loss: 0.5921 - val_acc: 0.7143\n",
            "Epoch 910/1000\n",
            "614/614 [==============================] - 0s 20us/step - loss: 0.5093 - acc: 0.7329 - val_loss: 0.5909 - val_acc: 0.7208\n",
            "Epoch 911/1000\n",
            "614/614 [==============================] - 0s 21us/step - loss: 0.5276 - acc: 0.7182 - val_loss: 0.5908 - val_acc: 0.7208\n",
            "Epoch 912/1000\n",
            "614/614 [==============================] - 0s 19us/step - loss: 0.5187 - acc: 0.7280 - val_loss: 0.5913 - val_acc: 0.7208\n",
            "Epoch 913/1000\n",
            "614/614 [==============================] - 0s 18us/step - loss: 0.5103 - acc: 0.7248 - val_loss: 0.5914 - val_acc: 0.7208\n",
            "Epoch 914/1000\n",
            "614/614 [==============================] - 0s 20us/step - loss: 0.5389 - acc: 0.7101 - val_loss: 0.5902 - val_acc: 0.7208\n",
            "Epoch 915/1000\n",
            "614/614 [==============================] - 0s 21us/step - loss: 0.5118 - acc: 0.7264 - val_loss: 0.5884 - val_acc: 0.7208\n",
            "Epoch 916/1000\n",
            "614/614 [==============================] - 0s 20us/step - loss: 0.5143 - acc: 0.7150 - val_loss: 0.5880 - val_acc: 0.7208\n",
            "Epoch 917/1000\n",
            "614/614 [==============================] - 0s 22us/step - loss: 0.5190 - acc: 0.7427 - val_loss: 0.5886 - val_acc: 0.7208\n",
            "Epoch 918/1000\n",
            "614/614 [==============================] - 0s 18us/step - loss: 0.5231 - acc: 0.7134 - val_loss: 0.5895 - val_acc: 0.7208\n",
            "Epoch 919/1000\n",
            "614/614 [==============================] - 0s 19us/step - loss: 0.5118 - acc: 0.7557 - val_loss: 0.5907 - val_acc: 0.7273\n",
            "Epoch 920/1000\n",
            "614/614 [==============================] - 0s 23us/step - loss: 0.5035 - acc: 0.7508 - val_loss: 0.5928 - val_acc: 0.7208\n",
            "Epoch 921/1000\n",
            "614/614 [==============================] - 0s 21us/step - loss: 0.5281 - acc: 0.7362 - val_loss: 0.5944 - val_acc: 0.7208\n",
            "Epoch 922/1000\n",
            "614/614 [==============================] - 0s 21us/step - loss: 0.5165 - acc: 0.7264 - val_loss: 0.5931 - val_acc: 0.7208\n",
            "Epoch 923/1000\n",
            "614/614 [==============================] - 0s 20us/step - loss: 0.5237 - acc: 0.7215 - val_loss: 0.5901 - val_acc: 0.7273\n",
            "Epoch 924/1000\n",
            "614/614 [==============================] - 0s 22us/step - loss: 0.5338 - acc: 0.7248 - val_loss: 0.5906 - val_acc: 0.7273\n",
            "Epoch 925/1000\n",
            "614/614 [==============================] - 0s 19us/step - loss: 0.5218 - acc: 0.7248 - val_loss: 0.5928 - val_acc: 0.7208\n",
            "Epoch 926/1000\n",
            "614/614 [==============================] - 0s 18us/step - loss: 0.5064 - acc: 0.7150 - val_loss: 0.5949 - val_acc: 0.7208\n",
            "Epoch 927/1000\n",
            "614/614 [==============================] - 0s 24us/step - loss: 0.5044 - acc: 0.7313 - val_loss: 0.5966 - val_acc: 0.7208\n",
            "Epoch 928/1000\n",
            "614/614 [==============================] - 0s 23us/step - loss: 0.5112 - acc: 0.7345 - val_loss: 0.5970 - val_acc: 0.7143\n",
            "Epoch 929/1000\n",
            "614/614 [==============================] - 0s 23us/step - loss: 0.4993 - acc: 0.7394 - val_loss: 0.5972 - val_acc: 0.7143\n",
            "Epoch 930/1000\n",
            "614/614 [==============================] - 0s 20us/step - loss: 0.4979 - acc: 0.7557 - val_loss: 0.5965 - val_acc: 0.7143\n",
            "Epoch 931/1000\n",
            "614/614 [==============================] - 0s 20us/step - loss: 0.5400 - acc: 0.7101 - val_loss: 0.5959 - val_acc: 0.7013\n",
            "Epoch 932/1000\n",
            "614/614 [==============================] - 0s 19us/step - loss: 0.5084 - acc: 0.7329 - val_loss: 0.5956 - val_acc: 0.6948\n",
            "Epoch 933/1000\n",
            "614/614 [==============================] - 0s 19us/step - loss: 0.5066 - acc: 0.7280 - val_loss: 0.5945 - val_acc: 0.7143\n",
            "Epoch 934/1000\n",
            "614/614 [==============================] - 0s 18us/step - loss: 0.5020 - acc: 0.7508 - val_loss: 0.5933 - val_acc: 0.7078\n",
            "Epoch 935/1000\n",
            "614/614 [==============================] - 0s 20us/step - loss: 0.5140 - acc: 0.7296 - val_loss: 0.5923 - val_acc: 0.7143\n",
            "Epoch 936/1000\n",
            "614/614 [==============================] - 0s 18us/step - loss: 0.5201 - acc: 0.7199 - val_loss: 0.5928 - val_acc: 0.7208\n",
            "Epoch 937/1000\n",
            "614/614 [==============================] - 0s 23us/step - loss: 0.5190 - acc: 0.7166 - val_loss: 0.5932 - val_acc: 0.7273\n",
            "Epoch 938/1000\n",
            "614/614 [==============================] - 0s 22us/step - loss: 0.5329 - acc: 0.7248 - val_loss: 0.5933 - val_acc: 0.7208\n",
            "Epoch 939/1000\n",
            "614/614 [==============================] - 0s 26us/step - loss: 0.5417 - acc: 0.7134 - val_loss: 0.5932 - val_acc: 0.7143\n",
            "Epoch 940/1000\n",
            "614/614 [==============================] - 0s 19us/step - loss: 0.5031 - acc: 0.7557 - val_loss: 0.5931 - val_acc: 0.7208\n",
            "Epoch 941/1000\n",
            "614/614 [==============================] - 0s 19us/step - loss: 0.5064 - acc: 0.7443 - val_loss: 0.5931 - val_acc: 0.7143\n",
            "Epoch 942/1000\n",
            "614/614 [==============================] - 0s 22us/step - loss: 0.5107 - acc: 0.7427 - val_loss: 0.5930 - val_acc: 0.7143\n",
            "Epoch 943/1000\n",
            "614/614 [==============================] - 0s 19us/step - loss: 0.5040 - acc: 0.7492 - val_loss: 0.5943 - val_acc: 0.7143\n",
            "Epoch 944/1000\n",
            "614/614 [==============================] - 0s 22us/step - loss: 0.5127 - acc: 0.7378 - val_loss: 0.5960 - val_acc: 0.7208\n",
            "Epoch 945/1000\n",
            "614/614 [==============================] - 0s 16us/step - loss: 0.5042 - acc: 0.7378 - val_loss: 0.5958 - val_acc: 0.7143\n",
            "Epoch 946/1000\n",
            "614/614 [==============================] - 0s 21us/step - loss: 0.5166 - acc: 0.7280 - val_loss: 0.5953 - val_acc: 0.7143\n",
            "Epoch 947/1000\n",
            "614/614 [==============================] - 0s 19us/step - loss: 0.5248 - acc: 0.7296 - val_loss: 0.5943 - val_acc: 0.7143\n",
            "Epoch 948/1000\n",
            "614/614 [==============================] - 0s 19us/step - loss: 0.5222 - acc: 0.7410 - val_loss: 0.5935 - val_acc: 0.7208\n",
            "Epoch 949/1000\n",
            "614/614 [==============================] - 0s 20us/step - loss: 0.4978 - acc: 0.7378 - val_loss: 0.5938 - val_acc: 0.7208\n",
            "Epoch 950/1000\n",
            "614/614 [==============================] - 0s 18us/step - loss: 0.5142 - acc: 0.7345 - val_loss: 0.5957 - val_acc: 0.7143\n",
            "Epoch 951/1000\n",
            "614/614 [==============================] - 0s 19us/step - loss: 0.5028 - acc: 0.7508 - val_loss: 0.5969 - val_acc: 0.7078\n",
            "Epoch 952/1000\n",
            "614/614 [==============================] - 0s 24us/step - loss: 0.5285 - acc: 0.7231 - val_loss: 0.5956 - val_acc: 0.7143\n",
            "Epoch 953/1000\n",
            "614/614 [==============================] - 0s 28us/step - loss: 0.5229 - acc: 0.7378 - val_loss: 0.5929 - val_acc: 0.7208\n",
            "Epoch 954/1000\n",
            "614/614 [==============================] - 0s 20us/step - loss: 0.5244 - acc: 0.7313 - val_loss: 0.5916 - val_acc: 0.7273\n",
            "Epoch 955/1000\n",
            "614/614 [==============================] - 0s 20us/step - loss: 0.5205 - acc: 0.7264 - val_loss: 0.5942 - val_acc: 0.7143\n",
            "Epoch 956/1000\n",
            "614/614 [==============================] - 0s 20us/step - loss: 0.5240 - acc: 0.7329 - val_loss: 0.5958 - val_acc: 0.7078\n",
            "Epoch 957/1000\n",
            "614/614 [==============================] - 0s 20us/step - loss: 0.5026 - acc: 0.7427 - val_loss: 0.5959 - val_acc: 0.7078\n",
            "Epoch 958/1000\n",
            "614/614 [==============================] - 0s 20us/step - loss: 0.5121 - acc: 0.7296 - val_loss: 0.5980 - val_acc: 0.7078\n",
            "Epoch 959/1000\n",
            "614/614 [==============================] - 0s 19us/step - loss: 0.5117 - acc: 0.7476 - val_loss: 0.6001 - val_acc: 0.6948\n",
            "Epoch 960/1000\n",
            "614/614 [==============================] - 0s 20us/step - loss: 0.5199 - acc: 0.7410 - val_loss: 0.6005 - val_acc: 0.6948\n",
            "Epoch 961/1000\n",
            "614/614 [==============================] - 0s 20us/step - loss: 0.5181 - acc: 0.7280 - val_loss: 0.5993 - val_acc: 0.6948\n",
            "Epoch 962/1000\n",
            "614/614 [==============================] - 0s 20us/step - loss: 0.4969 - acc: 0.7362 - val_loss: 0.5996 - val_acc: 0.7013\n",
            "Epoch 963/1000\n",
            "614/614 [==============================] - 0s 19us/step - loss: 0.5161 - acc: 0.7362 - val_loss: 0.6008 - val_acc: 0.7013\n",
            "Epoch 964/1000\n",
            "614/614 [==============================] - 0s 20us/step - loss: 0.5179 - acc: 0.7345 - val_loss: 0.5992 - val_acc: 0.7078\n",
            "Epoch 965/1000\n",
            "614/614 [==============================] - 0s 18us/step - loss: 0.5052 - acc: 0.7296 - val_loss: 0.5969 - val_acc: 0.7013\n",
            "Epoch 966/1000\n",
            "614/614 [==============================] - 0s 25us/step - loss: 0.5148 - acc: 0.7313 - val_loss: 0.5961 - val_acc: 0.7078\n",
            "Epoch 967/1000\n",
            "614/614 [==============================] - 0s 18us/step - loss: 0.5099 - acc: 0.7410 - val_loss: 0.5970 - val_acc: 0.7078\n",
            "Epoch 968/1000\n",
            "614/614 [==============================] - 0s 24us/step - loss: 0.5213 - acc: 0.7264 - val_loss: 0.5960 - val_acc: 0.7143\n",
            "Epoch 969/1000\n",
            "614/614 [==============================] - 0s 28us/step - loss: 0.5158 - acc: 0.7199 - val_loss: 0.5963 - val_acc: 0.7143\n",
            "Epoch 970/1000\n",
            "614/614 [==============================] - 0s 20us/step - loss: 0.5073 - acc: 0.7492 - val_loss: 0.5976 - val_acc: 0.7143\n",
            "Epoch 971/1000\n",
            "614/614 [==============================] - 0s 18us/step - loss: 0.5170 - acc: 0.7264 - val_loss: 0.5979 - val_acc: 0.7143\n",
            "Epoch 972/1000\n",
            "614/614 [==============================] - 0s 18us/step - loss: 0.5193 - acc: 0.7231 - val_loss: 0.5971 - val_acc: 0.7143\n",
            "Epoch 973/1000\n",
            "614/614 [==============================] - 0s 19us/step - loss: 0.5202 - acc: 0.7394 - val_loss: 0.5961 - val_acc: 0.7143\n",
            "Epoch 974/1000\n",
            "614/614 [==============================] - 0s 17us/step - loss: 0.5049 - acc: 0.7215 - val_loss: 0.5951 - val_acc: 0.7273\n",
            "Epoch 975/1000\n",
            "614/614 [==============================] - 0s 21us/step - loss: 0.5145 - acc: 0.7492 - val_loss: 0.5946 - val_acc: 0.7273\n",
            "Epoch 976/1000\n",
            "614/614 [==============================] - 0s 31us/step - loss: 0.4867 - acc: 0.7606 - val_loss: 0.5955 - val_acc: 0.7273\n",
            "Epoch 977/1000\n",
            "614/614 [==============================] - 0s 20us/step - loss: 0.5260 - acc: 0.7296 - val_loss: 0.5962 - val_acc: 0.7273\n",
            "Epoch 978/1000\n",
            "614/614 [==============================] - 0s 20us/step - loss: 0.5059 - acc: 0.7476 - val_loss: 0.5956 - val_acc: 0.7273\n",
            "Epoch 979/1000\n",
            "614/614 [==============================] - 0s 22us/step - loss: 0.5122 - acc: 0.7345 - val_loss: 0.5950 - val_acc: 0.7273\n",
            "Epoch 980/1000\n",
            "614/614 [==============================] - 0s 18us/step - loss: 0.5170 - acc: 0.7378 - val_loss: 0.5954 - val_acc: 0.7143\n",
            "Epoch 981/1000\n",
            "614/614 [==============================] - 0s 17us/step - loss: 0.5085 - acc: 0.7313 - val_loss: 0.5981 - val_acc: 0.7078\n",
            "Epoch 982/1000\n",
            "614/614 [==============================] - 0s 16us/step - loss: 0.4999 - acc: 0.7573 - val_loss: 0.6011 - val_acc: 0.7078\n",
            "Epoch 983/1000\n",
            "614/614 [==============================] - 0s 16us/step - loss: 0.5213 - acc: 0.7052 - val_loss: 0.6026 - val_acc: 0.7013\n",
            "Epoch 984/1000\n",
            "614/614 [==============================] - 0s 20us/step - loss: 0.5036 - acc: 0.7394 - val_loss: 0.6016 - val_acc: 0.7013\n",
            "Epoch 985/1000\n",
            "614/614 [==============================] - 0s 19us/step - loss: 0.5000 - acc: 0.7427 - val_loss: 0.6011 - val_acc: 0.7143\n",
            "Epoch 986/1000\n",
            "614/614 [==============================] - 0s 25us/step - loss: 0.5096 - acc: 0.7394 - val_loss: 0.5994 - val_acc: 0.7143\n",
            "Epoch 987/1000\n",
            "614/614 [==============================] - 0s 26us/step - loss: 0.5210 - acc: 0.7231 - val_loss: 0.5979 - val_acc: 0.7208\n",
            "Epoch 988/1000\n",
            "614/614 [==============================] - 0s 21us/step - loss: 0.5075 - acc: 0.7329 - val_loss: 0.5978 - val_acc: 0.7208\n",
            "Epoch 989/1000\n",
            "614/614 [==============================] - 0s 22us/step - loss: 0.5093 - acc: 0.7296 - val_loss: 0.5984 - val_acc: 0.7273\n",
            "Epoch 990/1000\n",
            "614/614 [==============================] - 0s 23us/step - loss: 0.5378 - acc: 0.7085 - val_loss: 0.5985 - val_acc: 0.7273\n",
            "Epoch 991/1000\n",
            "614/614 [==============================] - 0s 19us/step - loss: 0.5041 - acc: 0.7313 - val_loss: 0.5988 - val_acc: 0.7273\n",
            "Epoch 992/1000\n",
            "614/614 [==============================] - 0s 19us/step - loss: 0.5262 - acc: 0.7280 - val_loss: 0.5976 - val_acc: 0.7208\n",
            "Epoch 993/1000\n",
            "614/614 [==============================] - 0s 26us/step - loss: 0.5101 - acc: 0.7378 - val_loss: 0.5973 - val_acc: 0.7143\n",
            "Epoch 994/1000\n",
            "614/614 [==============================] - 0s 16us/step - loss: 0.5105 - acc: 0.7280 - val_loss: 0.5965 - val_acc: 0.7273\n",
            "Epoch 995/1000\n",
            "614/614 [==============================] - 0s 20us/step - loss: 0.5130 - acc: 0.7443 - val_loss: 0.5936 - val_acc: 0.7273\n",
            "Epoch 996/1000\n",
            "614/614 [==============================] - 0s 19us/step - loss: 0.5108 - acc: 0.7345 - val_loss: 0.5927 - val_acc: 0.7338\n",
            "Epoch 997/1000\n",
            "614/614 [==============================] - 0s 20us/step - loss: 0.5281 - acc: 0.7264 - val_loss: 0.5923 - val_acc: 0.7273\n",
            "Epoch 998/1000\n",
            "614/614 [==============================] - 0s 17us/step - loss: 0.5142 - acc: 0.7427 - val_loss: 0.5918 - val_acc: 0.7338\n",
            "Epoch 999/1000\n",
            "614/614 [==============================] - 0s 19us/step - loss: 0.5029 - acc: 0.7459 - val_loss: 0.5937 - val_acc: 0.7208\n",
            "Epoch 1000/1000\n",
            "614/614 [==============================] - 0s 20us/step - loss: 0.5109 - acc: 0.7410 - val_loss: 0.5958 - val_acc: 0.7208\n"
          ],
          "name": "stdout"
        }
      ]
    },
    {
      "metadata": {
        "id": "6likcSNtpCvV",
        "colab_type": "code",
        "colab": {
          "base_uri": "https://localhost:8080/",
          "height": 282
        },
        "outputId": "cce4035b-37e0-4ead-a6a2-4ee931e24831"
      },
      "cell_type": "code",
      "source": [
        "df_acc = pd.DataFrame({\"acc\" :history.history['acc'],\n",
        "                   \"val_acc\" :history.history['val_acc']})\n",
        "df_loss = pd.DataFrame({\"loss\" :history.history['loss'],\n",
        "                   \"val_loss\" :history.history['val_loss']})\n",
        "\n",
        "sns.set_style(\"ticks\")\n",
        "sns.set_context(\"notebook\", font_scale=1.5, rc={\"lines.linewidth\": 1})\n",
        "ax = sns.lineplot(data=df_acc)"
      ],
      "execution_count": 144,
      "outputs": [
        {
          "output_type": "display_data",
          "data": {
            "image/png": "[encoded data removed]",
            "text/plain": [
              "<Figure size 432x288 with 1 Axes>"
            ]
          },
          "metadata": {
            "tags": []
          }
        }
      ]
    },
    {
      "metadata": {
        "id": "CpZbF4OOrpaf",
        "colab_type": "code",
        "colab": {
          "base_uri": "https://localhost:8080/",
          "height": 282
        },
        "outputId": "916b7d14-a2a6-47cc-abac-356d2dbb555d"
      },
      "cell_type": "code",
      "source": [
        "ax = sns.lineplot(data=df_loss)"
      ],
      "execution_count": 145,
      "outputs": [
        {
          "output_type": "display_data",
          "data": {
            "image/png": "[encoded data removed]",
            "text/plain": [
              "<Figure size 432x288 with 1 Axes>"
            ]
          },
          "metadata": {
            "tags": []
          }
        }
      ]
    },
    {
      "metadata": {
        "id": "boQTjaJRXqud",
        "colab_type": "text"
      },
      "cell_type": "markdown",
      "source": [
        "### Question 4.2. Build a logistic regression model using the training set, and evaluate the training and validation set accuracy of the resulting model. (5 points)\n",
        "Feel free to use any pre-built functions for logistic regression.\n",
        "\n",
        "Hint: https://scikit-learn.org/stable/modules/classes.html#module-sklearn.linear_model"
      ]
    },
    {
      "metadata": {
        "id": "9ZGLUdNqw7kk",
        "colab_type": "code",
        "colab": {
          "base_uri": "https://localhost:8080/",
          "height": 71
        },
        "outputId": "10db5cae-6e1e-40b9-dbe8-1cd2f793b4de"
      },
      "cell_type": "code",
      "source": [
        "# Your codes and answers here\n",
        "# I already created such a model in the first excercise, I copy the code from below\n",
        "# I also add the same metrics\n",
        "from sklearn.linear_model import LogisticRegression\n",
        "\n",
        "clf = LogisticRegression(random_state=0).fit(X_train, y_train)"
      ],
      "execution_count": 146,
      "outputs": [
        {
          "output_type": "stream",
          "text": [
            "/usr/local/lib/python3.6/dist-packages/sklearn/linear_model/logistic.py:433: FutureWarning: Default solver will be changed to 'lbfgs' in 0.22. Specify a solver to silence this warning.\n",
            "  FutureWarning)\n"
          ],
          "name": "stderr"
        }
      ]
    },
    {
      "metadata": {
        "id": "o28pZoMRs7gB",
        "colab_type": "code",
        "colab": {
          "base_uri": "https://localhost:8080/",
          "height": 34
        },
        "outputId": "4c208af4-a013-42bd-bab0-340278f2c19e"
      },
      "cell_type": "code",
      "source": [
        "# Training accuracy \n",
        "sklearn.metrics.accuracy_score(y_train, clf.predict(X_train))"
      ],
      "execution_count": 147,
      "outputs": [
        {
          "output_type": "execute_result",
          "data": {
            "text/plain": [
              "0.7654723127035831"
            ]
          },
          "metadata": {
            "tags": []
          },
          "execution_count": 147
        }
      ]
    },
    {
      "metadata": {
        "id": "V-i46J4Ms9jA",
        "colab_type": "code",
        "colab": {
          "base_uri": "https://localhost:8080/",
          "height": 34
        },
        "outputId": "4c3b3fab-84d1-4fc6-9664-9196725776ce"
      },
      "cell_type": "code",
      "source": [
        "#Testing accuracy\n",
        "sklearn.metrics.accuracy_score(y_val, clf.predict(X_val))"
      ],
      "execution_count": 148,
      "outputs": [
        {
          "output_type": "execute_result",
          "data": {
            "text/plain": [
              "0.7337662337662337"
            ]
          },
          "metadata": {
            "tags": []
          },
          "execution_count": 148
        }
      ]
    },
    {
      "metadata": {
        "id": "HmV7MmTdtKlf",
        "colab_type": "text"
      },
      "cell_type": "markdown",
      "source": [
        "Now I compare the two metrics to the final version of the neural network"
      ]
    },
    {
      "metadata": {
        "id": "tfYZvsLatOgT",
        "colab_type": "code",
        "colab": {
          "base_uri": "https://localhost:8080/",
          "height": 34
        },
        "outputId": "3b9624a8-9592-424f-bead-247f4a7e0c18"
      },
      "cell_type": "code",
      "source": [
        "# Training accuracy \n",
        "sklearn.metrics.accuracy_score(y_train, model.predict_classes(X_train))"
      ],
      "execution_count": 149,
      "outputs": [
        {
          "output_type": "execute_result",
          "data": {
            "text/plain": [
              "0.760586319218241"
            ]
          },
          "metadata": {
            "tags": []
          },
          "execution_count": 149
        }
      ]
    },
    {
      "metadata": {
        "id": "1MZV87QYtR8c",
        "colab_type": "code",
        "colab": {
          "base_uri": "https://localhost:8080/",
          "height": 34
        },
        "outputId": "bba068fd-8879-4130-bac0-f10218310ada"
      },
      "cell_type": "code",
      "source": [
        "#Testing accuracy\n",
        "sklearn.metrics.accuracy_score(y_val, model.predict_classes(X_val))"
      ],
      "execution_count": 150,
      "outputs": [
        {
          "output_type": "execute_result",
          "data": {
            "text/plain": [
              "0.7207792207792207"
            ]
          },
          "metadata": {
            "tags": []
          },
          "execution_count": 150
        }
      ]
    },
    {
      "metadata": {
        "id": "on94uP4Wr2kJ",
        "colab_type": "text"
      },
      "cell_type": "markdown",
      "source": [
        "### Question 4.3. Does your multi-layer neural network perform better than the logistic regression model? Why or why not (name three reasons)? (5 points)\n",
        "Word limit: 200 words.\n"
      ]
    },
    {
      "metadata": {
        "id": "RBh6MYoLw9PE",
        "colab_type": "code",
        "colab": {}
      },
      "cell_type": "code",
      "source": [
        "# Your answers here"
      ],
      "execution_count": 0,
      "outputs": []
    },
    {
      "metadata": {
        "id": "oIE9f1sgtqn-",
        "colab_type": "text"
      },
      "cell_type": "markdown",
      "source": [
        "The neural network performs slightly worse on the validation dataset and slightly better on the training data. This is an indication for overfitting. Although I introduced a dropout of 0.5, the model still appears to be to flexible. \n",
        "\n",
        "In summary, these are potential reasons: \n",
        "\n",
        "*   Overfitting due to insufficient regularization\n",
        "*   Overfitting due to many neurons in the hidden layer\n",
        "*   Suboptimal optimizer choice\n",
        "\n"
      ]
    }
  ]
}